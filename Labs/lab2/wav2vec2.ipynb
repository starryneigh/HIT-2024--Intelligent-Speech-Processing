{
  "cells": [
    {
      "cell_type": "markdown",
      "metadata": {
        "id": "5fbCls1d2yBs"
      },
      "source": [
        "# 智能语音处理 实验2 Wav2vec2"
      ]
    },
    {
      "cell_type": "markdown",
      "metadata": {
        "id": "sp37lZOV2042"
      },
      "source": [
        "**Wav2Vec 2.0** 是自动语音识别 (ASR) 的预训练模型，于 [2020 年 9 月](https://ai.facebook.com/blog/wav2vec-20-learning-the-struct-of-Speech-from-raw-audio/)发布，作者：Alexei Baevski、Michael Auli 和 Alex Conneau。 在英语 ASR 数据集 LibriSpeech 上展示 Wav2Vec2 的卓越性能后不久，*Facebook AI* 推出了 XLSR-Wav2Vec2（点击[此处](https://arxiv.org/abs/2006.13979)）。 XLSR 代表“跨语言语音表示”，指的是 XLSR-Wav2Vec2 学习跨多种语言有用的语音表示的能力。\n",
        "\n",
        "与 Wav2Vec2 类似，XLSR-Wav2Vec2从50多种语言的未标记语音的数十万小时语音中学习强大的语音表示。与[BERT的掩码语言建模](http://jalammar.github.io/illusterated-bert/) 类似，该模型通过在将特征向量传递到transformer之前随机屏蔽特征向量来学习上下文语音表示。\n",
        "\n",
        "![wav2vec2_structure](./img/xlsr_wav2vec2.png)\n",
        "\n",
        "作者首次证明，在跨语言未标记语音数据上大规模预训练 ASR 模型，然后对很少的标记数据进行特定于语言的微调，可实现最先进的结果。 参见官方[paper](https://arxiv.org/pdf/2006.13979.pdf)的表1-5。"
      ]
    },
    {
      "cell_type": "markdown",
      "metadata": {
        "id": "y0xJwDkA3QQR"
      },
      "source": [
        "在此notebook中，我们将使用此模型来对语音进行分类。"
      ]
    },
    {
      "cell_type": "markdown",
      "metadata": {
        "id": "krC50MmmvBWJ"
      },
      "source": [
        "## Load Data\n",
        "\n",
        "我们使用[Jeannette Shijie Ma](https://www.kaggle.com/mashijie)的[Eating Sound Collection](https://www.kaggle.com/mashijie/eating-sound-collection)数据集。 \n"
      ]
    },
    {
      "cell_type": "markdown",
      "metadata": {},
      "source": [
        "首先导入所需python库"
      ]
    },
    {
      "cell_type": "code",
      "execution_count": 1,
      "metadata": {
        "id": "pFSqZ0jwCMSv"
      },
      "outputs": [],
      "source": [
        "import numpy as np\n",
        "import pandas as pd\n",
        "\n",
        "from pathlib import Path\n",
        "from tqdm import tqdm\n",
        "\n",
        "import torchaudio\n",
        "from sklearn.model_selection import train_test_split\n",
        "\n",
        "import os\n",
        "import sys"
      ]
    },
    {
      "cell_type": "code",
      "execution_count": 2,
      "metadata": {
        "colab": {
          "base_uri": "https://localhost:8080/"
        },
        "id": "7MXAESg_Dqr6",
        "outputId": "8bc4b0df-7a50-42ee-af4b-fdd52beae66a"
      },
      "outputs": [
        {
          "name": "stderr",
          "output_type": "stream",
          "text": [
            "11140it [00:40, 271.83it/s]\n"
          ]
        }
      ],
      "source": [
        "data = []\n",
        "\n",
        "for path in tqdm(Path(\"./content/data/clips_rd/\").glob(\"**/*.wav\")):\n",
        "    name = str(path).split('/')[-1].split('.')[0]\n",
        "    label = str(path).split('/')[-2]\n",
        "    # 删除掉损坏的文件\n",
        "    try:\n",
        "        s = torchaudio.load(str(path))\n",
        "        data.append({\n",
        "            \"path\": path,\n",
        "            \"label\": label\n",
        "        })\n",
        "    except Exception as e:\n",
        "        print(str(path), e)\n",
        "        pass"
      ]
    },
    {
      "cell_type": "markdown",
      "metadata": {},
      "source": [
        "查看wav文件"
      ]
    },
    {
      "cell_type": "code",
      "execution_count": 3,
      "metadata": {
        "colab": {
          "base_uri": "https://localhost:8080/",
          "height": 204
        },
        "id": "10b89ZpLDqx9",
        "outputId": "9aaf95d6-b1d1-40c3-fff1-244b164b1e9b"
      },
      "outputs": [
        {
          "data": {
            "text/html": [
              "<div>\n",
              "<style scoped>\n",
              "    .dataframe tbody tr th:only-of-type {\n",
              "        vertical-align: middle;\n",
              "    }\n",
              "\n",
              "    .dataframe tbody tr th {\n",
              "        vertical-align: top;\n",
              "    }\n",
              "\n",
              "    .dataframe thead th {\n",
              "        text-align: right;\n",
              "    }\n",
              "</style>\n",
              "<table border=\"1\" class=\"dataframe\">\n",
              "  <thead>\n",
              "    <tr style=\"text-align: right;\">\n",
              "      <th></th>\n",
              "      <th>path</th>\n",
              "      <th>label</th>\n",
              "    </tr>\n",
              "  </thead>\n",
              "  <tbody>\n",
              "    <tr>\n",
              "      <th>0</th>\n",
              "      <td>content/data/clips_rd/pizza/pizza_7_63.wav</td>\n",
              "      <td>pizza</td>\n",
              "    </tr>\n",
              "    <tr>\n",
              "      <th>1</th>\n",
              "      <td>content/data/clips_rd/pizza/pizza_11_02.wav</td>\n",
              "      <td>pizza</td>\n",
              "    </tr>\n",
              "    <tr>\n",
              "      <th>2</th>\n",
              "      <td>content/data/clips_rd/pizza/pizza_8_31.wav</td>\n",
              "      <td>pizza</td>\n",
              "    </tr>\n",
              "    <tr>\n",
              "      <th>3</th>\n",
              "      <td>content/data/clips_rd/pizza/pizza_6_04.wav</td>\n",
              "      <td>pizza</td>\n",
              "    </tr>\n",
              "    <tr>\n",
              "      <th>4</th>\n",
              "      <td>content/data/clips_rd/pizza/pizza_7_25.wav</td>\n",
              "      <td>pizza</td>\n",
              "    </tr>\n",
              "  </tbody>\n",
              "</table>\n",
              "</div>"
            ],
            "text/plain": [
              "                                          path  label\n",
              "0   content/data/clips_rd/pizza/pizza_7_63.wav  pizza\n",
              "1  content/data/clips_rd/pizza/pizza_11_02.wav  pizza\n",
              "2   content/data/clips_rd/pizza/pizza_8_31.wav  pizza\n",
              "3   content/data/clips_rd/pizza/pizza_6_04.wav  pizza\n",
              "4   content/data/clips_rd/pizza/pizza_7_25.wav  pizza"
            ]
          },
          "execution_count": 3,
          "metadata": {},
          "output_type": "execute_result"
        }
      ],
      "source": [
        "df = pd.DataFrame(data)\n",
        "df.head()"
      ]
    },
    {
      "cell_type": "code",
      "execution_count": 4,
      "metadata": {
        "colab": {
          "base_uri": "https://localhost:8080/",
          "height": 238
        },
        "id": "iMhTHur8voOp",
        "outputId": "2e4e80c1-b63a-4254-c728-758ce27cec84"
      },
      "outputs": [
        {
          "name": "stdout",
          "output_type": "stream",
          "text": [
            "before delete: 11140\n"
          ]
        },
        {
          "name": "stdout",
          "output_type": "stream",
          "text": [
            "after delete: 11140\n"
          ]
        },
        {
          "data": {
            "text/html": [
              "<div>\n",
              "<style scoped>\n",
              "    .dataframe tbody tr th:only-of-type {\n",
              "        vertical-align: middle;\n",
              "    }\n",
              "\n",
              "    .dataframe tbody tr th {\n",
              "        vertical-align: top;\n",
              "    }\n",
              "\n",
              "    .dataframe thead th {\n",
              "        text-align: right;\n",
              "    }\n",
              "</style>\n",
              "<table border=\"1\" class=\"dataframe\">\n",
              "  <thead>\n",
              "    <tr style=\"text-align: right;\">\n",
              "      <th></th>\n",
              "      <th>path</th>\n",
              "      <th>label</th>\n",
              "    </tr>\n",
              "  </thead>\n",
              "  <tbody>\n",
              "    <tr>\n",
              "      <th>0</th>\n",
              "      <td>content/data/clips_rd/grapes/grapes_3_22.wav</td>\n",
              "      <td>grapes</td>\n",
              "    </tr>\n",
              "    <tr>\n",
              "      <th>1</th>\n",
              "      <td>content/data/clips_rd/chips/chips_9_29.wav</td>\n",
              "      <td>chips</td>\n",
              "    </tr>\n",
              "    <tr>\n",
              "      <th>2</th>\n",
              "      <td>content/data/clips_rd/candied_fruits/candied_f...</td>\n",
              "      <td>candied_fruits</td>\n",
              "    </tr>\n",
              "    <tr>\n",
              "      <th>3</th>\n",
              "      <td>content/data/clips_rd/cabbage/cabbage_3_01.wav</td>\n",
              "      <td>cabbage</td>\n",
              "    </tr>\n",
              "    <tr>\n",
              "      <th>4</th>\n",
              "      <td>content/data/clips_rd/gummies/gummies_12_50.wav</td>\n",
              "      <td>gummies</td>\n",
              "    </tr>\n",
              "  </tbody>\n",
              "</table>\n",
              "</div>"
            ],
            "text/plain": [
              "                                                path           label\n",
              "0       content/data/clips_rd/grapes/grapes_3_22.wav          grapes\n",
              "1         content/data/clips_rd/chips/chips_9_29.wav           chips\n",
              "2  content/data/clips_rd/candied_fruits/candied_f...  candied_fruits\n",
              "3     content/data/clips_rd/cabbage/cabbage_3_01.wav         cabbage\n",
              "4    content/data/clips_rd/gummies/gummies_12_50.wav         gummies"
            ]
          },
          "execution_count": 4,
          "metadata": {},
          "output_type": "execute_result"
        }
      ],
      "source": [
        "# 删除掉不存在的文件\n",
        "print(f\"before delete: {len(df)}\")\n",
        "df[\"status\"] = df[\"path\"].apply(lambda path: True if os.path.exists(path) else None)\n",
        "df = df.dropna(subset=[\"status\"])\n",
        "df.drop(columns=[\"status\"], inplace=True)\n",
        "print(f\"after delete: {len(df)}\")\n",
        "\n",
        "# 随机打乱数据\n",
        "df = df.sample(frac=1)\n",
        "df = df.reset_index(drop=True)\n",
        "df.head()"
      ]
    },
    {
      "cell_type": "markdown",
      "metadata": {
        "id": "TWku4ra3Bp52"
      },
      "source": [
        "查看label和每个label的样本数"
      ]
    },
    {
      "cell_type": "code",
      "execution_count": 56,
      "metadata": {
        "colab": {
          "base_uri": "https://localhost:8080/",
          "height": 768
        },
        "id": "beNpKMh5xXmX",
        "outputId": "bc1ba8fb-f105-4024-9c82-51898f9acc63"
      },
      "outputs": [
        {
          "name": "stdout",
          "output_type": "stream",
          "text": [
            "grapes: 579, chips: 719, candied_fruits: 806, cabbage: 499, gummies: 678, \n",
            "ice-cream: 727, pizza: 609, fries: 644, jelly: 442, carrots: 660, \n",
            "aloe: 546, pickles: 872, drinks: 292, chocolate: 290, soup: 278, \n",
            "burger: 595, wings: 504, ribs: 488, noodles: 411, salmon: 501, \n"
          ]
        }
      ],
      "source": [
        "labels = df[\"label\"].unique()\n",
        "i = 0\n",
        "for label in labels:\n",
        "    i += 1\n",
        "    print(f\"{label}: {len(df[df['label'] == label])}\", end=\", \")\n",
        "    if i%5 == 0:\n",
        "        print()\n",
        "# df_count = df.groupby(\"label\").count()"
      ]
    },
    {
      "cell_type": "markdown",
      "metadata": {
        "id": "7WNjWoWRCmPk"
      },
      "source": [
        "根据数据集构造训练集和测试集，这里测试集的比例为20%"
      ]
    },
    {
      "cell_type": "code",
      "execution_count": 6,
      "metadata": {
        "colab": {
          "base_uri": "https://localhost:8080/"
        },
        "id": "mlim-044xtJN",
        "outputId": "3c7da7f4-cbd9-439c-fe54-f293e88520f7"
      },
      "outputs": [
        {
          "name": "stdout",
          "output_type": "stream",
          "text": [
            "(8912, 2)\n",
            "(2228, 2)\n"
          ]
        }
      ],
      "source": [
        "save_path = \"./content/data\"\n",
        "\n",
        "train_df, test_df = train_test_split(df, test_size=0.2, random_state=101, stratify=df[\"label\"])\n",
        "train_df = train_df.reset_index(drop=True)\n",
        "test_df = test_df.reset_index(drop=True)\n",
        "\n",
        "train_df.to_csv(f\"{save_path}/train.csv\", sep=\"\\t\", encoding=\"utf-8\", index=False)\n",
        "test_df.to_csv(f\"{save_path}/test.csv\", sep=\"\\t\", encoding=\"utf-8\", index=False)\n",
        "\n",
        "print(train_df.shape)\n",
        "print(test_df.shape)"
      ]
    },
    {
      "cell_type": "markdown",
      "metadata": {
        "id": "kcnD-d_rDElt"
      },
      "source": [
        "## Prepare Data for Training"
      ]
    },
    {
      "cell_type": "markdown",
      "metadata": {},
      "source": [
        "### 导入数据集"
      ]
    },
    {
      "cell_type": "code",
      "execution_count": 7,
      "metadata": {
        "colab": {
          "base_uri": "https://localhost:8080/"
        },
        "id": "nnVfxQYDDIc6",
        "outputId": "81fd9d63-1cf5-4dc0-9a29-385728f48cd1"
      },
      "outputs": [
        {
          "data": {
            "application/vnd.jupyter.widget-view+json": {
              "model_id": "08b561aa4bb54416a115554a3f4577e2",
              "version_major": 2,
              "version_minor": 0
            },
            "text/plain": [
              "Generating train split: 0 examples [00:00, ? examples/s]"
            ]
          },
          "metadata": {},
          "output_type": "display_data"
        },
        {
          "data": {
            "application/vnd.jupyter.widget-view+json": {
              "model_id": "13caf826e4ed4e6c81f3f8e38279ee52",
              "version_major": 2,
              "version_minor": 0
            },
            "text/plain": [
              "Generating validation split: 0 examples [00:00, ? examples/s]"
            ]
          },
          "metadata": {},
          "output_type": "display_data"
        },
        {
          "name": "stdout",
          "output_type": "stream",
          "text": [
            "Dataset({\n",
            "    features: ['path', 'label'],\n",
            "    num_rows: 8912\n",
            "})\n",
            "Dataset({\n",
            "    features: ['path', 'label'],\n",
            "    num_rows: 2228\n",
            "})\n"
          ]
        }
      ],
      "source": [
        "# Loading the created dataset using datasets\n",
        "from datasets import load_dataset, load_metric\n",
        "\n",
        "data_files = {\n",
        "    \"train\": \"./content/data/train.csv\", \n",
        "    \"validation\": \"./content/data/test.csv\",\n",
        "}\n",
        "\n",
        "dataset = load_dataset(\"csv\", data_files=data_files, delimiter=\"\\t\", )\n",
        "train_dataset = dataset[\"train\"]\n",
        "eval_dataset = dataset[\"validation\"]\n",
        "\n",
        "print(train_dataset)\n",
        "print(eval_dataset)"
      ]
    },
    {
      "cell_type": "code",
      "execution_count": 8,
      "metadata": {
        "colab": {
          "base_uri": "https://localhost:8080/"
        },
        "id": "-gh7fQ1XEpC7",
        "outputId": "f109902c-765d-4185-a936-4a0e99a36da9"
      },
      "outputs": [
        {
          "name": "stdout",
          "output_type": "stream",
          "text": [
            "A classification problem with 20 classes: ['aloe', 'burger', 'cabbage', 'candied_fruits', 'carrots', 'chips', 'chocolate', 'drinks', 'fries', 'grapes', 'gummies', 'ice-cream', 'jelly', 'noodles', 'pickles', 'pizza', 'ribs', 'salmon', 'soup', 'wings']\n"
          ]
        }
      ],
      "source": [
        "input_column = \"path\"\n",
        "output_column = \"label\"\n",
        "label_list = train_dataset.unique(output_column)\n",
        "label_list.sort()  \n",
        "num_labels = len(label_list)\n",
        "print(f\"A classification problem with {num_labels} classes: {label_list}\")"
      ]
    },
    {
      "cell_type": "markdown",
      "metadata": {
        "id": "4TkGYrVTFR6Y"
      },
      "source": [
        "为了预处理音频数据，我们需要确定使用的Wav2Vec2模型，在这里使用的是wav2vec2-base-100k-voxpopuli模型。\n",
        "为了处理音频任何长度的上下文表示，我们使用合并策略（pooling mode）将该 3D 表示成 2D 。\n",
        "\n",
        "共有三种pooling策略“mean”、“sum”和“max”。 在这个例子中，我们通过mean方法取得了更好的结果。 接下来，我们需要从这个模型导入配置和特征提取器。"
      ]
    },
    {
      "cell_type": "code",
      "execution_count": 9,
      "metadata": {
        "id": "rQrGaFohGzVo"
      },
      "outputs": [],
      "source": [
        "from transformers import AutoConfig, Wav2Vec2Processor, Wav2Vec2FeatureExtractor"
      ]
    },
    {
      "cell_type": "code",
      "execution_count": 10,
      "metadata": {
        "id": "9Y1adr7vFrq7"
      },
      "outputs": [],
      "source": [
        "model_name_or_path = \"/home/xukeyan/.cache/huggingface/transformers/facebook/wav2vec2-base-100k-voxpopuli\"\n",
        "pooling_mode = \"mean\""
      ]
    },
    {
      "cell_type": "code",
      "execution_count": 11,
      "metadata": {
        "id": "AZjDSmBRGqr6"
      },
      "outputs": [],
      "source": [
        "config = AutoConfig.from_pretrained(\n",
        "    model_name_or_path,\n",
        "    num_labels=num_labels,\n",
        "    label2id={label: i for i, label in enumerate(label_list)},\n",
        "    id2label={i: label for i, label in enumerate(label_list)},\n",
        "    finetuning_task=\"wav2vec2_clf\",\n",
        ")\n",
        "# 向config中添加pooling_mode属性\n",
        "setattr(config, 'pooling_mode', pooling_mode)"
      ]
    },
    {
      "cell_type": "code",
      "execution_count": 12,
      "metadata": {
        "colab": {
          "base_uri": "https://localhost:8080/"
        },
        "id": "ZXVl9qW1Gw_-",
        "outputId": "e934261f-9e31-4041-c751-6425afcb4182"
      },
      "outputs": [
        {
          "name": "stdout",
          "output_type": "stream",
          "text": [
            "The target sampling rate: 16000\n"
          ]
        }
      ],
      "source": [
        "feature_extractor = Wav2Vec2FeatureExtractor.from_pretrained(model_name_or_path,)\n",
        "target_sampling_rate = feature_extractor.sampling_rate\n",
        "print(f\"The target sampling rate: {target_sampling_rate}\")"
      ]
    },
    {
      "cell_type": "markdown",
      "metadata": {
        "id": "CbGuYgLqHXZg"
      },
      "source": [
        "### Preprocess Data"
      ]
    },
    {
      "cell_type": "markdown",
      "metadata": {
        "id": "qLk-eM1DFjtE"
      },
      "source": [
        "现在，我们需要从上下文表示张量中的音频路径中提取特征，并将它们输入到我们的分类模型中。\n",
        "\n",
        "音频文件通常会存储其值和语音信号数字化的采样率，因此我们编写 **map(...)** 函数来对数据进行重采样（16Hz），并将标签进行表示。"
      ]
    },
    {
      "cell_type": "code",
      "execution_count": 13,
      "metadata": {
        "id": "6UqlIV3uGxDA"
      },
      "outputs": [],
      "source": [
        "def speech_file_to_array_fn(path):\n",
        "    speech_array, sampling_rate = torchaudio.load(path)\n",
        "    resampler = torchaudio.transforms.Resample(sampling_rate, target_sampling_rate)\n",
        "    speech = resampler(speech_array).squeeze().numpy()\n",
        "    return speech\n",
        "\n",
        "def label_to_id(label, label_list):\n",
        "    if len(label_list) > 0:\n",
        "        return label_list.index(label) if label in label_list else -1\n",
        "    return label\n",
        "\n",
        "def preprocess_function(examples):\n",
        "    speech_list = [speech_file_to_array_fn(path) for path in examples[input_column]]\n",
        "    target_list = [label_to_id(label, label_list) for label in examples[output_column]]\n",
        "\n",
        "    result = feature_extractor(speech_list, sampling_rate=target_sampling_rate)\n",
        "    result[\"labels\"] = list(target_list)\n",
        "\n",
        "    return result"
      ]
    },
    {
      "cell_type": "code",
      "execution_count": 14,
      "metadata": {
        "id": "vYL7Z6Pd-Hp8"
      },
      "outputs": [],
      "source": [
        "# Remove this part\n",
        "max_train_samples = min(1000, len(train_dataset))\n",
        "max_eval_samples = min(200, len(eval_dataset))\n",
        "train_dataset = train_dataset.select(range(max_train_samples))\n",
        "eval_dataset = eval_dataset.select(range(max_eval_samples))"
      ]
    },
    {
      "cell_type": "code",
      "execution_count": 15,
      "metadata": {},
      "outputs": [],
      "source": [
        "# print(len(train_dataset[\"input_values\"][0]))"
      ]
    },
    {
      "cell_type": "code",
      "execution_count": 16,
      "metadata": {
        "colab": {
          "base_uri": "https://localhost:8080/",
          "height": 752,
          "referenced_widgets": [
            "7384502538e549c3b0741894aee3d27c",
            "6ce9b23933b6488091c804d92af38ef0",
            "9aba1ce9df714720b5f8073901261257",
            "5150a119ab86434f900789f3d4ccc1c6",
            "90e7a1bce7344f5f84957c3952b7dd59",
            "4d8e9fd9c2b8499f83d1f75e664888e6",
            "fa7c0c8d327e4b798db1f87915986146",
            "8c678e17db25490ab9d523b2f9c6d1c5",
            "c3201cfc4e0b4d82add46e49fa63ba4b",
            "f1960b37902f485b980cc6c6ca11cc5a",
            "2976d0d39ea6484684053385a3f95e42",
            "fbd7656edf714303a0dc9a8364e55953",
            "6d513fec3a24462793ef7435e8d12b4d",
            "dba87e891dc545949474dd1d123ddded",
            "01a594c84d6a456291fbf2bf22de5fab",
            "f0dd4abf684f4804a3e51a1c0d39097d",
            "f39fffd0194c447197833a14a1cc91df",
            "9adf97c4347940d9b804eae515afc7dd",
            "7bed22a6fe3a49d6a09e5950487c1267",
            "f3260ea2e25d44f8b5ee234101b902f0",
            "19d6eba32fff43579af4aa225b09f6bf",
            "6d463da2011b4339a6bbaad1cafd2f9f",
            "21e4e79ff3e7423f8e2424ee5718ffe0",
            "000485a55b4f4648a76204f3725669df",
            "6ad90ca9ca854713a8237fb18477fb60",
            "3424514218d34da2be8c565cb7c4f939",
            "3395af9109fd4a1f861f8eecfa8f2033",
            "e008c7a035a843ee83b6bfdeb48581f8",
            "77adc5448ac44dfa92b2a7b6d50e89f8",
            "4955552ebd944cc384e4166146c3a5b3",
            "fa59b9db64614d90885026b74082a3b7",
            "c13df8f668ae49468487f1ea062d4edc",
            "1757cd8704a444c8b7a90edc028ac93e",
            "1450e205f5d44a0b9ff8ef3decbd74d4",
            "08ba1ac5cb5d437193dfb4b446f25ac1",
            "09e7de10a9b14ccf83314e00c14f2b44",
            "15367995b8744a818a312a8160ad60f2",
            "350a8323dadc4798835aba80020ac439",
            "5c25acc905294f69b89819d7aa140bed",
            "837e87dd56e84ec396d6100bf08afeb5",
            "149f0975a5124dffa85a342557ec0649",
            "3b466cf20cf3429480af691022b28816",
            "ae46db9faf124d2f987dccb0ad62115b",
            "6fa3ec2f85964814a7b408b0e8174f5f",
            "4f4134b761624977ba1e9bf8b6c3497d",
            "9770bc459ce24270963b8e230d2acf28",
            "cf61da935f8e47aa914550d8fc3207b1",
            "7aa86ce26ffd4e3499f03dd48c500c13",
            "fb73f54ebd8245a1891f9855eadbaa86",
            "11729cf2675d41b9b9375fae8ce38261",
            "0d940cef72aa4db08f38cb86fcc2ae78",
            "bb447d5d406e4275a1d4676a0e19a1ef",
            "3fe5598e1eb746beb147e500467294ab",
            "cff729db41224f5cb11149a157c13007",
            "6ec2b9da8ace49949a1b85a77eb69d05",
            "32dffd51d28d4e5cb06eb050529a4507",
            "d4656d9e97234b709166dbd4dd1d0e1d",
            "e03afb3588174ad2bbb36a760a0cc5f3",
            "c3197ece4cd34397bf2edd566db66941",
            "9cfd84cce50442d7a34c911f59cd09bb",
            "2f9a864fab77416ea51b92ffab1a0902",
            "ab44cfdc232143209c7562e079998b10",
            "af6b2f4647bf4017b4610d2a852effd7",
            "edf00aba13aa4c03ab2fe52428a24a71"
          ]
        },
        "id": "ioP8FfR2GxHi",
        "outputId": "e3e976b3-0f7f-4b29-99c9-2317b443e810"
      },
      "outputs": [
        {
          "data": {
            "application/vnd.jupyter.widget-view+json": {
              "model_id": "b8aab796a7da40a697fbc40a496aca01",
              "version_major": 2,
              "version_minor": 0
            },
            "text/plain": [
              "Map (num_proc=4):   0%|          | 0/1000 [00:00<?, ? examples/s]"
            ]
          },
          "metadata": {},
          "output_type": "display_data"
        },
        {
          "data": {
            "application/vnd.jupyter.widget-view+json": {
              "model_id": "57eb8e8eb7754c2aaffcbe31178d33b3",
              "version_major": 2,
              "version_minor": 0
            },
            "text/plain": [
              "Map (num_proc=4):   0%|          | 0/200 [00:00<?, ? examples/s]"
            ]
          },
          "metadata": {},
          "output_type": "display_data"
        }
      ],
      "source": [
        "train_dataset = train_dataset.map(preprocess_function,batch_size=10,\n",
        "                                    batched=True,num_proc=16)\n",
        "eval_dataset = eval_dataset.map(preprocess_function,batch_size=10,\n",
        "                                    batched=True,num_proc=16)"
      ]
    },
    {
      "cell_type": "code",
      "execution_count": 17,
      "metadata": {},
      "outputs": [
        {
          "name": "stdout",
          "output_type": "stream",
          "text": [
            "Dataset({\n",
            "    features: ['path', 'label', 'input_values', 'labels'],\n",
            "    num_rows: 1000\n",
            "})\n",
            "76006\n"
          ]
        }
      ],
      "source": [
        "print(train_dataset)\n",
        "print(len(train_dataset[\"input_values\"][0]))"
      ]
    },
    {
      "cell_type": "code",
      "execution_count": 18,
      "metadata": {
        "colab": {
          "base_uri": "https://localhost:8080/"
        },
        "id": "eu1qcRucHk6d",
        "outputId": "9f3d2aaf-10d5-4ce3-d24b-061ae264a875"
      },
      "outputs": [
        {
          "name": "stdout",
          "output_type": "stream",
          "text": [
            "Training labels: 4 - carrots\n"
          ]
        }
      ],
      "source": [
        "idx = 0\n",
        "# print(f\"Training input_values: {train_dataset[idx]['input_values']}\")\n",
        "# print(f\"Training attention_mask: {train_dataset[idx]['attention_mask']}\")\n",
        "print(f\"Training labels: {train_dataset[idx]['labels']} - {train_dataset[idx]['label']}\")"
      ]
    },
    {
      "cell_type": "markdown",
      "metadata": {
        "id": "QL7q6DfcH0Fs"
      },
      "source": [
        "## Model\n",
        "\n",
        "在深入训练部分之前，我们需要根据合并策略构建分类模型。 "
      ]
    },
    {
      "cell_type": "code",
      "execution_count": 19,
      "metadata": {
        "id": "uJZoC4T5HpuP"
      },
      "outputs": [],
      "source": [
        "from dataclasses import dataclass\n",
        "from typing import Optional, Tuple\n",
        "import torch\n",
        "from transformers.file_utils import ModelOutput\n",
        "\n",
        "\n",
        "@dataclass\n",
        "class SpeechClassifierOutput(ModelOutput):\n",
        "    loss: Optional[torch.FloatTensor] = None\n",
        "    logits: torch.FloatTensor = None\n",
        "    hidden_states: Optional[Tuple[torch.FloatTensor]] = None\n",
        "    attentions: Optional[Tuple[torch.FloatTensor]] = None\n"
      ]
    },
    {
      "cell_type": "code",
      "execution_count": 20,
      "metadata": {
        "id": "Fv62ShDsH5DZ"
      },
      "outputs": [],
      "source": [
        "import torch\n",
        "import torch.nn as nn\n",
        "from torch.nn import BCEWithLogitsLoss, CrossEntropyLoss, MSELoss\n",
        "\n",
        "from transformers.models.wav2vec2.modeling_wav2vec2 import (\n",
        "    Wav2Vec2PreTrainedModel,\n",
        "    Wav2Vec2Model\n",
        ")\n",
        "\n",
        "\n",
        "class Wav2Vec2ClassificationHead(nn.Module):\n",
        "    \"\"\"Head for wav2vec classification task.\"\"\"\n",
        "    def __init__(self, config):\n",
        "        super().__init__()\n",
        "        self.dense = nn.Linear(config.hidden_size, config.hidden_size)\n",
        "        self.dropout = nn.Dropout(config.final_dropout)\n",
        "        self.out_proj = nn.Linear(config.hidden_size, config.num_labels)\n",
        "\n",
        "    def forward(self, features, **kwargs):\n",
        "        x = features\n",
        "        x = self.dropout(x)\n",
        "        x = self.dense(x)\n",
        "        x = torch.tanh(x)\n",
        "        x = self.dropout(x)\n",
        "        x = self.out_proj(x)\n",
        "        return x\n",
        "\n",
        "\n",
        "class Wav2Vec2ForSpeechClassification(Wav2Vec2PreTrainedModel):\n",
        "    def __init__(self, config):\n",
        "        super().__init__(config)\n",
        "        self.num_labels = config.num_labels\n",
        "        self.pooling_mode = config.pooling_mode\n",
        "        self.config = config\n",
        "\n",
        "        self.wav2vec2 = Wav2Vec2Model(config)\n",
        "        self.classifier = Wav2Vec2ClassificationHead(config)\n",
        "\n",
        "        self.init_weights()\n",
        "\n",
        "    def freeze_feature_extractor(self):\n",
        "        self.wav2vec2.feature_extractor._freeze_parameters()\n",
        "\n",
        "    def merged_strategy(\n",
        "            self,\n",
        "            hidden_states,\n",
        "            mode=\"mean\"\n",
        "    ):\n",
        "        if mode == \"mean\":\n",
        "            outputs = torch.mean(hidden_states, dim=1)\n",
        "        elif mode == \"sum\":\n",
        "            outputs = torch.sum(hidden_states, dim=1)\n",
        "        elif mode == \"max\":\n",
        "            outputs = torch.max(hidden_states, dim=1)[0]\n",
        "        else:\n",
        "            raise Exception(\n",
        "                \"The pooling method hasn't been defined! \"\n",
        "                \"Your pooling mode must be one of these ['mean', 'sum', 'max']\")\n",
        "\n",
        "        return outputs\n",
        "\n",
        "    def forward(\n",
        "            self,\n",
        "            input_values,\n",
        "            attention_mask=None,\n",
        "            output_attentions=None,\n",
        "            output_hidden_states=None,\n",
        "            return_dict=None,\n",
        "            labels=None,\n",
        "    ):\n",
        "        return_dict = return_dict if return_dict is not None else self.config.use_return_dict\n",
        "        outputs = self.wav2vec2(\n",
        "            input_values,\n",
        "            attention_mask=attention_mask,\n",
        "            output_attentions=output_attentions,\n",
        "            output_hidden_states=output_hidden_states,\n",
        "            return_dict=return_dict,\n",
        "        )\n",
        "        hidden_states = outputs[0]\n",
        "        hidden_states = self.merged_strategy(hidden_states, mode=self.pooling_mode)\n",
        "        logits = self.classifier(hidden_states)\n",
        "\n",
        "        loss = None\n",
        "        if labels is not None:\n",
        "            if self.config.problem_type is None:\n",
        "                if self.num_labels == 1:\n",
        "                    self.config.problem_type = \"regression\"\n",
        "                elif self.num_labels > 1 and (labels.dtype == torch.long or labels.dtype == torch.int):\n",
        "                    self.config.problem_type = \"single_label_classification\"\n",
        "                else:\n",
        "                    self.config.problem_type = \"multi_label_classification\"\n",
        "\n",
        "            if self.config.problem_type == \"regression\":\n",
        "                loss_fct = MSELoss()\n",
        "                loss = loss_fct(logits.view(-1, self.num_labels), labels)\n",
        "            elif self.config.problem_type == \"single_label_classification\":\n",
        "                loss_fct = CrossEntropyLoss()\n",
        "                loss = loss_fct(logits.view(-1, self.num_labels), labels.view(-1))\n",
        "            elif self.config.problem_type == \"multi_label_classification\":\n",
        "                loss_fct = BCEWithLogitsLoss()\n",
        "                loss = loss_fct(logits, labels)\n",
        "\n",
        "        if not return_dict:\n",
        "            output = (logits,) + outputs[2:]\n",
        "            return ((loss,) + output) if loss is not None else output\n",
        "\n",
        "        return SpeechClassifierOutput(\n",
        "            loss=loss,\n",
        "            logits=logits,\n",
        "            hidden_states=outputs.hidden_states,\n",
        "            attentions=outputs.attentions,\n",
        "        )\n"
      ]
    },
    {
      "cell_type": "markdown",
      "metadata": {
        "id": "OrBrR1b7zvUL"
      },
      "source": [
        "## Training\n",
        "\n",
        "数据经过处理后，我们就可以开始设置training pipeline了。 我们将利用trainer进行训练。\n",
        "\n",
        "需要执行以下操作：\n",
        "\n",
        "- 定义data collator。 与大多数 NLP 模型相比，XLSR-Wav2Vec2 的输入长度远大于输出长度。 *例如*，输入长度为 50000 的样本的输出长度不超过 100。考虑到输入大小较大，动态填充训练批次会更有效，这意味着所有训练样本只能填充到在此批次中的最长长度，而不是整体最长的样本中。 因此，微调 XLSR-Wav2Vec2 需要一个特殊的padding data collator，我们将在下面定义它。\n",
        "\n",
        "- 评估指标。 在训练过程中，应该根据错误率来评估模型。 我们应该相应地定义一个“compute_metrics”函数\n",
        "\n",
        "- 加载预训练的检查点。 我们需要加载预训练的检查点并正确配置它以进行训练。\n",
        "\n",
        "- 定义训练配置。\n",
        "\n",
        "对模型进行微调后，我们将在测试数据上进行评估。"
      ]
    },
    {
      "cell_type": "markdown",
      "metadata": {
        "id": "Ji9-n1eUIKZc"
      },
      "source": [
        "### Set-up Trainer"
      ]
    },
    {
      "cell_type": "markdown",
      "metadata": {},
      "source": [
        "#### data collator\n",
        "\n",
        "无需讨论太多细节，与常见的数据整理器相比，该数据整理器以不同的方式处理“input_values”和“labels”，因此适用于它们的单独填充函数（再次使用 XLSR-Wav2Vec2 的上下文管理器）。 因为在语音中输入和输出具有不同的模式，这意味着它们不应该由相同的填充函数处理。与常见的数据整理器类似，标签中的填充标记为“-100”，以便在计算损失时**不**考虑这些标记。"
      ]
    },
    {
      "cell_type": "code",
      "execution_count": 21,
      "metadata": {
        "id": "rkM0VLIwy903"
      },
      "outputs": [],
      "source": [
        "from dataclasses import dataclass\n",
        "from typing import Dict, List, Optional, Union\n",
        "import torch\n",
        "\n",
        "import transformers\n",
        "from transformers import Wav2Vec2Processor, Wav2Vec2FeatureExtractor\n",
        "\n",
        "\n",
        "@dataclass\n",
        "class DataCollatorCTCWithPadding:\n",
        "    \"\"\"\n",
        "    Data collator that will dynamically pad the inputs received.\n",
        "    Args:\n",
        "        feature_extractor (:class:`~transformers.Wav2Vec2FeatureExtractor`)\n",
        "            The feature_extractor used for proccessing the data.\n",
        "        padding (:obj:`bool`, :obj:`str` or :class:`~transformers.tokenization_utils_base.PaddingStrategy`, `optional`, defaults to :obj:`True`):\n",
        "            Select a strategy to pad the returned sequences (according to the model's padding side and padding index)\n",
        "            among:\n",
        "            * :obj:`True` or :obj:`'longest'`: Pad to the longest sequence in the batch (or no padding if only a single\n",
        "              sequence if provided).\n",
        "            * :obj:`'max_length'`: Pad to a maximum length specified with the argument :obj:`max_length` or to the\n",
        "              maximum acceptable input length for the model if that argument is not provided.\n",
        "            * :obj:`False` or :obj:`'do_not_pad'` (default): No padding (i.e., can output a batch with sequences of\n",
        "              different lengths).\n",
        "        max_length (:obj:`int`, `optional`):\n",
        "            Maximum length of the ``input_values`` of the returned list and optionally padding length (see above).\n",
        "        max_length_labels (:obj:`int`, `optional`):\n",
        "            Maximum length of the ``labels`` returned list and optionally padding length (see above).\n",
        "        pad_to_multiple_of (:obj:`int`, `optional`):\n",
        "            If set will pad the sequence to a multiple of the provided value.\n",
        "            This is especially useful to enable the use of Tensor Cores on NVIDIA hardware with compute capability >=\n",
        "            7.5 (Volta).\n",
        "    \"\"\"\n",
        "    feature_extractor: Wav2Vec2FeatureExtractor\n",
        "    padding: Union[bool, str] = True\n",
        "    max_length: Optional[int] = None\n",
        "    max_length_labels: Optional[int] = None\n",
        "    pad_to_multiple_of: Optional[int] = None\n",
        "    pad_to_multiple_of_labels: Optional[int] = None\n",
        "\n",
        "    def __call__(self, features: List[Dict[str, Union[List[int], torch.Tensor]]]) -> Dict[str, torch.Tensor]:\n",
        "        input_features = [{\"input_values\": feature[\"input_values\"]} for feature in features]\n",
        "        label_features = [feature[\"labels\"] for feature in features]\n",
        "        d_type = torch.long if isinstance(label_features[0], int) else torch.float\n",
        "        batch = self.feature_extractor.pad(\n",
        "            input_features,\n",
        "            padding=self.padding,\n",
        "            max_length=self.max_length,\n",
        "            pad_to_multiple_of=self.pad_to_multiple_of,\n",
        "            return_tensors=\"pt\",\n",
        "        )\n",
        "        batch[\"labels\"] = torch.tensor(label_features, dtype=d_type)\n",
        "        return batch\n"
      ]
    },
    {
      "cell_type": "code",
      "execution_count": 22,
      "metadata": {
        "id": "-YhJ0OA4RxQe"
      },
      "outputs": [],
      "source": [
        "data_collator = DataCollatorCTCWithPadding(feature_extractor=feature_extractor, padding=True)"
      ]
    },
    {
      "cell_type": "markdown",
      "metadata": {
        "id": "mYxy2IR-KcU2"
      },
      "source": [
        "#### evaluation metric\n",
        "\n",
        "我们将使用 **准确率** 进行分类，使用 **MSE** 进行回归。"
      ]
    },
    {
      "cell_type": "code",
      "execution_count": 23,
      "metadata": {
        "id": "LL8I5MKvPnth"
      },
      "outputs": [],
      "source": [
        "is_regression = False"
      ]
    },
    {
      "cell_type": "code",
      "execution_count": 24,
      "metadata": {
        "id": "XK26Z6IfR36K"
      },
      "outputs": [],
      "source": [
        "import numpy as np\n",
        "from transformers import EvalPrediction\n",
        "\n",
        "\n",
        "def compute_metrics(p: EvalPrediction):\n",
        "    preds = p.predictions[0] if isinstance(p.predictions, tuple) else p.predictions\n",
        "    preds = np.squeeze(preds) if is_regression else np.argmax(preds, axis=1)\n",
        "\n",
        "    if is_regression:\n",
        "        return {\"mse\": ((preds - p.label_ids) ** 2).mean().item()}\n",
        "    else:\n",
        "        return {\"accuracy\": (preds == p.label_ids).astype(np.float32).mean().item()}"
      ]
    },
    {
      "cell_type": "markdown",
      "metadata": {
        "id": "ZsH_nKJdK28o"
      },
      "source": [
        "#### load pretraining model"
      ]
    },
    {
      "cell_type": "code",
      "execution_count": 25,
      "metadata": {
        "colab": {
          "base_uri": "https://localhost:8080/",
          "height": 120,
          "referenced_widgets": [
            "1dee66d422f94e97b5410bda7d630183",
            "1140dc0960f54148a12d30ef4345ee96",
            "36750aaa3f494df4984a6878f7fddec2",
            "6f80a3a28a964c6383530cdd03ea4e47",
            "b182c0e62ff14820903daee05b60dec3",
            "ea64efae2d8c4f8eb9f0475ebec11512",
            "ec4c4a4c9dd84e7a9bf33b1b87c491d0",
            "8e3472f819d1468984cefd82c1217f00"
          ]
        },
        "id": "0Tl6iKAUR4EL",
        "outputId": "1fb33baa-00cd-4208-c595-b20373d58c29"
      },
      "outputs": [
        {
          "name": "stderr",
          "output_type": "stream",
          "text": [
            "Some weights of Wav2Vec2ForSpeechClassification were not initialized from the model checkpoint at /home/xukeyan/.cache/huggingface/transformers/facebook/wav2vec2-base-100k-voxpopuli and are newly initialized: ['classifier.dense.bias', 'classifier.dense.weight', 'classifier.out_proj.bias', 'classifier.out_proj.weight', 'wav2vec2.encoder.pos_conv_embed.conv.parametrizations.weight.original0', 'wav2vec2.encoder.pos_conv_embed.conv.parametrizations.weight.original1']\n",
            "You should probably TRAIN this model on a down-stream task to be able to use it for predictions and inference.\n"
          ]
        }
      ],
      "source": [
        "model = Wav2Vec2ForSpeechClassification.from_pretrained(\n",
        "    model_name_or_path,\n",
        "    config=config,\n",
        ")"
      ]
    },
    {
      "cell_type": "code",
      "execution_count": 26,
      "metadata": {
        "id": "KHMhxFGoR4Hb"
      },
      "outputs": [],
      "source": [
        "model.freeze_feature_extractor()"
      ]
    },
    {
      "cell_type": "markdown",
      "metadata": {
        "id": "n0HzBneBK84G"
      },
      "source": [
        "### define parameters for training"
      ]
    },
    {
      "cell_type": "code",
      "execution_count": 28,
      "metadata": {
        "id": "vUtWjldAI9-H"
      },
      "outputs": [
        {
          "name": "stderr",
          "output_type": "stream",
          "text": [
            "/home/xukeyan/anaconda3/envs/yuyin/lib/python3.9/site-packages/torch/cuda/__init__.py:141: UserWarning: CUDA initialization: The NVIDIA driver on your system is too old (found version 11040). Please update your GPU driver by downloading and installing a new version from the URL: http://www.nvidia.com/Download/index.aspx Alternatively, go to: https://pytorch.org to install a PyTorch version that has been compiled with your version of the CUDA driver. (Triggered internally at ../c10/cuda/CUDAFunctions.cpp:108.)\n",
            "  return torch._C._cuda_getDeviceCount() > 0\n"
          ]
        }
      ],
      "source": [
        "from transformers import TrainingArguments\n",
        "\n",
        "training_args = TrainingArguments(\n",
        "    output_dir=\"./content/wav2vec2-base-100k-eating-sound-collection\",\n",
        "    per_device_train_batch_size=4,\n",
        "    per_device_eval_batch_size=4,\n",
        "    gradient_accumulation_steps=2,\n",
        "    evaluation_strategy=\"steps\",\n",
        "    num_train_epochs=1.0,\n",
        "    # fp16=True,\n",
        "    save_steps=10,\n",
        "    eval_steps=10,\n",
        "    logging_steps=10,\n",
        "    learning_rate=1e-4,\n",
        "    save_total_limit=2,\n",
        ")"
      ]
    },
    {
      "cell_type": "code",
      "execution_count": 29,
      "metadata": {
        "id": "KfW6uDolJYZv"
      },
      "outputs": [],
      "source": [
        "from typing import Any, Dict, Union\n",
        "\n",
        "import torch\n",
        "from packaging import version\n",
        "from torch import nn\n",
        "\n",
        "from transformers import (\n",
        "    Trainer,\n",
        "    is_apex_available,\n",
        ")\n",
        "\n",
        "if is_apex_available():\n",
        "    from apex import amp\n",
        "\n",
        "if version.parse(torch.__version__) >= version.parse(\"1.6\"):\n",
        "    _is_native_amp_available = True\n",
        "    from torch.cuda.amp import autocast\n",
        "\n",
        "\n",
        "class CTCTrainer(Trainer):\n",
        "    def training_step(self, model: nn.Module, inputs: Dict[str, Union[torch.Tensor, Any]]) -> torch.Tensor:\n",
        "        \"\"\"\n",
        "        Perform a training step on a batch of inputs.\n",
        "\n",
        "        Subclass and override to inject custom behavior.\n",
        "\n",
        "        Args:\n",
        "            model (:obj:`nn.Module`):\n",
        "                The model to train.\n",
        "            inputs (:obj:`Dict[str, Union[torch.Tensor, Any]]`):\n",
        "                The inputs and targets of the model.\n",
        "\n",
        "                The dictionary will be unpacked before being fed to the model. Most models expect the targets under the\n",
        "                argument :obj:`labels`. Check your model's documentation for all accepted arguments.\n",
        "\n",
        "        Return:\n",
        "            :obj:`torch.Tensor`: The tensor with training loss on this batch.\n",
        "        \"\"\"\n",
        "        model.train()\n",
        "        inputs = self._prepare_inputs(inputs)\n",
        "        loss = self.compute_loss(model, inputs)\n",
        "\n",
        "        if self.args.gradient_accumulation_steps > 1:\n",
        "            loss = loss / self.args.gradient_accumulation_steps\n",
        "\n",
        "        loss.backward()\n",
        "        return loss.detach()\n"
      ]
    },
    {
      "cell_type": "markdown",
      "metadata": {
        "id": "Qv7Ju3qYJeJn"
      },
      "source": [
        "### trainer"
      ]
    },
    {
      "cell_type": "code",
      "execution_count": 30,
      "metadata": {
        "id": "nEFkfK45JYiZ"
      },
      "outputs": [
        {
          "name": "stderr",
          "output_type": "stream",
          "text": [
            "/home/xukeyan/anaconda3/envs/yuyin/lib/python3.9/site-packages/accelerate/accelerator.py:436: FutureWarning: Passing the following arguments to `Accelerator` is deprecated and will be removed in version 1.0 of Accelerate: dict_keys(['dispatch_batches', 'split_batches', 'even_batches', 'use_seedable_sampler']). Please pass an `accelerate.DataLoaderConfiguration` instead: \n",
            "dataloader_config = DataLoaderConfiguration(dispatch_batches=None, split_batches=False, even_batches=True, use_seedable_sampler=True)\n",
            "  warnings.warn(\n",
            "Detected kernel version 5.4.0, which is below the recommended minimum of 5.5.0; this can cause the process to hang. It is recommended to upgrade the kernel to the minimum version or higher.\n"
          ]
        }
      ],
      "source": [
        "trainer = CTCTrainer(\n",
        "    model=model,\n",
        "    data_collator=data_collator,\n",
        "    args=training_args,\n",
        "    compute_metrics=compute_metrics,\n",
        "    train_dataset=train_dataset,\n",
        "    eval_dataset=eval_dataset,\n",
        "    tokenizer=feature_extractor,\n",
        ")"
      ]
    },
    {
      "cell_type": "markdown",
      "metadata": {
        "id": "0gGLwJAOLtDg"
      },
      "source": [
        "### Training"
      ]
    },
    {
      "cell_type": "code",
      "execution_count": 31,
      "metadata": {
        "colab": {
          "base_uri": "https://localhost:8080/",
          "height": 143
        },
        "id": "6M8bNvLLJnG1",
        "outputId": "0ccbcac2-bcff-40fe-da79-475ff47b3401"
      },
      "outputs": [
        {
          "data": {
            "text/html": [
              "\n",
              "    <div>\n",
              "      \n",
              "      <progress value='62' max='62' style='width:300px; height:20px; vertical-align: middle;'></progress>\n",
              "      [62/62 05:43, Epoch 0/1]\n",
              "    </div>\n",
              "    <table border=\"1\" class=\"dataframe\">\n",
              "  <thead>\n",
              " <tr style=\"text-align: left;\">\n",
              "      <th>Step</th>\n",
              "      <th>Training Loss</th>\n",
              "      <th>Validation Loss</th>\n",
              "      <th>Accuracy</th>\n",
              "    </tr>\n",
              "  </thead>\n",
              "  <tbody>\n",
              "    <tr>\n",
              "      <td>10</td>\n",
              "      <td>2.991500</td>\n",
              "      <td>2.982868</td>\n",
              "      <td>0.050000</td>\n",
              "    </tr>\n",
              "    <tr>\n",
              "      <td>20</td>\n",
              "      <td>2.954800</td>\n",
              "      <td>2.982940</td>\n",
              "      <td>0.065000</td>\n",
              "    </tr>\n",
              "    <tr>\n",
              "      <td>30</td>\n",
              "      <td>2.999700</td>\n",
              "      <td>2.982800</td>\n",
              "      <td>0.065000</td>\n",
              "    </tr>\n",
              "    <tr>\n",
              "      <td>40</td>\n",
              "      <td>3.000500</td>\n",
              "      <td>2.979535</td>\n",
              "      <td>0.085000</td>\n",
              "    </tr>\n",
              "    <tr>\n",
              "      <td>50</td>\n",
              "      <td>2.974100</td>\n",
              "      <td>2.978915</td>\n",
              "      <td>0.085000</td>\n",
              "    </tr>\n",
              "    <tr>\n",
              "      <td>60</td>\n",
              "      <td>2.941200</td>\n",
              "      <td>2.978330</td>\n",
              "      <td>0.080000</td>\n",
              "    </tr>\n",
              "  </tbody>\n",
              "</table><p>"
            ],
            "text/plain": [
              "<IPython.core.display.HTML object>"
            ]
          },
          "metadata": {},
          "output_type": "display_data"
        },
        {
          "data": {
            "text/plain": [
              "TrainOutput(global_step=62, training_loss=2.9760935844913607, metrics={'train_runtime': 357.8558, 'train_samples_per_second': 2.794, 'train_steps_per_second': 0.173, 'total_flos': 6.102377894503526e+16, 'train_loss': 2.9760935844913607, 'epoch': 0.99})"
            ]
          },
          "execution_count": 31,
          "metadata": {},
          "output_type": "execute_result"
        }
      ],
      "source": [
        "trainer.train()"
      ]
    },
    {
      "cell_type": "markdown",
      "metadata": {
        "id": "VsaOTx_FVm0i"
      },
      "source": [
        "## Evaluation"
      ]
    },
    {
      "cell_type": "code",
      "execution_count": 32,
      "metadata": {
        "id": "4tGNY7hRXO44"
      },
      "outputs": [],
      "source": [
        "import librosa\n",
        "from sklearn.metrics import classification_report"
      ]
    },
    {
      "cell_type": "code",
      "execution_count": 33,
      "metadata": {
        "colab": {
          "base_uri": "https://localhost:8080/",
          "height": 156,
          "referenced_widgets": [
            "c179789d1b5d45acbc5d6ac5bab0b832",
            "e9d9abef9b964776a9a021520ba4d992",
            "6c720dc5f44e4ea29514581abba8622e",
            "e76ee2831f374af7942b991c86f213d7",
            "5fd40b7c360143348d565be3737d2da2",
            "f83849e39ca84c3ab7cfd41db31f586f",
            "91df691fd8d64fc08e13918ab129b04d",
            "f9307f431af0483b8529085b869d2135"
          ]
        },
        "id": "IYxg1Tfo2VUw",
        "outputId": "d0154d9d-6280-4d15-fc82-9f80472bc60a"
      },
      "outputs": [
        {
          "data": {
            "application/vnd.jupyter.widget-view+json": {
              "model_id": "900e809457e5416ba5b34c3f13f78da5",
              "version_major": 2,
              "version_minor": 0
            },
            "text/plain": [
              "Generating test split: 0 examples [00:00, ? examples/s]"
            ]
          },
          "metadata": {},
          "output_type": "display_data"
        },
        {
          "data": {
            "text/plain": [
              "Dataset({\n",
              "    features: ['path', 'label'],\n",
              "    num_rows: 2228\n",
              "})"
            ]
          },
          "execution_count": 33,
          "metadata": {},
          "output_type": "execute_result"
        }
      ],
      "source": [
        "test_dataset = load_dataset(\"csv\", data_files={\"test\": \"./content/data/test.csv\"}, delimiter=\"\\t\")[\"test\"]\n",
        "test_dataset"
      ]
    },
    {
      "cell_type": "code",
      "execution_count": 34,
      "metadata": {
        "colab": {
          "base_uri": "https://localhost:8080/"
        },
        "id": "QgZFkMDHW_Um",
        "outputId": "65ebb730-9e31-44a2-e83b-135b58a08bd5"
      },
      "outputs": [
        {
          "name": "stdout",
          "output_type": "stream",
          "text": [
            "Device: cpu\n"
          ]
        }
      ],
      "source": [
        "device = torch.device(\"cuda\" if torch.cuda.is_available() else \"cpu\")\n",
        "print(f\"Device: {device}\")"
      ]
    },
    {
      "cell_type": "code",
      "execution_count": 35,
      "metadata": {
        "colab": {
          "base_uri": "https://localhost:8080/",
          "height": 164,
          "referenced_widgets": [
            "018dfa68a89c43c8b064050242e82181",
            "3877cc93cf12456097b0575959f25e87",
            "e7e6a8c03649466d875f7150e6ad5b72",
            "85c562df9b824ef8b415bda19e334b54",
            "bfb450ba48414582806803bce59c268e",
            "42ff79e2ae01425ba0134c58e2580cc0",
            "645a359bcf354e6d957dea3d0d0acf29",
            "9d6520c0051a43709fc2f3697cc80244",
            "c16f2f140d6b4183b74fab44b7d20b2b",
            "c3a064ce28534052b4b4abac7b395a81",
            "dc27704fed6e4a01b9a23f9d9b3dc3df",
            "d976392882e04bc99cc477d9520c7bcf",
            "8b853441e8c34071ba45b0f7191eb9f6",
            "48a593d89da84f649fab9e7f87f8f767",
            "ff209e55d853421a84770d8f9164f62c",
            "9c38ebf5864a4e8896cf002876fa7cec",
            "1fed03a5bc0e4333805eabf089b9b0ea",
            "a7ad0056c5f64423b29be2fd88c78719",
            "934b92e53b7d41d5b4fe32014e95cbed",
            "d06b74a1da0048dbb711c7b73b4c0af3",
            "b3288ffcd75841048ea74f0f75c6c6fd",
            "bbaa7594bded475abb8e0bdf92054c86",
            "3187736ad3714b8e81224b53f0687664",
            "404bd7661d9e43a6901a6bc12b5c6f93"
          ]
        },
        "id": "-ESFEXeaWgua",
        "outputId": "347f6268-b943-469a-9859-0c0ce45eaa63"
      },
      "outputs": [
        {
          "name": "stderr",
          "output_type": "stream",
          "text": [
            "Some weights of the model checkpoint at /home/xukeyan/.cache/huggingface/transformers/m3hrdadfi/wav2vec2-base-100k-eating-sound-collection were not used when initializing Wav2Vec2ForSpeechClassification: ['wav2vec2.encoder.pos_conv_embed.conv.weight_g', 'wav2vec2.encoder.pos_conv_embed.conv.weight_v']\n",
            "- This IS expected if you are initializing Wav2Vec2ForSpeechClassification from the checkpoint of a model trained on another task or with another architecture (e.g. initializing a BertForSequenceClassification model from a BertForPreTraining model).\n",
            "- This IS NOT expected if you are initializing Wav2Vec2ForSpeechClassification from the checkpoint of a model that you expect to be exactly identical (initializing a BertForSequenceClassification model from a BertForSequenceClassification model).\n",
            "Some weights of Wav2Vec2ForSpeechClassification were not initialized from the model checkpoint at /home/xukeyan/.cache/huggingface/transformers/m3hrdadfi/wav2vec2-base-100k-eating-sound-collection and are newly initialized: ['wav2vec2.encoder.pos_conv_embed.conv.parametrizations.weight.original0', 'wav2vec2.encoder.pos_conv_embed.conv.parametrizations.weight.original1']\n",
            "You should probably TRAIN this model on a down-stream task to be able to use it for predictions and inference.\n"
          ]
        }
      ],
      "source": [
        "model_name_or_path = \"/home/xukeyan/.cache/huggingface/transformers/m3hrdadfi/wav2vec2-base-100k-eating-sound-collection\"\n",
        "config = AutoConfig.from_pretrained(model_name_or_path)\n",
        "feature_extractor = Wav2Vec2FeatureExtractor.from_pretrained(model_name_or_path)\n",
        "model = Wav2Vec2ForSpeechClassification.from_pretrained(model_name_or_path).to(device)"
      ]
    },
    {
      "cell_type": "code",
      "execution_count": 36,
      "metadata": {
        "id": "BkEd4w8IV7kZ"
      },
      "outputs": [],
      "source": [
        "def speech_file_to_array_fn(batch):\n",
        "    speech_array, sampling_rate = torchaudio.load(batch[\"path\"])\n",
        "    speech_array = speech_array.squeeze().numpy()\n",
        "    speech_array = librosa.resample(np.asarray(speech_array), orig_sr=sampling_rate, target_sr=feature_extractor.sampling_rate)\n",
        "\n",
        "    batch[\"speech\"] = speech_array\n",
        "    return batch\n",
        "\n",
        "\n",
        "def predict(batch):\n",
        "    features = feature_extractor(batch[\"speech\"], sampling_rate=feature_extractor.sampling_rate, return_tensors=\"pt\", padding=True)\n",
        "\n",
        "    input_values = features.input_values.to(device)\n",
        "\n",
        "    with torch.no_grad():\n",
        "        logits = model(input_values).logits \n",
        "\n",
        "    pred_ids = torch.argmax(logits, dim=-1).detach().cpu().numpy()\n",
        "    batch[\"predicted\"] = pred_ids\n",
        "    return batch"
      ]
    },
    {
      "cell_type": "code",
      "execution_count": 37,
      "metadata": {
        "colab": {
          "base_uri": "https://localhost:8080/",
          "height": 66,
          "referenced_widgets": [
            "c8839901ba094c8ab415d65748d3af49",
            "245c287d72cb404f827736af171b8803",
            "f843e9c85ceb48fa8828986330993260",
            "9e9f79c923b94e90abccc36283252499",
            "6146d16c791242ed8415a8ef0478b420",
            "75e6d16ae7cb40c3bea7723921f94ae9",
            "e0d8f9cbacb64b8cbd82708309653734",
            "221f9e32a50d4d18b478da3df315b5fa"
          ]
        },
        "id": "S4P6P6XwW85p",
        "outputId": "f59e0a91-c409-422a-cff2-13ed14b11bfc"
      },
      "outputs": [
        {
          "data": {
            "application/vnd.jupyter.widget-view+json": {
              "model_id": "00c46fbe882147cdb308f1c77bc44190",
              "version_major": 2,
              "version_minor": 0
            },
            "text/plain": [
              "Map:   0%|          | 0/2228 [00:00<?, ? examples/s]"
            ]
          },
          "metadata": {},
          "output_type": "display_data"
        }
      ],
      "source": [
        "test_dataset = test_dataset.map(speech_file_to_array_fn)"
      ]
    },
    {
      "cell_type": "code",
      "execution_count": 38,
      "metadata": {
        "colab": {
          "base_uri": "https://localhost:8080/",
          "height": 66,
          "referenced_widgets": [
            "1cf3d36ba8b24757a48ea06239b8c595",
            "5b7655a0ec914ce285b4802a7265dd1b",
            "07e02f90c9474a9bac60af6e157c5635",
            "c6d50e8f952e455bae2bf13902960026",
            "4b725e6473e5477c9161eecf4af4113f",
            "fc2deb84c1124cf9b28005f8eafdcc5f",
            "d3561462d3224124a63ed50cf42709f9",
            "33189cc9393f494082c08f62c71f5d8d"
          ]
        },
        "id": "K_oZJzHsXKHv",
        "outputId": "c31ccfcc-416f-4b79-f916-21e6b3e27fb5"
      },
      "outputs": [
        {
          "name": "stderr",
          "output_type": "stream",
          "text": [
            "Parameter 'function'=<function predict at 0x7fd5037d4700> of the transform datasets.arrow_dataset.Dataset._map_single couldn't be hashed properly, a random hash was used instead. Make sure your transforms and parameters are serializable with pickle or dill for the dataset fingerprinting and caching to work. If you reuse this transform, the caching mechanism will consider it to be different from the previous calls and recompute everything. This warning is only showed once. Subsequent hashing failures won't be showed.\n"
          ]
        },
        {
          "data": {
            "application/vnd.jupyter.widget-view+json": {
              "model_id": "e4903c900aca43b3b26e67346ade68c9",
              "version_major": 2,
              "version_minor": 0
            },
            "text/plain": [
              "Map:   0%|          | 0/2228 [00:00<?, ? examples/s]"
            ]
          },
          "metadata": {},
          "output_type": "display_data"
        }
      ],
      "source": [
        "result = test_dataset.map(predict, batched=True, batch_size=8)"
      ]
    },
    {
      "cell_type": "code",
      "execution_count": 39,
      "metadata": {
        "colab": {
          "base_uri": "https://localhost:8080/"
        },
        "id": "BnfJLZvAaxTo",
        "outputId": "810472e5-03e2-4448-ff87-2473918ef403"
      },
      "outputs": [
        {
          "data": {
            "text/plain": [
              "['aloe',\n",
              " 'burger',\n",
              " 'cabbage',\n",
              " 'candied_fruits',\n",
              " 'carrots',\n",
              " 'chips',\n",
              " 'chocolate',\n",
              " 'drinks',\n",
              " 'fries',\n",
              " 'grapes',\n",
              " 'gummies',\n",
              " 'ice-cream',\n",
              " 'jelly',\n",
              " 'noodles',\n",
              " 'pickles',\n",
              " 'pizza',\n",
              " 'ribs',\n",
              " 'salmon',\n",
              " 'soup',\n",
              " 'wings']"
            ]
          },
          "execution_count": 39,
          "metadata": {},
          "output_type": "execute_result"
        }
      ],
      "source": [
        "label_names = [config.id2label[i] for i in range(config.num_labels)]\n",
        "label_names"
      ]
    },
    {
      "cell_type": "code",
      "execution_count": 40,
      "metadata": {
        "colab": {
          "base_uri": "https://localhost:8080/"
        },
        "id": "vRtajzvTabeH",
        "outputId": "a9cfb08c-8766-4cab-c107-7922a8f07424"
      },
      "outputs": [
        {
          "name": "stdout",
          "output_type": "stream",
          "text": [
            "[2, 15, 0, 3, 18]\n",
            "[2, 15, 0, 3, 18]\n"
          ]
        }
      ],
      "source": [
        "y_true = [config.label2id[name] for name in result[\"label\"]]\n",
        "y_pred = result[\"predicted\"]\n",
        "\n",
        "print(y_true[:5])\n",
        "print(y_pred[:5])"
      ]
    },
    {
      "cell_type": "code",
      "execution_count": 41,
      "metadata": {
        "colab": {
          "base_uri": "https://localhost:8080/"
        },
        "id": "tUt5rIppXrzl",
        "outputId": "6f4e1502-b862-446c-c1e1-bc1d11a1fa9f"
      },
      "outputs": [
        {
          "name": "stdout",
          "output_type": "stream",
          "text": [
            "                precision    recall  f1-score   support\n",
            "\n",
            "          aloe       0.99      0.87      0.93       109\n",
            "        burger       1.00      0.48      0.65       119\n",
            "       cabbage       0.91      0.95      0.93       100\n",
            "candied_fruits       0.96      0.99      0.98       161\n",
            "       carrots       0.98      0.98      0.98       132\n",
            "         chips       1.00      0.97      0.98       144\n",
            "     chocolate       0.85      0.98      0.91        58\n",
            "        drinks       1.00      0.98      0.99        58\n",
            "         fries       0.99      0.88      0.93       129\n",
            "        grapes       0.98      0.97      0.98       116\n",
            "       gummies       0.93      0.95      0.94       136\n",
            "     ice-cream       0.97      0.99      0.98       145\n",
            "         jelly       0.91      0.95      0.93        88\n",
            "       noodles       0.88      0.91      0.90        82\n",
            "       pickles       0.98      1.00      0.99       174\n",
            "         pizza       0.75      0.99      0.85       122\n",
            "          ribs       0.89      0.89      0.89        98\n",
            "        salmon       0.74      0.96      0.84       100\n",
            "          soup       0.98      0.93      0.95        56\n",
            "         wings       0.87      0.84      0.85       101\n",
            "\n",
            "      accuracy                           0.93      2228\n",
            "     macro avg       0.93      0.92      0.92      2228\n",
            "  weighted avg       0.93      0.93      0.92      2228\n",
            "\n"
          ]
        }
      ],
      "source": [
        "print(classification_report(y_true, y_pred, target_names=label_names))"
      ]
    },
    {
      "cell_type": "markdown",
      "metadata": {
        "id": "Ylb2Z6Xke2ro"
      },
      "source": [
        "# Prediction"
      ]
    },
    {
      "cell_type": "code",
      "execution_count": 42,
      "metadata": {
        "id": "EQzCioPhWIiX"
      },
      "outputs": [],
      "source": [
        "import torch\n",
        "import torch.nn as nn\n",
        "import torch.nn.functional as F\n",
        "import torchaudio\n",
        "from transformers import AutoConfig, Wav2Vec2Processor\n",
        "\n",
        "import librosa\n",
        "import IPython.display as ipd\n",
        "import numpy as np\n",
        "import pandas as pd"
      ]
    },
    {
      "cell_type": "code",
      "execution_count": 43,
      "metadata": {
        "id": "DocavTvQWIr_"
      },
      "outputs": [
        {
          "name": "stderr",
          "output_type": "stream",
          "text": [
            "Some weights of the model checkpoint at /home/xukeyan/.cache/huggingface/transformers/m3hrdadfi/wav2vec2-base-100k-eating-sound-collection were not used when initializing Wav2Vec2ForSpeechClassification: ['wav2vec2.encoder.pos_conv_embed.conv.weight_g', 'wav2vec2.encoder.pos_conv_embed.conv.weight_v']\n",
            "- This IS expected if you are initializing Wav2Vec2ForSpeechClassification from the checkpoint of a model trained on another task or with another architecture (e.g. initializing a BertForSequenceClassification model from a BertForPreTraining model).\n",
            "- This IS NOT expected if you are initializing Wav2Vec2ForSpeechClassification from the checkpoint of a model that you expect to be exactly identical (initializing a BertForSequenceClassification model from a BertForSequenceClassification model).\n",
            "Some weights of Wav2Vec2ForSpeechClassification were not initialized from the model checkpoint at /home/xukeyan/.cache/huggingface/transformers/m3hrdadfi/wav2vec2-base-100k-eating-sound-collection and are newly initialized: ['wav2vec2.encoder.pos_conv_embed.conv.parametrizations.weight.original0', 'wav2vec2.encoder.pos_conv_embed.conv.parametrizations.weight.original1']\n",
            "You should probably TRAIN this model on a down-stream task to be able to use it for predictions and inference.\n"
          ]
        }
      ],
      "source": [
        "device = torch.device(\"cuda\" if torch.cuda.is_available() else \"cpu\")\n",
        "model_name_or_path = \"/home/xukeyan/.cache/huggingface/transformers/m3hrdadfi/wav2vec2-base-100k-eating-sound-collection\"\n",
        "config = AutoConfig.from_pretrained(model_name_or_path)\n",
        "feature_extractor = Wav2Vec2FeatureExtractor.from_pretrained(model_name_or_path)\n",
        "sampling_rate = feature_extractor.sampling_rate\n",
        "model = Wav2Vec2ForSpeechClassification.from_pretrained(model_name_or_path).to(device)"
      ]
    },
    {
      "cell_type": "code",
      "execution_count": 44,
      "metadata": {
        "id": "1SSs95o9WIvK"
      },
      "outputs": [],
      "source": [
        "def speech_file_to_array_fn(path, sampling_rate):\n",
        "    speech_array, _sampling_rate = torchaudio.load(path)\n",
        "    resampler = torchaudio.transforms.Resample(_sampling_rate)\n",
        "    speech = resampler(speech_array).squeeze().numpy()\n",
        "    return speech\n",
        "\n",
        "\n",
        "def predict(path, sampling_rate):\n",
        "    speech = speech_file_to_array_fn(path, sampling_rate)\n",
        "    features = feature_extractor(speech, sampling_rate=sampling_rate, return_tensors=\"pt\", padding=True)\n",
        "\n",
        "    input_values = features.input_values.to(device)\n",
        "\n",
        "    with torch.no_grad():\n",
        "        logits = model(input_values).logits\n",
        "\n",
        "    scores = F.softmax(logits, dim=1).detach().cpu().numpy()[0]\n",
        "    outputs = [{\"Label\": config.id2label[i], \"Score\": f\"{round(score * 100, 3):.1f}%\"} for i, score in enumerate(scores)]\n",
        "    return outputs\n",
        "\n",
        "\n",
        "STYLES = \"\"\"\n",
        "<style>\n",
        "div.display_data {\n",
        "    margin: 0 auto;\n",
        "    max-width: 500px;\n",
        "}\n",
        "table.xxx {\n",
        "    margin: 50px !important;\n",
        "    float: right !important;\n",
        "    clear: both !important;\n",
        "}\n",
        "table.xxx td {\n",
        "    min-width: 300px !important;\n",
        "    text-align: center !important;\n",
        "}\n",
        "</style>\n",
        "\"\"\".strip()\n",
        "\n",
        "def prediction(df_row):\n",
        "    path, label = df_row[\"path\"], df_row[\"label\"]\n",
        "    df = pd.DataFrame([{\"Label\": label, \"Sentence\": \"    \"}])\n",
        "    setup = {\n",
        "        'border': 2,\n",
        "        'show_dimensions': True,\n",
        "        'justify': 'center',\n",
        "        'classes': 'xxx',\n",
        "        'escape': False,\n",
        "    }\n",
        "    ipd.display(ipd.HTML(STYLES + df.to_html(**setup) + \"<br />\"))\n",
        "    speech, sr = torchaudio.load(path)\n",
        "    speech = speech[0].numpy().squeeze()\n",
        "    speech = librosa.resample(np.asarray(speech), orig_sr=sr, target_sr=sampling_rate)\n",
        "    ipd.display(ipd.Audio(data=np.asarray(speech), autoplay=True, rate=sampling_rate))\n",
        "\n",
        "    outputs = predict(path, sampling_rate)\n",
        "    r = pd.DataFrame(outputs)\n",
        "    ipd.display(ipd.HTML(STYLES + r.to_html(**setup) + \"<br />\"))"
      ]
    },
    {
      "cell_type": "code",
      "execution_count": 45,
      "metadata": {
        "colab": {
          "base_uri": "https://localhost:8080/",
          "height": 204
        },
        "id": "UD7oUP20YwYT",
        "outputId": "82aac5b9-3b85-432d-8711-6ad7611e5f76"
      },
      "outputs": [
        {
          "data": {
            "text/html": [
              "<div>\n",
              "<style scoped>\n",
              "    .dataframe tbody tr th:only-of-type {\n",
              "        vertical-align: middle;\n",
              "    }\n",
              "\n",
              "    .dataframe tbody tr th {\n",
              "        vertical-align: top;\n",
              "    }\n",
              "\n",
              "    .dataframe thead th {\n",
              "        text-align: right;\n",
              "    }\n",
              "</style>\n",
              "<table border=\"1\" class=\"dataframe\">\n",
              "  <thead>\n",
              "    <tr style=\"text-align: right;\">\n",
              "      <th></th>\n",
              "      <th>path</th>\n",
              "      <th>label</th>\n",
              "    </tr>\n",
              "  </thead>\n",
              "  <tbody>\n",
              "    <tr>\n",
              "      <th>0</th>\n",
              "      <td>content/data/clips_rd/cabbage/cabbage_11_04.wav</td>\n",
              "      <td>cabbage</td>\n",
              "    </tr>\n",
              "    <tr>\n",
              "      <th>1</th>\n",
              "      <td>content/data/clips_rd/pizza/pizza_5_64.wav</td>\n",
              "      <td>pizza</td>\n",
              "    </tr>\n",
              "    <tr>\n",
              "      <th>2</th>\n",
              "      <td>content/data/clips_rd/aloe/aloe_7_08.wav</td>\n",
              "      <td>aloe</td>\n",
              "    </tr>\n",
              "    <tr>\n",
              "      <th>3</th>\n",
              "      <td>content/data/clips_rd/candied_fruits/candied_f...</td>\n",
              "      <td>candied_fruits</td>\n",
              "    </tr>\n",
              "    <tr>\n",
              "      <th>4</th>\n",
              "      <td>content/data/clips_rd/soup/soup_8_22.wav</td>\n",
              "      <td>soup</td>\n",
              "    </tr>\n",
              "  </tbody>\n",
              "</table>\n",
              "</div>"
            ],
            "text/plain": [
              "                                                path           label\n",
              "0    content/data/clips_rd/cabbage/cabbage_11_04.wav         cabbage\n",
              "1         content/data/clips_rd/pizza/pizza_5_64.wav           pizza\n",
              "2           content/data/clips_rd/aloe/aloe_7_08.wav            aloe\n",
              "3  content/data/clips_rd/candied_fruits/candied_f...  candied_fruits\n",
              "4           content/data/clips_rd/soup/soup_8_22.wav            soup"
            ]
          },
          "execution_count": 45,
          "metadata": {},
          "output_type": "execute_result"
        }
      ],
      "source": [
        "test = pd.read_csv(\"./content/data/test.csv\", sep=\"\\t\")\n",
        "test.head()"
      ]
    },
    {
      "cell_type": "code",
      "execution_count": 46,
      "metadata": {
        "colab": {
          "base_uri": "https://localhost:8080/",
          "height": 1000
        },
        "id": "FlJO2LfVWIyT",
        "outputId": "f917fea4-ac34-47b4-b0a8-baa2650b22be"
      },
      "outputs": [
        {
          "data": {
            "text/html": [
              "<style>\n",
              "div.display_data {\n",
              "    margin: 0 auto;\n",
              "    max-width: 500px;\n",
              "}\n",
              "table.xxx {\n",
              "    margin: 50px !important;\n",
              "    float: right !important;\n",
              "    clear: both !important;\n",
              "}\n",
              "table.xxx td {\n",
              "    min-width: 300px !important;\n",
              "    text-align: center !important;\n",
              "}\n",
              "</style><table border=\"2\" class=\"dataframe xxx\">\n",
              "  <thead>\n",
              "    <tr style=\"text-align: center;\">\n",
              "      <th></th>\n",
              "      <th>Label</th>\n",
              "      <th>Sentence</th>\n",
              "    </tr>\n",
              "  </thead>\n",
              "  <tbody>\n",
              "    <tr>\n",
              "      <th>0</th>\n",
              "      <td>cabbage</td>\n",
              "      <td></td>\n",
              "    </tr>\n",
              "  </tbody>\n",
              "</table>\n",
              "<p>1 rows × 2 columns</p><br />"
            ],
            "text/plain": [
              "<IPython.core.display.HTML object>"
            ]
          },
          "metadata": {},
          "output_type": "display_data"
        },
        {
          "data": {
            "text/html": [
              "\n",
              "                <audio  controls=\"controls\" autoplay=\"autoplay\">\n",
              "                    <source src=\"data:audio/wav;base64,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\" type=\"audio/wav\" />\n",
              "                    Your browser does not support the audio element.\n",
              "                </audio>\n",
              "              "
            ],
            "text/plain": [
              "<IPython.lib.display.Audio object>"
            ]
          },
          "metadata": {},
          "output_type": "display_data"
        },
        {
          "data": {
            "text/html": [
              "<style>\n",
              "div.display_data {\n",
              "    margin: 0 auto;\n",
              "    max-width: 500px;\n",
              "}\n",
              "table.xxx {\n",
              "    margin: 50px !important;\n",
              "    float: right !important;\n",
              "    clear: both !important;\n",
              "}\n",
              "table.xxx td {\n",
              "    min-width: 300px !important;\n",
              "    text-align: center !important;\n",
              "}\n",
              "</style><table border=\"2\" class=\"dataframe xxx\">\n",
              "  <thead>\n",
              "    <tr style=\"text-align: center;\">\n",
              "      <th></th>\n",
              "      <th>Label</th>\n",
              "      <th>Score</th>\n",
              "    </tr>\n",
              "  </thead>\n",
              "  <tbody>\n",
              "    <tr>\n",
              "      <th>0</th>\n",
              "      <td>aloe</td>\n",
              "      <td>0.0%</td>\n",
              "    </tr>\n",
              "    <tr>\n",
              "      <th>1</th>\n",
              "      <td>burger</td>\n",
              "      <td>0.0%</td>\n",
              "    </tr>\n",
              "    <tr>\n",
              "      <th>2</th>\n",
              "      <td>cabbage</td>\n",
              "      <td>100.0%</td>\n",
              "    </tr>\n",
              "    <tr>\n",
              "      <th>3</th>\n",
              "      <td>candied_fruits</td>\n",
              "      <td>0.0%</td>\n",
              "    </tr>\n",
              "    <tr>\n",
              "      <th>4</th>\n",
              "      <td>carrots</td>\n",
              "      <td>0.0%</td>\n",
              "    </tr>\n",
              "    <tr>\n",
              "      <th>5</th>\n",
              "      <td>chips</td>\n",
              "      <td>0.0%</td>\n",
              "    </tr>\n",
              "    <tr>\n",
              "      <th>6</th>\n",
              "      <td>chocolate</td>\n",
              "      <td>0.0%</td>\n",
              "    </tr>\n",
              "    <tr>\n",
              "      <th>7</th>\n",
              "      <td>drinks</td>\n",
              "      <td>0.0%</td>\n",
              "    </tr>\n",
              "    <tr>\n",
              "      <th>8</th>\n",
              "      <td>fries</td>\n",
              "      <td>0.0%</td>\n",
              "    </tr>\n",
              "    <tr>\n",
              "      <th>9</th>\n",
              "      <td>grapes</td>\n",
              "      <td>0.0%</td>\n",
              "    </tr>\n",
              "    <tr>\n",
              "      <th>10</th>\n",
              "      <td>gummies</td>\n",
              "      <td>0.0%</td>\n",
              "    </tr>\n",
              "    <tr>\n",
              "      <th>11</th>\n",
              "      <td>ice-cream</td>\n",
              "      <td>0.0%</td>\n",
              "    </tr>\n",
              "    <tr>\n",
              "      <th>12</th>\n",
              "      <td>jelly</td>\n",
              "      <td>0.0%</td>\n",
              "    </tr>\n",
              "    <tr>\n",
              "      <th>13</th>\n",
              "      <td>noodles</td>\n",
              "      <td>0.0%</td>\n",
              "    </tr>\n",
              "    <tr>\n",
              "      <th>14</th>\n",
              "      <td>pickles</td>\n",
              "      <td>0.0%</td>\n",
              "    </tr>\n",
              "    <tr>\n",
              "      <th>15</th>\n",
              "      <td>pizza</td>\n",
              "      <td>0.0%</td>\n",
              "    </tr>\n",
              "    <tr>\n",
              "      <th>16</th>\n",
              "      <td>ribs</td>\n",
              "      <td>0.0%</td>\n",
              "    </tr>\n",
              "    <tr>\n",
              "      <th>17</th>\n",
              "      <td>salmon</td>\n",
              "      <td>0.0%</td>\n",
              "    </tr>\n",
              "    <tr>\n",
              "      <th>18</th>\n",
              "      <td>soup</td>\n",
              "      <td>0.0%</td>\n",
              "    </tr>\n",
              "    <tr>\n",
              "      <th>19</th>\n",
              "      <td>wings</td>\n",
              "      <td>0.0%</td>\n",
              "    </tr>\n",
              "  </tbody>\n",
              "</table>\n",
              "<p>20 rows × 2 columns</p><br />"
            ],
            "text/plain": [
              "<IPython.core.display.HTML object>"
            ]
          },
          "metadata": {},
          "output_type": "display_data"
        }
      ],
      "source": [
        "prediction(test.iloc[0])"
      ]
    },
    {
      "cell_type": "code",
      "execution_count": 47,
      "metadata": {
        "colab": {
          "base_uri": "https://localhost:8080/",
          "height": 1000
        },
        "id": "hzoKOgpoWI1K",
        "outputId": "563cde17-2786-41c8-9a6e-79bfcd0cf992"
      },
      "outputs": [
        {
          "data": {
            "text/html": [
              "<style>\n",
              "div.display_data {\n",
              "    margin: 0 auto;\n",
              "    max-width: 500px;\n",
              "}\n",
              "table.xxx {\n",
              "    margin: 50px !important;\n",
              "    float: right !important;\n",
              "    clear: both !important;\n",
              "}\n",
              "table.xxx td {\n",
              "    min-width: 300px !important;\n",
              "    text-align: center !important;\n",
              "}\n",
              "</style><table border=\"2\" class=\"dataframe xxx\">\n",
              "  <thead>\n",
              "    <tr style=\"text-align: center;\">\n",
              "      <th></th>\n",
              "      <th>Label</th>\n",
              "      <th>Sentence</th>\n",
              "    </tr>\n",
              "  </thead>\n",
              "  <tbody>\n",
              "    <tr>\n",
              "      <th>0</th>\n",
              "      <td>pizza</td>\n",
              "      <td></td>\n",
              "    </tr>\n",
              "  </tbody>\n",
              "</table>\n",
              "<p>1 rows × 2 columns</p><br />"
            ],
            "text/plain": [
              "<IPython.core.display.HTML object>"
            ]
          },
          "metadata": {},
          "output_type": "display_data"
        },
        {
          "data": {
            "text/html": [
              "\n",
              "                <audio  controls=\"controls\" autoplay=\"autoplay\">\n",
              "                    <source src=\"data:audio/wav;base64,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\" type=\"audio/wav\" />\n",
              "                    Your browser does not support the audio element.\n",
              "                </audio>\n",
              "              "
            ],
            "text/plain": [
              "<IPython.lib.display.Audio object>"
            ]
          },
          "metadata": {},
          "output_type": "display_data"
        },
        {
          "data": {
            "text/html": [
              "<style>\n",
              "div.display_data {\n",
              "    margin: 0 auto;\n",
              "    max-width: 500px;\n",
              "}\n",
              "table.xxx {\n",
              "    margin: 50px !important;\n",
              "    float: right !important;\n",
              "    clear: both !important;\n",
              "}\n",
              "table.xxx td {\n",
              "    min-width: 300px !important;\n",
              "    text-align: center !important;\n",
              "}\n",
              "</style><table border=\"2\" class=\"dataframe xxx\">\n",
              "  <thead>\n",
              "    <tr style=\"text-align: center;\">\n",
              "      <th></th>\n",
              "      <th>Label</th>\n",
              "      <th>Score</th>\n",
              "    </tr>\n",
              "  </thead>\n",
              "  <tbody>\n",
              "    <tr>\n",
              "      <th>0</th>\n",
              "      <td>aloe</td>\n",
              "      <td>0.0%</td>\n",
              "    </tr>\n",
              "    <tr>\n",
              "      <th>1</th>\n",
              "      <td>burger</td>\n",
              "      <td>0.0%</td>\n",
              "    </tr>\n",
              "    <tr>\n",
              "      <th>2</th>\n",
              "      <td>cabbage</td>\n",
              "      <td>0.0%</td>\n",
              "    </tr>\n",
              "    <tr>\n",
              "      <th>3</th>\n",
              "      <td>candied_fruits</td>\n",
              "      <td>0.0%</td>\n",
              "    </tr>\n",
              "    <tr>\n",
              "      <th>4</th>\n",
              "      <td>carrots</td>\n",
              "      <td>0.0%</td>\n",
              "    </tr>\n",
              "    <tr>\n",
              "      <th>5</th>\n",
              "      <td>chips</td>\n",
              "      <td>0.0%</td>\n",
              "    </tr>\n",
              "    <tr>\n",
              "      <th>6</th>\n",
              "      <td>chocolate</td>\n",
              "      <td>0.0%</td>\n",
              "    </tr>\n",
              "    <tr>\n",
              "      <th>7</th>\n",
              "      <td>drinks</td>\n",
              "      <td>0.0%</td>\n",
              "    </tr>\n",
              "    <tr>\n",
              "      <th>8</th>\n",
              "      <td>fries</td>\n",
              "      <td>0.0%</td>\n",
              "    </tr>\n",
              "    <tr>\n",
              "      <th>9</th>\n",
              "      <td>grapes</td>\n",
              "      <td>0.0%</td>\n",
              "    </tr>\n",
              "    <tr>\n",
              "      <th>10</th>\n",
              "      <td>gummies</td>\n",
              "      <td>0.0%</td>\n",
              "    </tr>\n",
              "    <tr>\n",
              "      <th>11</th>\n",
              "      <td>ice-cream</td>\n",
              "      <td>0.0%</td>\n",
              "    </tr>\n",
              "    <tr>\n",
              "      <th>12</th>\n",
              "      <td>jelly</td>\n",
              "      <td>0.0%</td>\n",
              "    </tr>\n",
              "    <tr>\n",
              "      <th>13</th>\n",
              "      <td>noodles</td>\n",
              "      <td>0.0%</td>\n",
              "    </tr>\n",
              "    <tr>\n",
              "      <th>14</th>\n",
              "      <td>pickles</td>\n",
              "      <td>0.0%</td>\n",
              "    </tr>\n",
              "    <tr>\n",
              "      <th>15</th>\n",
              "      <td>pizza</td>\n",
              "      <td>99.9%</td>\n",
              "    </tr>\n",
              "    <tr>\n",
              "      <th>16</th>\n",
              "      <td>ribs</td>\n",
              "      <td>0.0%</td>\n",
              "    </tr>\n",
              "    <tr>\n",
              "      <th>17</th>\n",
              "      <td>salmon</td>\n",
              "      <td>0.0%</td>\n",
              "    </tr>\n",
              "    <tr>\n",
              "      <th>18</th>\n",
              "      <td>soup</td>\n",
              "      <td>0.0%</td>\n",
              "    </tr>\n",
              "    <tr>\n",
              "      <th>19</th>\n",
              "      <td>wings</td>\n",
              "      <td>0.0%</td>\n",
              "    </tr>\n",
              "  </tbody>\n",
              "</table>\n",
              "<p>20 rows × 2 columns</p><br />"
            ],
            "text/plain": [
              "<IPython.core.display.HTML object>"
            ]
          },
          "metadata": {},
          "output_type": "display_data"
        }
      ],
      "source": [
        "prediction(test.iloc[1])"
      ]
    },
    {
      "cell_type": "code",
      "execution_count": 48,
      "metadata": {
        "colab": {
          "base_uri": "https://localhost:8080/",
          "height": 1000
        },
        "id": "7nqwbTTXSfMO",
        "outputId": "1da5a96e-4314-4850-b3cb-a459ee911c7d"
      },
      "outputs": [
        {
          "data": {
            "text/html": [
              "<style>\n",
              "div.display_data {\n",
              "    margin: 0 auto;\n",
              "    max-width: 500px;\n",
              "}\n",
              "table.xxx {\n",
              "    margin: 50px !important;\n",
              "    float: right !important;\n",
              "    clear: both !important;\n",
              "}\n",
              "table.xxx td {\n",
              "    min-width: 300px !important;\n",
              "    text-align: center !important;\n",
              "}\n",
              "</style><table border=\"2\" class=\"dataframe xxx\">\n",
              "  <thead>\n",
              "    <tr style=\"text-align: center;\">\n",
              "      <th></th>\n",
              "      <th>Label</th>\n",
              "      <th>Sentence</th>\n",
              "    </tr>\n",
              "  </thead>\n",
              "  <tbody>\n",
              "    <tr>\n",
              "      <th>0</th>\n",
              "      <td>aloe</td>\n",
              "      <td></td>\n",
              "    </tr>\n",
              "  </tbody>\n",
              "</table>\n",
              "<p>1 rows × 2 columns</p><br />"
            ],
            "text/plain": [
              "<IPython.core.display.HTML object>"
            ]
          },
          "metadata": {},
          "output_type": "display_data"
        },
        {
          "data": {
            "text/html": [
              "\n",
              "                <audio  controls=\"controls\" autoplay=\"autoplay\">\n",
              "                    <source src=\"data:audio/wav;base64,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\" type=\"audio/wav\" />\n",
              "                    Your browser does not support the audio element.\n",
              "                </audio>\n",
              "              "
            ],
            "text/plain": [
              "<IPython.lib.display.Audio object>"
            ]
          },
          "metadata": {},
          "output_type": "display_data"
        },
        {
          "data": {
            "text/html": [
              "<style>\n",
              "div.display_data {\n",
              "    margin: 0 auto;\n",
              "    max-width: 500px;\n",
              "}\n",
              "table.xxx {\n",
              "    margin: 50px !important;\n",
              "    float: right !important;\n",
              "    clear: both !important;\n",
              "}\n",
              "table.xxx td {\n",
              "    min-width: 300px !important;\n",
              "    text-align: center !important;\n",
              "}\n",
              "</style><table border=\"2\" class=\"dataframe xxx\">\n",
              "  <thead>\n",
              "    <tr style=\"text-align: center;\">\n",
              "      <th></th>\n",
              "      <th>Label</th>\n",
              "      <th>Score</th>\n",
              "    </tr>\n",
              "  </thead>\n",
              "  <tbody>\n",
              "    <tr>\n",
              "      <th>0</th>\n",
              "      <td>aloe</td>\n",
              "      <td>99.9%</td>\n",
              "    </tr>\n",
              "    <tr>\n",
              "      <th>1</th>\n",
              "      <td>burger</td>\n",
              "      <td>0.0%</td>\n",
              "    </tr>\n",
              "    <tr>\n",
              "      <th>2</th>\n",
              "      <td>cabbage</td>\n",
              "      <td>0.0%</td>\n",
              "    </tr>\n",
              "    <tr>\n",
              "      <th>3</th>\n",
              "      <td>candied_fruits</td>\n",
              "      <td>0.0%</td>\n",
              "    </tr>\n",
              "    <tr>\n",
              "      <th>4</th>\n",
              "      <td>carrots</td>\n",
              "      <td>0.0%</td>\n",
              "    </tr>\n",
              "    <tr>\n",
              "      <th>5</th>\n",
              "      <td>chips</td>\n",
              "      <td>0.0%</td>\n",
              "    </tr>\n",
              "    <tr>\n",
              "      <th>6</th>\n",
              "      <td>chocolate</td>\n",
              "      <td>0.0%</td>\n",
              "    </tr>\n",
              "    <tr>\n",
              "      <th>7</th>\n",
              "      <td>drinks</td>\n",
              "      <td>0.0%</td>\n",
              "    </tr>\n",
              "    <tr>\n",
              "      <th>8</th>\n",
              "      <td>fries</td>\n",
              "      <td>0.0%</td>\n",
              "    </tr>\n",
              "    <tr>\n",
              "      <th>9</th>\n",
              "      <td>grapes</td>\n",
              "      <td>0.0%</td>\n",
              "    </tr>\n",
              "    <tr>\n",
              "      <th>10</th>\n",
              "      <td>gummies</td>\n",
              "      <td>0.0%</td>\n",
              "    </tr>\n",
              "    <tr>\n",
              "      <th>11</th>\n",
              "      <td>ice-cream</td>\n",
              "      <td>0.0%</td>\n",
              "    </tr>\n",
              "    <tr>\n",
              "      <th>12</th>\n",
              "      <td>jelly</td>\n",
              "      <td>0.0%</td>\n",
              "    </tr>\n",
              "    <tr>\n",
              "      <th>13</th>\n",
              "      <td>noodles</td>\n",
              "      <td>0.0%</td>\n",
              "    </tr>\n",
              "    <tr>\n",
              "      <th>14</th>\n",
              "      <td>pickles</td>\n",
              "      <td>0.0%</td>\n",
              "    </tr>\n",
              "    <tr>\n",
              "      <th>15</th>\n",
              "      <td>pizza</td>\n",
              "      <td>0.0%</td>\n",
              "    </tr>\n",
              "    <tr>\n",
              "      <th>16</th>\n",
              "      <td>ribs</td>\n",
              "      <td>0.0%</td>\n",
              "    </tr>\n",
              "    <tr>\n",
              "      <th>17</th>\n",
              "      <td>salmon</td>\n",
              "      <td>0.0%</td>\n",
              "    </tr>\n",
              "    <tr>\n",
              "      <th>18</th>\n",
              "      <td>soup</td>\n",
              "      <td>0.0%</td>\n",
              "    </tr>\n",
              "    <tr>\n",
              "      <th>19</th>\n",
              "      <td>wings</td>\n",
              "      <td>0.0%</td>\n",
              "    </tr>\n",
              "  </tbody>\n",
              "</table>\n",
              "<p>20 rows × 2 columns</p><br />"
            ],
            "text/plain": [
              "<IPython.core.display.HTML object>"
            ]
          },
          "metadata": {},
          "output_type": "display_data"
        }
      ],
      "source": [
        "prediction(test.iloc[2])"
      ]
    },
    {
      "cell_type": "code",
      "execution_count": null,
      "metadata": {
        "id": "C0lyKt24EkhH"
      },
      "outputs": [],
      "source": []
    }
  ],
  "metadata": {
    "accelerator": "GPU",
    "colab": {
      "collapsed_sections": [],
      "name": "Eating Sound Collection using Wav2Vec2.ipynb",
      "provenance": []
    },
    "kernelspec": {
      "display_name": "Python 3",
      "name": "python3"
    },
    "language_info": {
      "codemirror_mode": {
        "name": "ipython",
        "version": 3
      },
      "file_extension": ".py",
      "mimetype": "text/x-python",
      "name": "python",
      "nbconvert_exporter": "python",
      "pygments_lexer": "ipython3",
      "version": "3.9.19"
    },
    "widgets": {
      "application/vnd.jupyter.widget-state+json": {
        "000485a55b4f4648a76204f3725669df": {
          "model_module": "@jupyter-widgets/base",
          "model_name": "LayoutModel",
          "state": {
            "_model_module": "@jupyter-widgets/base",
            "_model_module_version": "1.2.0",
            "_model_name": "LayoutModel",
            "_view_count": null,
            "_view_module": "@jupyter-widgets/base",
            "_view_module_version": "1.2.0",
            "_view_name": "LayoutView",
            "align_content": null,
            "align_items": null,
            "align_self": null,
            "border": null,
            "bottom": null,
            "display": null,
            "flex": null,
            "flex_flow": null,
            "grid_area": null,
            "grid_auto_columns": null,
            "grid_auto_flow": null,
            "grid_auto_rows": null,
            "grid_column": null,
            "grid_gap": null,
            "grid_row": null,
            "grid_template_areas": null,
            "grid_template_columns": null,
            "grid_template_rows": null,
            "height": null,
            "justify_content": null,
            "justify_items": null,
            "left": null,
            "margin": null,
            "max_height": null,
            "max_width": null,
            "min_height": null,
            "min_width": null,
            "object_fit": null,
            "object_position": null,
            "order": null,
            "overflow": null,
            "overflow_x": null,
            "overflow_y": null,
            "padding": null,
            "right": null,
            "top": null,
            "visibility": null,
            "width": null
          }
        },
        "018dfa68a89c43c8b064050242e82181": {
          "model_module": "@jupyter-widgets/controls",
          "model_name": "HBoxModel",
          "state": {
            "_dom_classes": [],
            "_model_module": "@jupyter-widgets/controls",
            "_model_module_version": "1.5.0",
            "_model_name": "HBoxModel",
            "_view_count": null,
            "_view_module": "@jupyter-widgets/controls",
            "_view_module_version": "1.5.0",
            "_view_name": "HBoxView",
            "box_style": "",
            "children": [
              "IPY_MODEL_e7e6a8c03649466d875f7150e6ad5b72",
              "IPY_MODEL_85c562df9b824ef8b415bda19e334b54"
            ],
            "layout": "IPY_MODEL_3877cc93cf12456097b0575959f25e87"
          }
        },
        "01a594c84d6a456291fbf2bf22de5fab": {
          "model_module": "@jupyter-widgets/controls",
          "model_name": "DescriptionStyleModel",
          "state": {
            "_model_module": "@jupyter-widgets/controls",
            "_model_module_version": "1.5.0",
            "_model_name": "DescriptionStyleModel",
            "_view_count": null,
            "_view_module": "@jupyter-widgets/base",
            "_view_module_version": "1.2.0",
            "_view_name": "StyleView",
            "description_width": ""
          }
        },
        "07e02f90c9474a9bac60af6e157c5635": {
          "model_module": "@jupyter-widgets/controls",
          "model_name": "FloatProgressModel",
          "state": {
            "_dom_classes": [],
            "_model_module": "@jupyter-widgets/controls",
            "_model_module_version": "1.5.0",
            "_model_name": "FloatProgressModel",
            "_view_count": null,
            "_view_module": "@jupyter-widgets/controls",
            "_view_module_version": "1.5.0",
            "_view_name": "ProgressView",
            "bar_style": "success",
            "description": "100%",
            "description_tooltip": null,
            "layout": "IPY_MODEL_fc2deb84c1124cf9b28005f8eafdcc5f",
            "max": 279,
            "min": 0,
            "orientation": "horizontal",
            "style": "IPY_MODEL_4b725e6473e5477c9161eecf4af4113f",
            "value": 279
          }
        },
        "08ba1ac5cb5d437193dfb4b446f25ac1": {
          "model_module": "@jupyter-widgets/controls",
          "model_name": "FloatProgressModel",
          "state": {
            "_dom_classes": [],
            "_model_module": "@jupyter-widgets/controls",
            "_model_module_version": "1.5.0",
            "_model_name": "FloatProgressModel",
            "_view_count": null,
            "_view_module": "@jupyter-widgets/controls",
            "_view_module_version": "1.5.0",
            "_view_name": "ProgressView",
            "bar_style": "success",
            "description": " #0: 100%",
            "description_tooltip": null,
            "layout": "IPY_MODEL_350a8323dadc4798835aba80020ac439",
            "max": 3,
            "min": 0,
            "orientation": "horizontal",
            "style": "IPY_MODEL_15367995b8744a818a312a8160ad60f2",
            "value": 3
          }
        },
        "09e7de10a9b14ccf83314e00c14f2b44": {
          "model_module": "@jupyter-widgets/controls",
          "model_name": "HTMLModel",
          "state": {
            "_dom_classes": [],
            "_model_module": "@jupyter-widgets/controls",
            "_model_module_version": "1.5.0",
            "_model_name": "HTMLModel",
            "_view_count": null,
            "_view_module": "@jupyter-widgets/controls",
            "_view_module_version": "1.5.0",
            "_view_name": "HTMLView",
            "description": "",
            "description_tooltip": null,
            "layout": "IPY_MODEL_837e87dd56e84ec396d6100bf08afeb5",
            "placeholder": "​",
            "style": "IPY_MODEL_5c25acc905294f69b89819d7aa140bed",
            "value": " 3/3 [00:07&lt;00:00,  2.45s/ba]"
          }
        },
        "0d940cef72aa4db08f38cb86fcc2ae78": {
          "model_module": "@jupyter-widgets/controls",
          "model_name": "FloatProgressModel",
          "state": {
            "_dom_classes": [],
            "_model_module": "@jupyter-widgets/controls",
            "_model_module_version": "1.5.0",
            "_model_name": "FloatProgressModel",
            "_view_count": null,
            "_view_module": "@jupyter-widgets/controls",
            "_view_module_version": "1.5.0",
            "_view_name": "ProgressView",
            "bar_style": "success",
            "description": " #2: 100%",
            "description_tooltip": null,
            "layout": "IPY_MODEL_cff729db41224f5cb11149a157c13007",
            "max": 3,
            "min": 0,
            "orientation": "horizontal",
            "style": "IPY_MODEL_3fe5598e1eb746beb147e500467294ab",
            "value": 3
          }
        },
        "1140dc0960f54148a12d30ef4345ee96": {
          "model_module": "@jupyter-widgets/base",
          "model_name": "LayoutModel",
          "state": {
            "_model_module": "@jupyter-widgets/base",
            "_model_module_version": "1.2.0",
            "_model_name": "LayoutModel",
            "_view_count": null,
            "_view_module": "@jupyter-widgets/base",
            "_view_module_version": "1.2.0",
            "_view_name": "LayoutView",
            "align_content": null,
            "align_items": null,
            "align_self": null,
            "border": null,
            "bottom": null,
            "display": null,
            "flex": null,
            "flex_flow": null,
            "grid_area": null,
            "grid_auto_columns": null,
            "grid_auto_flow": null,
            "grid_auto_rows": null,
            "grid_column": null,
            "grid_gap": null,
            "grid_row": null,
            "grid_template_areas": null,
            "grid_template_columns": null,
            "grid_template_rows": null,
            "height": null,
            "justify_content": null,
            "justify_items": null,
            "left": null,
            "margin": null,
            "max_height": null,
            "max_width": null,
            "min_height": null,
            "min_width": null,
            "object_fit": null,
            "object_position": null,
            "order": null,
            "overflow": null,
            "overflow_x": null,
            "overflow_y": null,
            "padding": null,
            "right": null,
            "top": null,
            "visibility": null,
            "width": null
          }
        },
        "11729cf2675d41b9b9375fae8ce38261": {
          "model_module": "@jupyter-widgets/base",
          "model_name": "LayoutModel",
          "state": {
            "_model_module": "@jupyter-widgets/base",
            "_model_module_version": "1.2.0",
            "_model_name": "LayoutModel",
            "_view_count": null,
            "_view_module": "@jupyter-widgets/base",
            "_view_module_version": "1.2.0",
            "_view_name": "LayoutView",
            "align_content": null,
            "align_items": null,
            "align_self": null,
            "border": null,
            "bottom": null,
            "display": null,
            "flex": null,
            "flex_flow": null,
            "grid_area": null,
            "grid_auto_columns": null,
            "grid_auto_flow": null,
            "grid_auto_rows": null,
            "grid_column": null,
            "grid_gap": null,
            "grid_row": null,
            "grid_template_areas": null,
            "grid_template_columns": null,
            "grid_template_rows": null,
            "height": null,
            "justify_content": null,
            "justify_items": null,
            "left": null,
            "margin": null,
            "max_height": null,
            "max_width": null,
            "min_height": null,
            "min_width": null,
            "object_fit": null,
            "object_position": null,
            "order": null,
            "overflow": null,
            "overflow_x": null,
            "overflow_y": null,
            "padding": null,
            "right": null,
            "top": null,
            "visibility": null,
            "width": null
          }
        },
        "1450e205f5d44a0b9ff8ef3decbd74d4": {
          "model_module": "@jupyter-widgets/base",
          "model_name": "LayoutModel",
          "state": {
            "_model_module": "@jupyter-widgets/base",
            "_model_module_version": "1.2.0",
            "_model_name": "LayoutModel",
            "_view_count": null,
            "_view_module": "@jupyter-widgets/base",
            "_view_module_version": "1.2.0",
            "_view_name": "LayoutView",
            "align_content": null,
            "align_items": null,
            "align_self": null,
            "border": null,
            "bottom": null,
            "display": null,
            "flex": null,
            "flex_flow": null,
            "grid_area": null,
            "grid_auto_columns": null,
            "grid_auto_flow": null,
            "grid_auto_rows": null,
            "grid_column": null,
            "grid_gap": null,
            "grid_row": null,
            "grid_template_areas": null,
            "grid_template_columns": null,
            "grid_template_rows": null,
            "height": null,
            "justify_content": null,
            "justify_items": null,
            "left": null,
            "margin": null,
            "max_height": null,
            "max_width": null,
            "min_height": null,
            "min_width": null,
            "object_fit": null,
            "object_position": null,
            "order": null,
            "overflow": null,
            "overflow_x": null,
            "overflow_y": null,
            "padding": null,
            "right": null,
            "top": null,
            "visibility": null,
            "width": null
          }
        },
        "149f0975a5124dffa85a342557ec0649": {
          "model_module": "@jupyter-widgets/controls",
          "model_name": "HBoxModel",
          "state": {
            "_dom_classes": [],
            "_model_module": "@jupyter-widgets/controls",
            "_model_module_version": "1.5.0",
            "_model_name": "HBoxModel",
            "_view_count": null,
            "_view_module": "@jupyter-widgets/controls",
            "_view_module_version": "1.5.0",
            "_view_name": "HBoxView",
            "box_style": "",
            "children": [
              "IPY_MODEL_ae46db9faf124d2f987dccb0ad62115b",
              "IPY_MODEL_6fa3ec2f85964814a7b408b0e8174f5f"
            ],
            "layout": "IPY_MODEL_3b466cf20cf3429480af691022b28816"
          }
        },
        "15367995b8744a818a312a8160ad60f2": {
          "model_module": "@jupyter-widgets/controls",
          "model_name": "ProgressStyleModel",
          "state": {
            "_model_module": "@jupyter-widgets/controls",
            "_model_module_version": "1.5.0",
            "_model_name": "ProgressStyleModel",
            "_view_count": null,
            "_view_module": "@jupyter-widgets/base",
            "_view_module_version": "1.2.0",
            "_view_name": "StyleView",
            "bar_color": null,
            "description_width": "initial"
          }
        },
        "1757cd8704a444c8b7a90edc028ac93e": {
          "model_module": "@jupyter-widgets/controls",
          "model_name": "HBoxModel",
          "state": {
            "_dom_classes": [],
            "_model_module": "@jupyter-widgets/controls",
            "_model_module_version": "1.5.0",
            "_model_name": "HBoxModel",
            "_view_count": null,
            "_view_module": "@jupyter-widgets/controls",
            "_view_module_version": "1.5.0",
            "_view_name": "HBoxView",
            "box_style": "",
            "children": [
              "IPY_MODEL_08ba1ac5cb5d437193dfb4b446f25ac1",
              "IPY_MODEL_09e7de10a9b14ccf83314e00c14f2b44"
            ],
            "layout": "IPY_MODEL_1450e205f5d44a0b9ff8ef3decbd74d4"
          }
        },
        "19d6eba32fff43579af4aa225b09f6bf": {
          "model_module": "@jupyter-widgets/controls",
          "model_name": "ProgressStyleModel",
          "state": {
            "_model_module": "@jupyter-widgets/controls",
            "_model_module_version": "1.5.0",
            "_model_name": "ProgressStyleModel",
            "_view_count": null,
            "_view_module": "@jupyter-widgets/base",
            "_view_module_version": "1.2.0",
            "_view_name": "StyleView",
            "bar_color": null,
            "description_width": "initial"
          }
        },
        "1cf3d36ba8b24757a48ea06239b8c595": {
          "model_module": "@jupyter-widgets/controls",
          "model_name": "HBoxModel",
          "state": {
            "_dom_classes": [],
            "_model_module": "@jupyter-widgets/controls",
            "_model_module_version": "1.5.0",
            "_model_name": "HBoxModel",
            "_view_count": null,
            "_view_module": "@jupyter-widgets/controls",
            "_view_module_version": "1.5.0",
            "_view_name": "HBoxView",
            "box_style": "",
            "children": [
              "IPY_MODEL_07e02f90c9474a9bac60af6e157c5635",
              "IPY_MODEL_c6d50e8f952e455bae2bf13902960026"
            ],
            "layout": "IPY_MODEL_5b7655a0ec914ce285b4802a7265dd1b"
          }
        },
        "1dee66d422f94e97b5410bda7d630183": {
          "model_module": "@jupyter-widgets/controls",
          "model_name": "HBoxModel",
          "state": {
            "_dom_classes": [],
            "_model_module": "@jupyter-widgets/controls",
            "_model_module_version": "1.5.0",
            "_model_name": "HBoxModel",
            "_view_count": null,
            "_view_module": "@jupyter-widgets/controls",
            "_view_module_version": "1.5.0",
            "_view_name": "HBoxView",
            "box_style": "",
            "children": [
              "IPY_MODEL_36750aaa3f494df4984a6878f7fddec2",
              "IPY_MODEL_6f80a3a28a964c6383530cdd03ea4e47"
            ],
            "layout": "IPY_MODEL_1140dc0960f54148a12d30ef4345ee96"
          }
        },
        "1fed03a5bc0e4333805eabf089b9b0ea": {
          "model_module": "@jupyter-widgets/controls",
          "model_name": "HBoxModel",
          "state": {
            "_dom_classes": [],
            "_model_module": "@jupyter-widgets/controls",
            "_model_module_version": "1.5.0",
            "_model_name": "HBoxModel",
            "_view_count": null,
            "_view_module": "@jupyter-widgets/controls",
            "_view_module_version": "1.5.0",
            "_view_name": "HBoxView",
            "box_style": "",
            "children": [
              "IPY_MODEL_934b92e53b7d41d5b4fe32014e95cbed",
              "IPY_MODEL_d06b74a1da0048dbb711c7b73b4c0af3"
            ],
            "layout": "IPY_MODEL_a7ad0056c5f64423b29be2fd88c78719"
          }
        },
        "21e4e79ff3e7423f8e2424ee5718ffe0": {
          "model_module": "@jupyter-widgets/controls",
          "model_name": "DescriptionStyleModel",
          "state": {
            "_model_module": "@jupyter-widgets/controls",
            "_model_module_version": "1.5.0",
            "_model_name": "DescriptionStyleModel",
            "_view_count": null,
            "_view_module": "@jupyter-widgets/base",
            "_view_module_version": "1.2.0",
            "_view_name": "StyleView",
            "description_width": ""
          }
        },
        "221f9e32a50d4d18b478da3df315b5fa": {
          "model_module": "@jupyter-widgets/base",
          "model_name": "LayoutModel",
          "state": {
            "_model_module": "@jupyter-widgets/base",
            "_model_module_version": "1.2.0",
            "_model_name": "LayoutModel",
            "_view_count": null,
            "_view_module": "@jupyter-widgets/base",
            "_view_module_version": "1.2.0",
            "_view_name": "LayoutView",
            "align_content": null,
            "align_items": null,
            "align_self": null,
            "border": null,
            "bottom": null,
            "display": null,
            "flex": null,
            "flex_flow": null,
            "grid_area": null,
            "grid_auto_columns": null,
            "grid_auto_flow": null,
            "grid_auto_rows": null,
            "grid_column": null,
            "grid_gap": null,
            "grid_row": null,
            "grid_template_areas": null,
            "grid_template_columns": null,
            "grid_template_rows": null,
            "height": null,
            "justify_content": null,
            "justify_items": null,
            "left": null,
            "margin": null,
            "max_height": null,
            "max_width": null,
            "min_height": null,
            "min_width": null,
            "object_fit": null,
            "object_position": null,
            "order": null,
            "overflow": null,
            "overflow_x": null,
            "overflow_y": null,
            "padding": null,
            "right": null,
            "top": null,
            "visibility": null,
            "width": null
          }
        },
        "245c287d72cb404f827736af171b8803": {
          "model_module": "@jupyter-widgets/base",
          "model_name": "LayoutModel",
          "state": {
            "_model_module": "@jupyter-widgets/base",
            "_model_module_version": "1.2.0",
            "_model_name": "LayoutModel",
            "_view_count": null,
            "_view_module": "@jupyter-widgets/base",
            "_view_module_version": "1.2.0",
            "_view_name": "LayoutView",
            "align_content": null,
            "align_items": null,
            "align_self": null,
            "border": null,
            "bottom": null,
            "display": null,
            "flex": null,
            "flex_flow": null,
            "grid_area": null,
            "grid_auto_columns": null,
            "grid_auto_flow": null,
            "grid_auto_rows": null,
            "grid_column": null,
            "grid_gap": null,
            "grid_row": null,
            "grid_template_areas": null,
            "grid_template_columns": null,
            "grid_template_rows": null,
            "height": null,
            "justify_content": null,
            "justify_items": null,
            "left": null,
            "margin": null,
            "max_height": null,
            "max_width": null,
            "min_height": null,
            "min_width": null,
            "object_fit": null,
            "object_position": null,
            "order": null,
            "overflow": null,
            "overflow_x": null,
            "overflow_y": null,
            "padding": null,
            "right": null,
            "top": null,
            "visibility": null,
            "width": null
          }
        },
        "2976d0d39ea6484684053385a3f95e42": {
          "model_module": "@jupyter-widgets/controls",
          "model_name": "FloatProgressModel",
          "state": {
            "_dom_classes": [],
            "_model_module": "@jupyter-widgets/controls",
            "_model_module_version": "1.5.0",
            "_model_name": "FloatProgressModel",
            "_view_count": null,
            "_view_module": "@jupyter-widgets/controls",
            "_view_module_version": "1.5.0",
            "_view_name": "ProgressView",
            "bar_style": "success",
            "description": " #2: 100%",
            "description_tooltip": null,
            "layout": "IPY_MODEL_dba87e891dc545949474dd1d123ddded",
            "max": 3,
            "min": 0,
            "orientation": "horizontal",
            "style": "IPY_MODEL_6d513fec3a24462793ef7435e8d12b4d",
            "value": 3
          }
        },
        "2f9a864fab77416ea51b92ffab1a0902": {
          "model_module": "@jupyter-widgets/controls",
          "model_name": "ProgressStyleModel",
          "state": {
            "_model_module": "@jupyter-widgets/controls",
            "_model_module_version": "1.5.0",
            "_model_name": "ProgressStyleModel",
            "_view_count": null,
            "_view_module": "@jupyter-widgets/base",
            "_view_module_version": "1.2.0",
            "_view_name": "StyleView",
            "bar_color": null,
            "description_width": "initial"
          }
        },
        "3187736ad3714b8e81224b53f0687664": {
          "model_module": "@jupyter-widgets/controls",
          "model_name": "DescriptionStyleModel",
          "state": {
            "_model_module": "@jupyter-widgets/controls",
            "_model_module_version": "1.5.0",
            "_model_name": "DescriptionStyleModel",
            "_view_count": null,
            "_view_module": "@jupyter-widgets/base",
            "_view_module_version": "1.2.0",
            "_view_name": "StyleView",
            "description_width": ""
          }
        },
        "32dffd51d28d4e5cb06eb050529a4507": {
          "model_module": "@jupyter-widgets/base",
          "model_name": "LayoutModel",
          "state": {
            "_model_module": "@jupyter-widgets/base",
            "_model_module_version": "1.2.0",
            "_model_name": "LayoutModel",
            "_view_count": null,
            "_view_module": "@jupyter-widgets/base",
            "_view_module_version": "1.2.0",
            "_view_name": "LayoutView",
            "align_content": null,
            "align_items": null,
            "align_self": null,
            "border": null,
            "bottom": null,
            "display": null,
            "flex": null,
            "flex_flow": null,
            "grid_area": null,
            "grid_auto_columns": null,
            "grid_auto_flow": null,
            "grid_auto_rows": null,
            "grid_column": null,
            "grid_gap": null,
            "grid_row": null,
            "grid_template_areas": null,
            "grid_template_columns": null,
            "grid_template_rows": null,
            "height": null,
            "justify_content": null,
            "justify_items": null,
            "left": null,
            "margin": null,
            "max_height": null,
            "max_width": null,
            "min_height": null,
            "min_width": null,
            "object_fit": null,
            "object_position": null,
            "order": null,
            "overflow": null,
            "overflow_x": null,
            "overflow_y": null,
            "padding": null,
            "right": null,
            "top": null,
            "visibility": null,
            "width": null
          }
        },
        "33189cc9393f494082c08f62c71f5d8d": {
          "model_module": "@jupyter-widgets/base",
          "model_name": "LayoutModel",
          "state": {
            "_model_module": "@jupyter-widgets/base",
            "_model_module_version": "1.2.0",
            "_model_name": "LayoutModel",
            "_view_count": null,
            "_view_module": "@jupyter-widgets/base",
            "_view_module_version": "1.2.0",
            "_view_name": "LayoutView",
            "align_content": null,
            "align_items": null,
            "align_self": null,
            "border": null,
            "bottom": null,
            "display": null,
            "flex": null,
            "flex_flow": null,
            "grid_area": null,
            "grid_auto_columns": null,
            "grid_auto_flow": null,
            "grid_auto_rows": null,
            "grid_column": null,
            "grid_gap": null,
            "grid_row": null,
            "grid_template_areas": null,
            "grid_template_columns": null,
            "grid_template_rows": null,
            "height": null,
            "justify_content": null,
            "justify_items": null,
            "left": null,
            "margin": null,
            "max_height": null,
            "max_width": null,
            "min_height": null,
            "min_width": null,
            "object_fit": null,
            "object_position": null,
            "order": null,
            "overflow": null,
            "overflow_x": null,
            "overflow_y": null,
            "padding": null,
            "right": null,
            "top": null,
            "visibility": null,
            "width": null
          }
        },
        "3395af9109fd4a1f861f8eecfa8f2033": {
          "model_module": "@jupyter-widgets/controls",
          "model_name": "FloatProgressModel",
          "state": {
            "_dom_classes": [],
            "_model_module": "@jupyter-widgets/controls",
            "_model_module_version": "1.5.0",
            "_model_name": "FloatProgressModel",
            "_view_count": null,
            "_view_module": "@jupyter-widgets/controls",
            "_view_module_version": "1.5.0",
            "_view_name": "ProgressView",
            "bar_style": "success",
            "description": " #3: 100%",
            "description_tooltip": null,
            "layout": "IPY_MODEL_4955552ebd944cc384e4166146c3a5b3",
            "max": 3,
            "min": 0,
            "orientation": "horizontal",
            "style": "IPY_MODEL_77adc5448ac44dfa92b2a7b6d50e89f8",
            "value": 3
          }
        },
        "3424514218d34da2be8c565cb7c4f939": {
          "model_module": "@jupyter-widgets/base",
          "model_name": "LayoutModel",
          "state": {
            "_model_module": "@jupyter-widgets/base",
            "_model_module_version": "1.2.0",
            "_model_name": "LayoutModel",
            "_view_count": null,
            "_view_module": "@jupyter-widgets/base",
            "_view_module_version": "1.2.0",
            "_view_name": "LayoutView",
            "align_content": null,
            "align_items": null,
            "align_self": null,
            "border": null,
            "bottom": null,
            "display": null,
            "flex": null,
            "flex_flow": null,
            "grid_area": null,
            "grid_auto_columns": null,
            "grid_auto_flow": null,
            "grid_auto_rows": null,
            "grid_column": null,
            "grid_gap": null,
            "grid_row": null,
            "grid_template_areas": null,
            "grid_template_columns": null,
            "grid_template_rows": null,
            "height": null,
            "justify_content": null,
            "justify_items": null,
            "left": null,
            "margin": null,
            "max_height": null,
            "max_width": null,
            "min_height": null,
            "min_width": null,
            "object_fit": null,
            "object_position": null,
            "order": null,
            "overflow": null,
            "overflow_x": null,
            "overflow_y": null,
            "padding": null,
            "right": null,
            "top": null,
            "visibility": null,
            "width": null
          }
        },
        "350a8323dadc4798835aba80020ac439": {
          "model_module": "@jupyter-widgets/base",
          "model_name": "LayoutModel",
          "state": {
            "_model_module": "@jupyter-widgets/base",
            "_model_module_version": "1.2.0",
            "_model_name": "LayoutModel",
            "_view_count": null,
            "_view_module": "@jupyter-widgets/base",
            "_view_module_version": "1.2.0",
            "_view_name": "LayoutView",
            "align_content": null,
            "align_items": null,
            "align_self": null,
            "border": null,
            "bottom": null,
            "display": null,
            "flex": null,
            "flex_flow": null,
            "grid_area": null,
            "grid_auto_columns": null,
            "grid_auto_flow": null,
            "grid_auto_rows": null,
            "grid_column": null,
            "grid_gap": null,
            "grid_row": null,
            "grid_template_areas": null,
            "grid_template_columns": null,
            "grid_template_rows": null,
            "height": null,
            "justify_content": null,
            "justify_items": null,
            "left": null,
            "margin": null,
            "max_height": null,
            "max_width": null,
            "min_height": null,
            "min_width": null,
            "object_fit": null,
            "object_position": null,
            "order": null,
            "overflow": null,
            "overflow_x": null,
            "overflow_y": null,
            "padding": null,
            "right": null,
            "top": null,
            "visibility": null,
            "width": null
          }
        },
        "36750aaa3f494df4984a6878f7fddec2": {
          "model_module": "@jupyter-widgets/controls",
          "model_name": "FloatProgressModel",
          "state": {
            "_dom_classes": [],
            "_model_module": "@jupyter-widgets/controls",
            "_model_module_version": "1.5.0",
            "_model_name": "FloatProgressModel",
            "_view_count": null,
            "_view_module": "@jupyter-widgets/controls",
            "_view_module_version": "1.5.0",
            "_view_name": "ProgressView",
            "bar_style": "success",
            "description": "Downloading: 100%",
            "description_tooltip": null,
            "layout": "IPY_MODEL_ea64efae2d8c4f8eb9f0475ebec11512",
            "max": 377569754,
            "min": 0,
            "orientation": "horizontal",
            "style": "IPY_MODEL_b182c0e62ff14820903daee05b60dec3",
            "value": 377569754
          }
        },
        "3877cc93cf12456097b0575959f25e87": {
          "model_module": "@jupyter-widgets/base",
          "model_name": "LayoutModel",
          "state": {
            "_model_module": "@jupyter-widgets/base",
            "_model_module_version": "1.2.0",
            "_model_name": "LayoutModel",
            "_view_count": null,
            "_view_module": "@jupyter-widgets/base",
            "_view_module_version": "1.2.0",
            "_view_name": "LayoutView",
            "align_content": null,
            "align_items": null,
            "align_self": null,
            "border": null,
            "bottom": null,
            "display": null,
            "flex": null,
            "flex_flow": null,
            "grid_area": null,
            "grid_auto_columns": null,
            "grid_auto_flow": null,
            "grid_auto_rows": null,
            "grid_column": null,
            "grid_gap": null,
            "grid_row": null,
            "grid_template_areas": null,
            "grid_template_columns": null,
            "grid_template_rows": null,
            "height": null,
            "justify_content": null,
            "justify_items": null,
            "left": null,
            "margin": null,
            "max_height": null,
            "max_width": null,
            "min_height": null,
            "min_width": null,
            "object_fit": null,
            "object_position": null,
            "order": null,
            "overflow": null,
            "overflow_x": null,
            "overflow_y": null,
            "padding": null,
            "right": null,
            "top": null,
            "visibility": null,
            "width": null
          }
        },
        "3b466cf20cf3429480af691022b28816": {
          "model_module": "@jupyter-widgets/base",
          "model_name": "LayoutModel",
          "state": {
            "_model_module": "@jupyter-widgets/base",
            "_model_module_version": "1.2.0",
            "_model_name": "LayoutModel",
            "_view_count": null,
            "_view_module": "@jupyter-widgets/base",
            "_view_module_version": "1.2.0",
            "_view_name": "LayoutView",
            "align_content": null,
            "align_items": null,
            "align_self": null,
            "border": null,
            "bottom": null,
            "display": null,
            "flex": null,
            "flex_flow": null,
            "grid_area": null,
            "grid_auto_columns": null,
            "grid_auto_flow": null,
            "grid_auto_rows": null,
            "grid_column": null,
            "grid_gap": null,
            "grid_row": null,
            "grid_template_areas": null,
            "grid_template_columns": null,
            "grid_template_rows": null,
            "height": null,
            "justify_content": null,
            "justify_items": null,
            "left": null,
            "margin": null,
            "max_height": null,
            "max_width": null,
            "min_height": null,
            "min_width": null,
            "object_fit": null,
            "object_position": null,
            "order": null,
            "overflow": null,
            "overflow_x": null,
            "overflow_y": null,
            "padding": null,
            "right": null,
            "top": null,
            "visibility": null,
            "width": null
          }
        },
        "3fe5598e1eb746beb147e500467294ab": {
          "model_module": "@jupyter-widgets/controls",
          "model_name": "ProgressStyleModel",
          "state": {
            "_model_module": "@jupyter-widgets/controls",
            "_model_module_version": "1.5.0",
            "_model_name": "ProgressStyleModel",
            "_view_count": null,
            "_view_module": "@jupyter-widgets/base",
            "_view_module_version": "1.2.0",
            "_view_name": "StyleView",
            "bar_color": null,
            "description_width": "initial"
          }
        },
        "404bd7661d9e43a6901a6bc12b5c6f93": {
          "model_module": "@jupyter-widgets/base",
          "model_name": "LayoutModel",
          "state": {
            "_model_module": "@jupyter-widgets/base",
            "_model_module_version": "1.2.0",
            "_model_name": "LayoutModel",
            "_view_count": null,
            "_view_module": "@jupyter-widgets/base",
            "_view_module_version": "1.2.0",
            "_view_name": "LayoutView",
            "align_content": null,
            "align_items": null,
            "align_self": null,
            "border": null,
            "bottom": null,
            "display": null,
            "flex": null,
            "flex_flow": null,
            "grid_area": null,
            "grid_auto_columns": null,
            "grid_auto_flow": null,
            "grid_auto_rows": null,
            "grid_column": null,
            "grid_gap": null,
            "grid_row": null,
            "grid_template_areas": null,
            "grid_template_columns": null,
            "grid_template_rows": null,
            "height": null,
            "justify_content": null,
            "justify_items": null,
            "left": null,
            "margin": null,
            "max_height": null,
            "max_width": null,
            "min_height": null,
            "min_width": null,
            "object_fit": null,
            "object_position": null,
            "order": null,
            "overflow": null,
            "overflow_x": null,
            "overflow_y": null,
            "padding": null,
            "right": null,
            "top": null,
            "visibility": null,
            "width": null
          }
        },
        "42ff79e2ae01425ba0134c58e2580cc0": {
          "model_module": "@jupyter-widgets/base",
          "model_name": "LayoutModel",
          "state": {
            "_model_module": "@jupyter-widgets/base",
            "_model_module_version": "1.2.0",
            "_model_name": "LayoutModel",
            "_view_count": null,
            "_view_module": "@jupyter-widgets/base",
            "_view_module_version": "1.2.0",
            "_view_name": "LayoutView",
            "align_content": null,
            "align_items": null,
            "align_self": null,
            "border": null,
            "bottom": null,
            "display": null,
            "flex": null,
            "flex_flow": null,
            "grid_area": null,
            "grid_auto_columns": null,
            "grid_auto_flow": null,
            "grid_auto_rows": null,
            "grid_column": null,
            "grid_gap": null,
            "grid_row": null,
            "grid_template_areas": null,
            "grid_template_columns": null,
            "grid_template_rows": null,
            "height": null,
            "justify_content": null,
            "justify_items": null,
            "left": null,
            "margin": null,
            "max_height": null,
            "max_width": null,
            "min_height": null,
            "min_width": null,
            "object_fit": null,
            "object_position": null,
            "order": null,
            "overflow": null,
            "overflow_x": null,
            "overflow_y": null,
            "padding": null,
            "right": null,
            "top": null,
            "visibility": null,
            "width": null
          }
        },
        "48a593d89da84f649fab9e7f87f8f767": {
          "model_module": "@jupyter-widgets/base",
          "model_name": "LayoutModel",
          "state": {
            "_model_module": "@jupyter-widgets/base",
            "_model_module_version": "1.2.0",
            "_model_name": "LayoutModel",
            "_view_count": null,
            "_view_module": "@jupyter-widgets/base",
            "_view_module_version": "1.2.0",
            "_view_name": "LayoutView",
            "align_content": null,
            "align_items": null,
            "align_self": null,
            "border": null,
            "bottom": null,
            "display": null,
            "flex": null,
            "flex_flow": null,
            "grid_area": null,
            "grid_auto_columns": null,
            "grid_auto_flow": null,
            "grid_auto_rows": null,
            "grid_column": null,
            "grid_gap": null,
            "grid_row": null,
            "grid_template_areas": null,
            "grid_template_columns": null,
            "grid_template_rows": null,
            "height": null,
            "justify_content": null,
            "justify_items": null,
            "left": null,
            "margin": null,
            "max_height": null,
            "max_width": null,
            "min_height": null,
            "min_width": null,
            "object_fit": null,
            "object_position": null,
            "order": null,
            "overflow": null,
            "overflow_x": null,
            "overflow_y": null,
            "padding": null,
            "right": null,
            "top": null,
            "visibility": null,
            "width": null
          }
        },
        "4955552ebd944cc384e4166146c3a5b3": {
          "model_module": "@jupyter-widgets/base",
          "model_name": "LayoutModel",
          "state": {
            "_model_module": "@jupyter-widgets/base",
            "_model_module_version": "1.2.0",
            "_model_name": "LayoutModel",
            "_view_count": null,
            "_view_module": "@jupyter-widgets/base",
            "_view_module_version": "1.2.0",
            "_view_name": "LayoutView",
            "align_content": null,
            "align_items": null,
            "align_self": null,
            "border": null,
            "bottom": null,
            "display": null,
            "flex": null,
            "flex_flow": null,
            "grid_area": null,
            "grid_auto_columns": null,
            "grid_auto_flow": null,
            "grid_auto_rows": null,
            "grid_column": null,
            "grid_gap": null,
            "grid_row": null,
            "grid_template_areas": null,
            "grid_template_columns": null,
            "grid_template_rows": null,
            "height": null,
            "justify_content": null,
            "justify_items": null,
            "left": null,
            "margin": null,
            "max_height": null,
            "max_width": null,
            "min_height": null,
            "min_width": null,
            "object_fit": null,
            "object_position": null,
            "order": null,
            "overflow": null,
            "overflow_x": null,
            "overflow_y": null,
            "padding": null,
            "right": null,
            "top": null,
            "visibility": null,
            "width": null
          }
        },
        "4b725e6473e5477c9161eecf4af4113f": {
          "model_module": "@jupyter-widgets/controls",
          "model_name": "ProgressStyleModel",
          "state": {
            "_model_module": "@jupyter-widgets/controls",
            "_model_module_version": "1.5.0",
            "_model_name": "ProgressStyleModel",
            "_view_count": null,
            "_view_module": "@jupyter-widgets/base",
            "_view_module_version": "1.2.0",
            "_view_name": "StyleView",
            "bar_color": null,
            "description_width": "initial"
          }
        },
        "4d8e9fd9c2b8499f83d1f75e664888e6": {
          "model_module": "@jupyter-widgets/base",
          "model_name": "LayoutModel",
          "state": {
            "_model_module": "@jupyter-widgets/base",
            "_model_module_version": "1.2.0",
            "_model_name": "LayoutModel",
            "_view_count": null,
            "_view_module": "@jupyter-widgets/base",
            "_view_module_version": "1.2.0",
            "_view_name": "LayoutView",
            "align_content": null,
            "align_items": null,
            "align_self": null,
            "border": null,
            "bottom": null,
            "display": null,
            "flex": null,
            "flex_flow": null,
            "grid_area": null,
            "grid_auto_columns": null,
            "grid_auto_flow": null,
            "grid_auto_rows": null,
            "grid_column": null,
            "grid_gap": null,
            "grid_row": null,
            "grid_template_areas": null,
            "grid_template_columns": null,
            "grid_template_rows": null,
            "height": null,
            "justify_content": null,
            "justify_items": null,
            "left": null,
            "margin": null,
            "max_height": null,
            "max_width": null,
            "min_height": null,
            "min_width": null,
            "object_fit": null,
            "object_position": null,
            "order": null,
            "overflow": null,
            "overflow_x": null,
            "overflow_y": null,
            "padding": null,
            "right": null,
            "top": null,
            "visibility": null,
            "width": null
          }
        },
        "4f4134b761624977ba1e9bf8b6c3497d": {
          "model_module": "@jupyter-widgets/controls",
          "model_name": "ProgressStyleModel",
          "state": {
            "_model_module": "@jupyter-widgets/controls",
            "_model_module_version": "1.5.0",
            "_model_name": "ProgressStyleModel",
            "_view_count": null,
            "_view_module": "@jupyter-widgets/base",
            "_view_module_version": "1.2.0",
            "_view_name": "StyleView",
            "bar_color": null,
            "description_width": "initial"
          }
        },
        "5150a119ab86434f900789f3d4ccc1c6": {
          "model_module": "@jupyter-widgets/controls",
          "model_name": "HTMLModel",
          "state": {
            "_dom_classes": [],
            "_model_module": "@jupyter-widgets/controls",
            "_model_module_version": "1.5.0",
            "_model_name": "HTMLModel",
            "_view_count": null,
            "_view_module": "@jupyter-widgets/controls",
            "_view_module_version": "1.5.0",
            "_view_name": "HTMLView",
            "description": "",
            "description_tooltip": null,
            "layout": "IPY_MODEL_8c678e17db25490ab9d523b2f9c6d1c5",
            "placeholder": "​",
            "style": "IPY_MODEL_fa7c0c8d327e4b798db1f87915986146",
            "value": " 3/3 [00:13&lt;00:00,  4.40s/ba]"
          }
        },
        "5b7655a0ec914ce285b4802a7265dd1b": {
          "model_module": "@jupyter-widgets/base",
          "model_name": "LayoutModel",
          "state": {
            "_model_module": "@jupyter-widgets/base",
            "_model_module_version": "1.2.0",
            "_model_name": "LayoutModel",
            "_view_count": null,
            "_view_module": "@jupyter-widgets/base",
            "_view_module_version": "1.2.0",
            "_view_name": "LayoutView",
            "align_content": null,
            "align_items": null,
            "align_self": null,
            "border": null,
            "bottom": null,
            "display": null,
            "flex": null,
            "flex_flow": null,
            "grid_area": null,
            "grid_auto_columns": null,
            "grid_auto_flow": null,
            "grid_auto_rows": null,
            "grid_column": null,
            "grid_gap": null,
            "grid_row": null,
            "grid_template_areas": null,
            "grid_template_columns": null,
            "grid_template_rows": null,
            "height": null,
            "justify_content": null,
            "justify_items": null,
            "left": null,
            "margin": null,
            "max_height": null,
            "max_width": null,
            "min_height": null,
            "min_width": null,
            "object_fit": null,
            "object_position": null,
            "order": null,
            "overflow": null,
            "overflow_x": null,
            "overflow_y": null,
            "padding": null,
            "right": null,
            "top": null,
            "visibility": null,
            "width": null
          }
        },
        "5c25acc905294f69b89819d7aa140bed": {
          "model_module": "@jupyter-widgets/controls",
          "model_name": "DescriptionStyleModel",
          "state": {
            "_model_module": "@jupyter-widgets/controls",
            "_model_module_version": "1.5.0",
            "_model_name": "DescriptionStyleModel",
            "_view_count": null,
            "_view_module": "@jupyter-widgets/base",
            "_view_module_version": "1.2.0",
            "_view_name": "StyleView",
            "description_width": ""
          }
        },
        "5fd40b7c360143348d565be3737d2da2": {
          "model_module": "@jupyter-widgets/controls",
          "model_name": "ProgressStyleModel",
          "state": {
            "_model_module": "@jupyter-widgets/controls",
            "_model_module_version": "1.5.0",
            "_model_name": "ProgressStyleModel",
            "_view_count": null,
            "_view_module": "@jupyter-widgets/base",
            "_view_module_version": "1.2.0",
            "_view_name": "StyleView",
            "bar_color": null,
            "description_width": "initial"
          }
        },
        "6146d16c791242ed8415a8ef0478b420": {
          "model_module": "@jupyter-widgets/controls",
          "model_name": "ProgressStyleModel",
          "state": {
            "_model_module": "@jupyter-widgets/controls",
            "_model_module_version": "1.5.0",
            "_model_name": "ProgressStyleModel",
            "_view_count": null,
            "_view_module": "@jupyter-widgets/base",
            "_view_module_version": "1.2.0",
            "_view_name": "StyleView",
            "bar_color": null,
            "description_width": "initial"
          }
        },
        "645a359bcf354e6d957dea3d0d0acf29": {
          "model_module": "@jupyter-widgets/controls",
          "model_name": "DescriptionStyleModel",
          "state": {
            "_model_module": "@jupyter-widgets/controls",
            "_model_module_version": "1.5.0",
            "_model_name": "DescriptionStyleModel",
            "_view_count": null,
            "_view_module": "@jupyter-widgets/base",
            "_view_module_version": "1.2.0",
            "_view_name": "StyleView",
            "description_width": ""
          }
        },
        "6ad90ca9ca854713a8237fb18477fb60": {
          "model_module": "@jupyter-widgets/controls",
          "model_name": "HBoxModel",
          "state": {
            "_dom_classes": [],
            "_model_module": "@jupyter-widgets/controls",
            "_model_module_version": "1.5.0",
            "_model_name": "HBoxModel",
            "_view_count": null,
            "_view_module": "@jupyter-widgets/controls",
            "_view_module_version": "1.5.0",
            "_view_name": "HBoxView",
            "box_style": "",
            "children": [
              "IPY_MODEL_3395af9109fd4a1f861f8eecfa8f2033",
              "IPY_MODEL_e008c7a035a843ee83b6bfdeb48581f8"
            ],
            "layout": "IPY_MODEL_3424514218d34da2be8c565cb7c4f939"
          }
        },
        "6c720dc5f44e4ea29514581abba8622e": {
          "model_module": "@jupyter-widgets/controls",
          "model_name": "FloatProgressModel",
          "state": {
            "_dom_classes": [],
            "_model_module": "@jupyter-widgets/controls",
            "_model_module_version": "1.5.0",
            "_model_name": "FloatProgressModel",
            "_view_count": null,
            "_view_module": "@jupyter-widgets/controls",
            "_view_module_version": "1.5.0",
            "_view_name": "ProgressView",
            "bar_style": "info",
            "description": "",
            "description_tooltip": null,
            "layout": "IPY_MODEL_f83849e39ca84c3ab7cfd41db31f586f",
            "max": 1,
            "min": 0,
            "orientation": "horizontal",
            "style": "IPY_MODEL_5fd40b7c360143348d565be3737d2da2",
            "value": 1
          }
        },
        "6ce9b23933b6488091c804d92af38ef0": {
          "model_module": "@jupyter-widgets/base",
          "model_name": "LayoutModel",
          "state": {
            "_model_module": "@jupyter-widgets/base",
            "_model_module_version": "1.2.0",
            "_model_name": "LayoutModel",
            "_view_count": null,
            "_view_module": "@jupyter-widgets/base",
            "_view_module_version": "1.2.0",
            "_view_name": "LayoutView",
            "align_content": null,
            "align_items": null,
            "align_self": null,
            "border": null,
            "bottom": null,
            "display": null,
            "flex": null,
            "flex_flow": null,
            "grid_area": null,
            "grid_auto_columns": null,
            "grid_auto_flow": null,
            "grid_auto_rows": null,
            "grid_column": null,
            "grid_gap": null,
            "grid_row": null,
            "grid_template_areas": null,
            "grid_template_columns": null,
            "grid_template_rows": null,
            "height": null,
            "justify_content": null,
            "justify_items": null,
            "left": null,
            "margin": null,
            "max_height": null,
            "max_width": null,
            "min_height": null,
            "min_width": null,
            "object_fit": null,
            "object_position": null,
            "order": null,
            "overflow": null,
            "overflow_x": null,
            "overflow_y": null,
            "padding": null,
            "right": null,
            "top": null,
            "visibility": null,
            "width": null
          }
        },
        "6d463da2011b4339a6bbaad1cafd2f9f": {
          "model_module": "@jupyter-widgets/base",
          "model_name": "LayoutModel",
          "state": {
            "_model_module": "@jupyter-widgets/base",
            "_model_module_version": "1.2.0",
            "_model_name": "LayoutModel",
            "_view_count": null,
            "_view_module": "@jupyter-widgets/base",
            "_view_module_version": "1.2.0",
            "_view_name": "LayoutView",
            "align_content": null,
            "align_items": null,
            "align_self": null,
            "border": null,
            "bottom": null,
            "display": null,
            "flex": null,
            "flex_flow": null,
            "grid_area": null,
            "grid_auto_columns": null,
            "grid_auto_flow": null,
            "grid_auto_rows": null,
            "grid_column": null,
            "grid_gap": null,
            "grid_row": null,
            "grid_template_areas": null,
            "grid_template_columns": null,
            "grid_template_rows": null,
            "height": null,
            "justify_content": null,
            "justify_items": null,
            "left": null,
            "margin": null,
            "max_height": null,
            "max_width": null,
            "min_height": null,
            "min_width": null,
            "object_fit": null,
            "object_position": null,
            "order": null,
            "overflow": null,
            "overflow_x": null,
            "overflow_y": null,
            "padding": null,
            "right": null,
            "top": null,
            "visibility": null,
            "width": null
          }
        },
        "6d513fec3a24462793ef7435e8d12b4d": {
          "model_module": "@jupyter-widgets/controls",
          "model_name": "ProgressStyleModel",
          "state": {
            "_model_module": "@jupyter-widgets/controls",
            "_model_module_version": "1.5.0",
            "_model_name": "ProgressStyleModel",
            "_view_count": null,
            "_view_module": "@jupyter-widgets/base",
            "_view_module_version": "1.2.0",
            "_view_name": "StyleView",
            "bar_color": null,
            "description_width": "initial"
          }
        },
        "6ec2b9da8ace49949a1b85a77eb69d05": {
          "model_module": "@jupyter-widgets/controls",
          "model_name": "DescriptionStyleModel",
          "state": {
            "_model_module": "@jupyter-widgets/controls",
            "_model_module_version": "1.5.0",
            "_model_name": "DescriptionStyleModel",
            "_view_count": null,
            "_view_module": "@jupyter-widgets/base",
            "_view_module_version": "1.2.0",
            "_view_name": "StyleView",
            "description_width": ""
          }
        },
        "6f80a3a28a964c6383530cdd03ea4e47": {
          "model_module": "@jupyter-widgets/controls",
          "model_name": "HTMLModel",
          "state": {
            "_dom_classes": [],
            "_model_module": "@jupyter-widgets/controls",
            "_model_module_version": "1.5.0",
            "_model_name": "HTMLModel",
            "_view_count": null,
            "_view_module": "@jupyter-widgets/controls",
            "_view_module_version": "1.5.0",
            "_view_name": "HTMLView",
            "description": "",
            "description_tooltip": null,
            "layout": "IPY_MODEL_8e3472f819d1468984cefd82c1217f00",
            "placeholder": "​",
            "style": "IPY_MODEL_ec4c4a4c9dd84e7a9bf33b1b87c491d0",
            "value": " 378M/378M [00:54&lt;00:00, 6.91MB/s]"
          }
        },
        "6fa3ec2f85964814a7b408b0e8174f5f": {
          "model_module": "@jupyter-widgets/controls",
          "model_name": "HTMLModel",
          "state": {
            "_dom_classes": [],
            "_model_module": "@jupyter-widgets/controls",
            "_model_module_version": "1.5.0",
            "_model_name": "HTMLModel",
            "_view_count": null,
            "_view_module": "@jupyter-widgets/controls",
            "_view_module_version": "1.5.0",
            "_view_name": "HTMLView",
            "description": "",
            "description_tooltip": null,
            "layout": "IPY_MODEL_7aa86ce26ffd4e3499f03dd48c500c13",
            "placeholder": "​",
            "style": "IPY_MODEL_cf61da935f8e47aa914550d8fc3207b1",
            "value": " 3/3 [00:07&lt;00:00,  2.50s/ba]"
          }
        },
        "7384502538e549c3b0741894aee3d27c": {
          "model_module": "@jupyter-widgets/controls",
          "model_name": "HBoxModel",
          "state": {
            "_dom_classes": [],
            "_model_module": "@jupyter-widgets/controls",
            "_model_module_version": "1.5.0",
            "_model_name": "HBoxModel",
            "_view_count": null,
            "_view_module": "@jupyter-widgets/controls",
            "_view_module_version": "1.5.0",
            "_view_name": "HBoxView",
            "box_style": "",
            "children": [
              "IPY_MODEL_9aba1ce9df714720b5f8073901261257",
              "IPY_MODEL_5150a119ab86434f900789f3d4ccc1c6"
            ],
            "layout": "IPY_MODEL_6ce9b23933b6488091c804d92af38ef0"
          }
        },
        "75e6d16ae7cb40c3bea7723921f94ae9": {
          "model_module": "@jupyter-widgets/base",
          "model_name": "LayoutModel",
          "state": {
            "_model_module": "@jupyter-widgets/base",
            "_model_module_version": "1.2.0",
            "_model_name": "LayoutModel",
            "_view_count": null,
            "_view_module": "@jupyter-widgets/base",
            "_view_module_version": "1.2.0",
            "_view_name": "LayoutView",
            "align_content": null,
            "align_items": null,
            "align_self": null,
            "border": null,
            "bottom": null,
            "display": null,
            "flex": null,
            "flex_flow": null,
            "grid_area": null,
            "grid_auto_columns": null,
            "grid_auto_flow": null,
            "grid_auto_rows": null,
            "grid_column": null,
            "grid_gap": null,
            "grid_row": null,
            "grid_template_areas": null,
            "grid_template_columns": null,
            "grid_template_rows": null,
            "height": null,
            "justify_content": null,
            "justify_items": null,
            "left": null,
            "margin": null,
            "max_height": null,
            "max_width": null,
            "min_height": null,
            "min_width": null,
            "object_fit": null,
            "object_position": null,
            "order": null,
            "overflow": null,
            "overflow_x": null,
            "overflow_y": null,
            "padding": null,
            "right": null,
            "top": null,
            "visibility": null,
            "width": null
          }
        },
        "77adc5448ac44dfa92b2a7b6d50e89f8": {
          "model_module": "@jupyter-widgets/controls",
          "model_name": "ProgressStyleModel",
          "state": {
            "_model_module": "@jupyter-widgets/controls",
            "_model_module_version": "1.5.0",
            "_model_name": "ProgressStyleModel",
            "_view_count": null,
            "_view_module": "@jupyter-widgets/base",
            "_view_module_version": "1.2.0",
            "_view_name": "StyleView",
            "bar_color": null,
            "description_width": "initial"
          }
        },
        "7aa86ce26ffd4e3499f03dd48c500c13": {
          "model_module": "@jupyter-widgets/base",
          "model_name": "LayoutModel",
          "state": {
            "_model_module": "@jupyter-widgets/base",
            "_model_module_version": "1.2.0",
            "_model_name": "LayoutModel",
            "_view_count": null,
            "_view_module": "@jupyter-widgets/base",
            "_view_module_version": "1.2.0",
            "_view_name": "LayoutView",
            "align_content": null,
            "align_items": null,
            "align_self": null,
            "border": null,
            "bottom": null,
            "display": null,
            "flex": null,
            "flex_flow": null,
            "grid_area": null,
            "grid_auto_columns": null,
            "grid_auto_flow": null,
            "grid_auto_rows": null,
            "grid_column": null,
            "grid_gap": null,
            "grid_row": null,
            "grid_template_areas": null,
            "grid_template_columns": null,
            "grid_template_rows": null,
            "height": null,
            "justify_content": null,
            "justify_items": null,
            "left": null,
            "margin": null,
            "max_height": null,
            "max_width": null,
            "min_height": null,
            "min_width": null,
            "object_fit": null,
            "object_position": null,
            "order": null,
            "overflow": null,
            "overflow_x": null,
            "overflow_y": null,
            "padding": null,
            "right": null,
            "top": null,
            "visibility": null,
            "width": null
          }
        },
        "7bed22a6fe3a49d6a09e5950487c1267": {
          "model_module": "@jupyter-widgets/controls",
          "model_name": "FloatProgressModel",
          "state": {
            "_dom_classes": [],
            "_model_module": "@jupyter-widgets/controls",
            "_model_module_version": "1.5.0",
            "_model_name": "FloatProgressModel",
            "_view_count": null,
            "_view_module": "@jupyter-widgets/controls",
            "_view_module_version": "1.5.0",
            "_view_name": "ProgressView",
            "bar_style": "success",
            "description": " #1: 100%",
            "description_tooltip": null,
            "layout": "IPY_MODEL_6d463da2011b4339a6bbaad1cafd2f9f",
            "max": 3,
            "min": 0,
            "orientation": "horizontal",
            "style": "IPY_MODEL_19d6eba32fff43579af4aa225b09f6bf",
            "value": 3
          }
        },
        "837e87dd56e84ec396d6100bf08afeb5": {
          "model_module": "@jupyter-widgets/base",
          "model_name": "LayoutModel",
          "state": {
            "_model_module": "@jupyter-widgets/base",
            "_model_module_version": "1.2.0",
            "_model_name": "LayoutModel",
            "_view_count": null,
            "_view_module": "@jupyter-widgets/base",
            "_view_module_version": "1.2.0",
            "_view_name": "LayoutView",
            "align_content": null,
            "align_items": null,
            "align_self": null,
            "border": null,
            "bottom": null,
            "display": null,
            "flex": null,
            "flex_flow": null,
            "grid_area": null,
            "grid_auto_columns": null,
            "grid_auto_flow": null,
            "grid_auto_rows": null,
            "grid_column": null,
            "grid_gap": null,
            "grid_row": null,
            "grid_template_areas": null,
            "grid_template_columns": null,
            "grid_template_rows": null,
            "height": null,
            "justify_content": null,
            "justify_items": null,
            "left": null,
            "margin": null,
            "max_height": null,
            "max_width": null,
            "min_height": null,
            "min_width": null,
            "object_fit": null,
            "object_position": null,
            "order": null,
            "overflow": null,
            "overflow_x": null,
            "overflow_y": null,
            "padding": null,
            "right": null,
            "top": null,
            "visibility": null,
            "width": null
          }
        },
        "85c562df9b824ef8b415bda19e334b54": {
          "model_module": "@jupyter-widgets/controls",
          "model_name": "HTMLModel",
          "state": {
            "_dom_classes": [],
            "_model_module": "@jupyter-widgets/controls",
            "_model_module_version": "1.5.0",
            "_model_name": "HTMLModel",
            "_view_count": null,
            "_view_module": "@jupyter-widgets/controls",
            "_view_module_version": "1.5.0",
            "_view_name": "HTMLView",
            "description": "",
            "description_tooltip": null,
            "layout": "IPY_MODEL_9d6520c0051a43709fc2f3697cc80244",
            "placeholder": "​",
            "style": "IPY_MODEL_645a359bcf354e6d957dea3d0d0acf29",
            "value": " 2.27k/2.27k [00:01&lt;00:00, 1.17kB/s]"
          }
        },
        "8b853441e8c34071ba45b0f7191eb9f6": {
          "model_module": "@jupyter-widgets/controls",
          "model_name": "ProgressStyleModel",
          "state": {
            "_model_module": "@jupyter-widgets/controls",
            "_model_module_version": "1.5.0",
            "_model_name": "ProgressStyleModel",
            "_view_count": null,
            "_view_module": "@jupyter-widgets/base",
            "_view_module_version": "1.2.0",
            "_view_name": "StyleView",
            "bar_color": null,
            "description_width": "initial"
          }
        },
        "8c678e17db25490ab9d523b2f9c6d1c5": {
          "model_module": "@jupyter-widgets/base",
          "model_name": "LayoutModel",
          "state": {
            "_model_module": "@jupyter-widgets/base",
            "_model_module_version": "1.2.0",
            "_model_name": "LayoutModel",
            "_view_count": null,
            "_view_module": "@jupyter-widgets/base",
            "_view_module_version": "1.2.0",
            "_view_name": "LayoutView",
            "align_content": null,
            "align_items": null,
            "align_self": null,
            "border": null,
            "bottom": null,
            "display": null,
            "flex": null,
            "flex_flow": null,
            "grid_area": null,
            "grid_auto_columns": null,
            "grid_auto_flow": null,
            "grid_auto_rows": null,
            "grid_column": null,
            "grid_gap": null,
            "grid_row": null,
            "grid_template_areas": null,
            "grid_template_columns": null,
            "grid_template_rows": null,
            "height": null,
            "justify_content": null,
            "justify_items": null,
            "left": null,
            "margin": null,
            "max_height": null,
            "max_width": null,
            "min_height": null,
            "min_width": null,
            "object_fit": null,
            "object_position": null,
            "order": null,
            "overflow": null,
            "overflow_x": null,
            "overflow_y": null,
            "padding": null,
            "right": null,
            "top": null,
            "visibility": null,
            "width": null
          }
        },
        "8e3472f819d1468984cefd82c1217f00": {
          "model_module": "@jupyter-widgets/base",
          "model_name": "LayoutModel",
          "state": {
            "_model_module": "@jupyter-widgets/base",
            "_model_module_version": "1.2.0",
            "_model_name": "LayoutModel",
            "_view_count": null,
            "_view_module": "@jupyter-widgets/base",
            "_view_module_version": "1.2.0",
            "_view_name": "LayoutView",
            "align_content": null,
            "align_items": null,
            "align_self": null,
            "border": null,
            "bottom": null,
            "display": null,
            "flex": null,
            "flex_flow": null,
            "grid_area": null,
            "grid_auto_columns": null,
            "grid_auto_flow": null,
            "grid_auto_rows": null,
            "grid_column": null,
            "grid_gap": null,
            "grid_row": null,
            "grid_template_areas": null,
            "grid_template_columns": null,
            "grid_template_rows": null,
            "height": null,
            "justify_content": null,
            "justify_items": null,
            "left": null,
            "margin": null,
            "max_height": null,
            "max_width": null,
            "min_height": null,
            "min_width": null,
            "object_fit": null,
            "object_position": null,
            "order": null,
            "overflow": null,
            "overflow_x": null,
            "overflow_y": null,
            "padding": null,
            "right": null,
            "top": null,
            "visibility": null,
            "width": null
          }
        },
        "90e7a1bce7344f5f84957c3952b7dd59": {
          "model_module": "@jupyter-widgets/controls",
          "model_name": "ProgressStyleModel",
          "state": {
            "_model_module": "@jupyter-widgets/controls",
            "_model_module_version": "1.5.0",
            "_model_name": "ProgressStyleModel",
            "_view_count": null,
            "_view_module": "@jupyter-widgets/base",
            "_view_module_version": "1.2.0",
            "_view_name": "StyleView",
            "bar_color": null,
            "description_width": "initial"
          }
        },
        "91df691fd8d64fc08e13918ab129b04d": {
          "model_module": "@jupyter-widgets/controls",
          "model_name": "DescriptionStyleModel",
          "state": {
            "_model_module": "@jupyter-widgets/controls",
            "_model_module_version": "1.5.0",
            "_model_name": "DescriptionStyleModel",
            "_view_count": null,
            "_view_module": "@jupyter-widgets/base",
            "_view_module_version": "1.2.0",
            "_view_name": "StyleView",
            "description_width": ""
          }
        },
        "934b92e53b7d41d5b4fe32014e95cbed": {
          "model_module": "@jupyter-widgets/controls",
          "model_name": "FloatProgressModel",
          "state": {
            "_dom_classes": [],
            "_model_module": "@jupyter-widgets/controls",
            "_model_module_version": "1.5.0",
            "_model_name": "FloatProgressModel",
            "_view_count": null,
            "_view_module": "@jupyter-widgets/controls",
            "_view_module_version": "1.5.0",
            "_view_name": "ProgressView",
            "bar_style": "success",
            "description": "Downloading: 100%",
            "description_tooltip": null,
            "layout": "IPY_MODEL_bbaa7594bded475abb8e0bdf92054c86",
            "max": 380001726,
            "min": 0,
            "orientation": "horizontal",
            "style": "IPY_MODEL_b3288ffcd75841048ea74f0f75c6c6fd",
            "value": 380001726
          }
        },
        "9770bc459ce24270963b8e230d2acf28": {
          "model_module": "@jupyter-widgets/base",
          "model_name": "LayoutModel",
          "state": {
            "_model_module": "@jupyter-widgets/base",
            "_model_module_version": "1.2.0",
            "_model_name": "LayoutModel",
            "_view_count": null,
            "_view_module": "@jupyter-widgets/base",
            "_view_module_version": "1.2.0",
            "_view_name": "LayoutView",
            "align_content": null,
            "align_items": null,
            "align_self": null,
            "border": null,
            "bottom": null,
            "display": null,
            "flex": null,
            "flex_flow": null,
            "grid_area": null,
            "grid_auto_columns": null,
            "grid_auto_flow": null,
            "grid_auto_rows": null,
            "grid_column": null,
            "grid_gap": null,
            "grid_row": null,
            "grid_template_areas": null,
            "grid_template_columns": null,
            "grid_template_rows": null,
            "height": null,
            "justify_content": null,
            "justify_items": null,
            "left": null,
            "margin": null,
            "max_height": null,
            "max_width": null,
            "min_height": null,
            "min_width": null,
            "object_fit": null,
            "object_position": null,
            "order": null,
            "overflow": null,
            "overflow_x": null,
            "overflow_y": null,
            "padding": null,
            "right": null,
            "top": null,
            "visibility": null,
            "width": null
          }
        },
        "9aba1ce9df714720b5f8073901261257": {
          "model_module": "@jupyter-widgets/controls",
          "model_name": "FloatProgressModel",
          "state": {
            "_dom_classes": [],
            "_model_module": "@jupyter-widgets/controls",
            "_model_module_version": "1.5.0",
            "_model_name": "FloatProgressModel",
            "_view_count": null,
            "_view_module": "@jupyter-widgets/controls",
            "_view_module_version": "1.5.0",
            "_view_name": "ProgressView",
            "bar_style": "success",
            "description": " #0: 100%",
            "description_tooltip": null,
            "layout": "IPY_MODEL_4d8e9fd9c2b8499f83d1f75e664888e6",
            "max": 3,
            "min": 0,
            "orientation": "horizontal",
            "style": "IPY_MODEL_90e7a1bce7344f5f84957c3952b7dd59",
            "value": 3
          }
        },
        "9adf97c4347940d9b804eae515afc7dd": {
          "model_module": "@jupyter-widgets/base",
          "model_name": "LayoutModel",
          "state": {
            "_model_module": "@jupyter-widgets/base",
            "_model_module_version": "1.2.0",
            "_model_name": "LayoutModel",
            "_view_count": null,
            "_view_module": "@jupyter-widgets/base",
            "_view_module_version": "1.2.0",
            "_view_name": "LayoutView",
            "align_content": null,
            "align_items": null,
            "align_self": null,
            "border": null,
            "bottom": null,
            "display": null,
            "flex": null,
            "flex_flow": null,
            "grid_area": null,
            "grid_auto_columns": null,
            "grid_auto_flow": null,
            "grid_auto_rows": null,
            "grid_column": null,
            "grid_gap": null,
            "grid_row": null,
            "grid_template_areas": null,
            "grid_template_columns": null,
            "grid_template_rows": null,
            "height": null,
            "justify_content": null,
            "justify_items": null,
            "left": null,
            "margin": null,
            "max_height": null,
            "max_width": null,
            "min_height": null,
            "min_width": null,
            "object_fit": null,
            "object_position": null,
            "order": null,
            "overflow": null,
            "overflow_x": null,
            "overflow_y": null,
            "padding": null,
            "right": null,
            "top": null,
            "visibility": null,
            "width": null
          }
        },
        "9c38ebf5864a4e8896cf002876fa7cec": {
          "model_module": "@jupyter-widgets/base",
          "model_name": "LayoutModel",
          "state": {
            "_model_module": "@jupyter-widgets/base",
            "_model_module_version": "1.2.0",
            "_model_name": "LayoutModel",
            "_view_count": null,
            "_view_module": "@jupyter-widgets/base",
            "_view_module_version": "1.2.0",
            "_view_name": "LayoutView",
            "align_content": null,
            "align_items": null,
            "align_self": null,
            "border": null,
            "bottom": null,
            "display": null,
            "flex": null,
            "flex_flow": null,
            "grid_area": null,
            "grid_auto_columns": null,
            "grid_auto_flow": null,
            "grid_auto_rows": null,
            "grid_column": null,
            "grid_gap": null,
            "grid_row": null,
            "grid_template_areas": null,
            "grid_template_columns": null,
            "grid_template_rows": null,
            "height": null,
            "justify_content": null,
            "justify_items": null,
            "left": null,
            "margin": null,
            "max_height": null,
            "max_width": null,
            "min_height": null,
            "min_width": null,
            "object_fit": null,
            "object_position": null,
            "order": null,
            "overflow": null,
            "overflow_x": null,
            "overflow_y": null,
            "padding": null,
            "right": null,
            "top": null,
            "visibility": null,
            "width": null
          }
        },
        "9cfd84cce50442d7a34c911f59cd09bb": {
          "model_module": "@jupyter-widgets/controls",
          "model_name": "HTMLModel",
          "state": {
            "_dom_classes": [],
            "_model_module": "@jupyter-widgets/controls",
            "_model_module_version": "1.5.0",
            "_model_name": "HTMLModel",
            "_view_count": null,
            "_view_module": "@jupyter-widgets/controls",
            "_view_module_version": "1.5.0",
            "_view_name": "HTMLView",
            "description": "",
            "description_tooltip": null,
            "layout": "IPY_MODEL_edf00aba13aa4c03ab2fe52428a24a71",
            "placeholder": "​",
            "style": "IPY_MODEL_af6b2f4647bf4017b4610d2a852effd7",
            "value": " 3/3 [00:07&lt;00:00,  2.51s/ba]"
          }
        },
        "9d6520c0051a43709fc2f3697cc80244": {
          "model_module": "@jupyter-widgets/base",
          "model_name": "LayoutModel",
          "state": {
            "_model_module": "@jupyter-widgets/base",
            "_model_module_version": "1.2.0",
            "_model_name": "LayoutModel",
            "_view_count": null,
            "_view_module": "@jupyter-widgets/base",
            "_view_module_version": "1.2.0",
            "_view_name": "LayoutView",
            "align_content": null,
            "align_items": null,
            "align_self": null,
            "border": null,
            "bottom": null,
            "display": null,
            "flex": null,
            "flex_flow": null,
            "grid_area": null,
            "grid_auto_columns": null,
            "grid_auto_flow": null,
            "grid_auto_rows": null,
            "grid_column": null,
            "grid_gap": null,
            "grid_row": null,
            "grid_template_areas": null,
            "grid_template_columns": null,
            "grid_template_rows": null,
            "height": null,
            "justify_content": null,
            "justify_items": null,
            "left": null,
            "margin": null,
            "max_height": null,
            "max_width": null,
            "min_height": null,
            "min_width": null,
            "object_fit": null,
            "object_position": null,
            "order": null,
            "overflow": null,
            "overflow_x": null,
            "overflow_y": null,
            "padding": null,
            "right": null,
            "top": null,
            "visibility": null,
            "width": null
          }
        },
        "9e9f79c923b94e90abccc36283252499": {
          "model_module": "@jupyter-widgets/controls",
          "model_name": "HTMLModel",
          "state": {
            "_dom_classes": [],
            "_model_module": "@jupyter-widgets/controls",
            "_model_module_version": "1.5.0",
            "_model_name": "HTMLModel",
            "_view_count": null,
            "_view_module": "@jupyter-widgets/controls",
            "_view_module_version": "1.5.0",
            "_view_name": "HTMLView",
            "description": "",
            "description_tooltip": null,
            "layout": "IPY_MODEL_221f9e32a50d4d18b478da3df315b5fa",
            "placeholder": "​",
            "style": "IPY_MODEL_e0d8f9cbacb64b8cbd82708309653734",
            "value": " 2228/2228 [06:40&lt;00:00,  5.56ex/s]"
          }
        },
        "a7ad0056c5f64423b29be2fd88c78719": {
          "model_module": "@jupyter-widgets/base",
          "model_name": "LayoutModel",
          "state": {
            "_model_module": "@jupyter-widgets/base",
            "_model_module_version": "1.2.0",
            "_model_name": "LayoutModel",
            "_view_count": null,
            "_view_module": "@jupyter-widgets/base",
            "_view_module_version": "1.2.0",
            "_view_name": "LayoutView",
            "align_content": null,
            "align_items": null,
            "align_self": null,
            "border": null,
            "bottom": null,
            "display": null,
            "flex": null,
            "flex_flow": null,
            "grid_area": null,
            "grid_auto_columns": null,
            "grid_auto_flow": null,
            "grid_auto_rows": null,
            "grid_column": null,
            "grid_gap": null,
            "grid_row": null,
            "grid_template_areas": null,
            "grid_template_columns": null,
            "grid_template_rows": null,
            "height": null,
            "justify_content": null,
            "justify_items": null,
            "left": null,
            "margin": null,
            "max_height": null,
            "max_width": null,
            "min_height": null,
            "min_width": null,
            "object_fit": null,
            "object_position": null,
            "order": null,
            "overflow": null,
            "overflow_x": null,
            "overflow_y": null,
            "padding": null,
            "right": null,
            "top": null,
            "visibility": null,
            "width": null
          }
        },
        "ab44cfdc232143209c7562e079998b10": {
          "model_module": "@jupyter-widgets/base",
          "model_name": "LayoutModel",
          "state": {
            "_model_module": "@jupyter-widgets/base",
            "_model_module_version": "1.2.0",
            "_model_name": "LayoutModel",
            "_view_count": null,
            "_view_module": "@jupyter-widgets/base",
            "_view_module_version": "1.2.0",
            "_view_name": "LayoutView",
            "align_content": null,
            "align_items": null,
            "align_self": null,
            "border": null,
            "bottom": null,
            "display": null,
            "flex": null,
            "flex_flow": null,
            "grid_area": null,
            "grid_auto_columns": null,
            "grid_auto_flow": null,
            "grid_auto_rows": null,
            "grid_column": null,
            "grid_gap": null,
            "grid_row": null,
            "grid_template_areas": null,
            "grid_template_columns": null,
            "grid_template_rows": null,
            "height": null,
            "justify_content": null,
            "justify_items": null,
            "left": null,
            "margin": null,
            "max_height": null,
            "max_width": null,
            "min_height": null,
            "min_width": null,
            "object_fit": null,
            "object_position": null,
            "order": null,
            "overflow": null,
            "overflow_x": null,
            "overflow_y": null,
            "padding": null,
            "right": null,
            "top": null,
            "visibility": null,
            "width": null
          }
        },
        "ae46db9faf124d2f987dccb0ad62115b": {
          "model_module": "@jupyter-widgets/controls",
          "model_name": "FloatProgressModel",
          "state": {
            "_dom_classes": [],
            "_model_module": "@jupyter-widgets/controls",
            "_model_module_version": "1.5.0",
            "_model_name": "FloatProgressModel",
            "_view_count": null,
            "_view_module": "@jupyter-widgets/controls",
            "_view_module_version": "1.5.0",
            "_view_name": "ProgressView",
            "bar_style": "success",
            "description": " #1: 100%",
            "description_tooltip": null,
            "layout": "IPY_MODEL_9770bc459ce24270963b8e230d2acf28",
            "max": 3,
            "min": 0,
            "orientation": "horizontal",
            "style": "IPY_MODEL_4f4134b761624977ba1e9bf8b6c3497d",
            "value": 3
          }
        },
        "af6b2f4647bf4017b4610d2a852effd7": {
          "model_module": "@jupyter-widgets/controls",
          "model_name": "DescriptionStyleModel",
          "state": {
            "_model_module": "@jupyter-widgets/controls",
            "_model_module_version": "1.5.0",
            "_model_name": "DescriptionStyleModel",
            "_view_count": null,
            "_view_module": "@jupyter-widgets/base",
            "_view_module_version": "1.2.0",
            "_view_name": "StyleView",
            "description_width": ""
          }
        },
        "b182c0e62ff14820903daee05b60dec3": {
          "model_module": "@jupyter-widgets/controls",
          "model_name": "ProgressStyleModel",
          "state": {
            "_model_module": "@jupyter-widgets/controls",
            "_model_module_version": "1.5.0",
            "_model_name": "ProgressStyleModel",
            "_view_count": null,
            "_view_module": "@jupyter-widgets/base",
            "_view_module_version": "1.2.0",
            "_view_name": "StyleView",
            "bar_color": null,
            "description_width": "initial"
          }
        },
        "b3288ffcd75841048ea74f0f75c6c6fd": {
          "model_module": "@jupyter-widgets/controls",
          "model_name": "ProgressStyleModel",
          "state": {
            "_model_module": "@jupyter-widgets/controls",
            "_model_module_version": "1.5.0",
            "_model_name": "ProgressStyleModel",
            "_view_count": null,
            "_view_module": "@jupyter-widgets/base",
            "_view_module_version": "1.2.0",
            "_view_name": "StyleView",
            "bar_color": null,
            "description_width": "initial"
          }
        },
        "bb447d5d406e4275a1d4676a0e19a1ef": {
          "model_module": "@jupyter-widgets/controls",
          "model_name": "HTMLModel",
          "state": {
            "_dom_classes": [],
            "_model_module": "@jupyter-widgets/controls",
            "_model_module_version": "1.5.0",
            "_model_name": "HTMLModel",
            "_view_count": null,
            "_view_module": "@jupyter-widgets/controls",
            "_view_module_version": "1.5.0",
            "_view_name": "HTMLView",
            "description": "",
            "description_tooltip": null,
            "layout": "IPY_MODEL_32dffd51d28d4e5cb06eb050529a4507",
            "placeholder": "​",
            "style": "IPY_MODEL_6ec2b9da8ace49949a1b85a77eb69d05",
            "value": " 3/3 [00:07&lt;00:00,  2.46s/ba]"
          }
        },
        "bbaa7594bded475abb8e0bdf92054c86": {
          "model_module": "@jupyter-widgets/base",
          "model_name": "LayoutModel",
          "state": {
            "_model_module": "@jupyter-widgets/base",
            "_model_module_version": "1.2.0",
            "_model_name": "LayoutModel",
            "_view_count": null,
            "_view_module": "@jupyter-widgets/base",
            "_view_module_version": "1.2.0",
            "_view_name": "LayoutView",
            "align_content": null,
            "align_items": null,
            "align_self": null,
            "border": null,
            "bottom": null,
            "display": null,
            "flex": null,
            "flex_flow": null,
            "grid_area": null,
            "grid_auto_columns": null,
            "grid_auto_flow": null,
            "grid_auto_rows": null,
            "grid_column": null,
            "grid_gap": null,
            "grid_row": null,
            "grid_template_areas": null,
            "grid_template_columns": null,
            "grid_template_rows": null,
            "height": null,
            "justify_content": null,
            "justify_items": null,
            "left": null,
            "margin": null,
            "max_height": null,
            "max_width": null,
            "min_height": null,
            "min_width": null,
            "object_fit": null,
            "object_position": null,
            "order": null,
            "overflow": null,
            "overflow_x": null,
            "overflow_y": null,
            "padding": null,
            "right": null,
            "top": null,
            "visibility": null,
            "width": null
          }
        },
        "bfb450ba48414582806803bce59c268e": {
          "model_module": "@jupyter-widgets/controls",
          "model_name": "ProgressStyleModel",
          "state": {
            "_model_module": "@jupyter-widgets/controls",
            "_model_module_version": "1.5.0",
            "_model_name": "ProgressStyleModel",
            "_view_count": null,
            "_view_module": "@jupyter-widgets/base",
            "_view_module_version": "1.2.0",
            "_view_name": "StyleView",
            "bar_color": null,
            "description_width": "initial"
          }
        },
        "c13df8f668ae49468487f1ea062d4edc": {
          "model_module": "@jupyter-widgets/base",
          "model_name": "LayoutModel",
          "state": {
            "_model_module": "@jupyter-widgets/base",
            "_model_module_version": "1.2.0",
            "_model_name": "LayoutModel",
            "_view_count": null,
            "_view_module": "@jupyter-widgets/base",
            "_view_module_version": "1.2.0",
            "_view_name": "LayoutView",
            "align_content": null,
            "align_items": null,
            "align_self": null,
            "border": null,
            "bottom": null,
            "display": null,
            "flex": null,
            "flex_flow": null,
            "grid_area": null,
            "grid_auto_columns": null,
            "grid_auto_flow": null,
            "grid_auto_rows": null,
            "grid_column": null,
            "grid_gap": null,
            "grid_row": null,
            "grid_template_areas": null,
            "grid_template_columns": null,
            "grid_template_rows": null,
            "height": null,
            "justify_content": null,
            "justify_items": null,
            "left": null,
            "margin": null,
            "max_height": null,
            "max_width": null,
            "min_height": null,
            "min_width": null,
            "object_fit": null,
            "object_position": null,
            "order": null,
            "overflow": null,
            "overflow_x": null,
            "overflow_y": null,
            "padding": null,
            "right": null,
            "top": null,
            "visibility": null,
            "width": null
          }
        },
        "c16f2f140d6b4183b74fab44b7d20b2b": {
          "model_module": "@jupyter-widgets/controls",
          "model_name": "HBoxModel",
          "state": {
            "_dom_classes": [],
            "_model_module": "@jupyter-widgets/controls",
            "_model_module_version": "1.5.0",
            "_model_name": "HBoxModel",
            "_view_count": null,
            "_view_module": "@jupyter-widgets/controls",
            "_view_module_version": "1.5.0",
            "_view_name": "HBoxView",
            "box_style": "",
            "children": [
              "IPY_MODEL_dc27704fed6e4a01b9a23f9d9b3dc3df",
              "IPY_MODEL_d976392882e04bc99cc477d9520c7bcf"
            ],
            "layout": "IPY_MODEL_c3a064ce28534052b4b4abac7b395a81"
          }
        },
        "c179789d1b5d45acbc5d6ac5bab0b832": {
          "model_module": "@jupyter-widgets/controls",
          "model_name": "HBoxModel",
          "state": {
            "_dom_classes": [],
            "_model_module": "@jupyter-widgets/controls",
            "_model_module_version": "1.5.0",
            "_model_name": "HBoxModel",
            "_view_count": null,
            "_view_module": "@jupyter-widgets/controls",
            "_view_module_version": "1.5.0",
            "_view_name": "HBoxView",
            "box_style": "",
            "children": [
              "IPY_MODEL_6c720dc5f44e4ea29514581abba8622e",
              "IPY_MODEL_e76ee2831f374af7942b991c86f213d7"
            ],
            "layout": "IPY_MODEL_e9d9abef9b964776a9a021520ba4d992"
          }
        },
        "c3197ece4cd34397bf2edd566db66941": {
          "model_module": "@jupyter-widgets/controls",
          "model_name": "FloatProgressModel",
          "state": {
            "_dom_classes": [],
            "_model_module": "@jupyter-widgets/controls",
            "_model_module_version": "1.5.0",
            "_model_name": "FloatProgressModel",
            "_view_count": null,
            "_view_module": "@jupyter-widgets/controls",
            "_view_module_version": "1.5.0",
            "_view_name": "ProgressView",
            "bar_style": "success",
            "description": " #3: 100%",
            "description_tooltip": null,
            "layout": "IPY_MODEL_ab44cfdc232143209c7562e079998b10",
            "max": 3,
            "min": 0,
            "orientation": "horizontal",
            "style": "IPY_MODEL_2f9a864fab77416ea51b92ffab1a0902",
            "value": 3
          }
        },
        "c3201cfc4e0b4d82add46e49fa63ba4b": {
          "model_module": "@jupyter-widgets/controls",
          "model_name": "HBoxModel",
          "state": {
            "_dom_classes": [],
            "_model_module": "@jupyter-widgets/controls",
            "_model_module_version": "1.5.0",
            "_model_name": "HBoxModel",
            "_view_count": null,
            "_view_module": "@jupyter-widgets/controls",
            "_view_module_version": "1.5.0",
            "_view_name": "HBoxView",
            "box_style": "",
            "children": [
              "IPY_MODEL_2976d0d39ea6484684053385a3f95e42",
              "IPY_MODEL_fbd7656edf714303a0dc9a8364e55953"
            ],
            "layout": "IPY_MODEL_f1960b37902f485b980cc6c6ca11cc5a"
          }
        },
        "c3a064ce28534052b4b4abac7b395a81": {
          "model_module": "@jupyter-widgets/base",
          "model_name": "LayoutModel",
          "state": {
            "_model_module": "@jupyter-widgets/base",
            "_model_module_version": "1.2.0",
            "_model_name": "LayoutModel",
            "_view_count": null,
            "_view_module": "@jupyter-widgets/base",
            "_view_module_version": "1.2.0",
            "_view_name": "LayoutView",
            "align_content": null,
            "align_items": null,
            "align_self": null,
            "border": null,
            "bottom": null,
            "display": null,
            "flex": null,
            "flex_flow": null,
            "grid_area": null,
            "grid_auto_columns": null,
            "grid_auto_flow": null,
            "grid_auto_rows": null,
            "grid_column": null,
            "grid_gap": null,
            "grid_row": null,
            "grid_template_areas": null,
            "grid_template_columns": null,
            "grid_template_rows": null,
            "height": null,
            "justify_content": null,
            "justify_items": null,
            "left": null,
            "margin": null,
            "max_height": null,
            "max_width": null,
            "min_height": null,
            "min_width": null,
            "object_fit": null,
            "object_position": null,
            "order": null,
            "overflow": null,
            "overflow_x": null,
            "overflow_y": null,
            "padding": null,
            "right": null,
            "top": null,
            "visibility": null,
            "width": null
          }
        },
        "c6d50e8f952e455bae2bf13902960026": {
          "model_module": "@jupyter-widgets/controls",
          "model_name": "HTMLModel",
          "state": {
            "_dom_classes": [],
            "_model_module": "@jupyter-widgets/controls",
            "_model_module_version": "1.5.0",
            "_model_name": "HTMLModel",
            "_view_count": null,
            "_view_module": "@jupyter-widgets/controls",
            "_view_module_version": "1.5.0",
            "_view_name": "HTMLView",
            "description": "",
            "description_tooltip": null,
            "layout": "IPY_MODEL_33189cc9393f494082c08f62c71f5d8d",
            "placeholder": "​",
            "style": "IPY_MODEL_d3561462d3224124a63ed50cf42709f9",
            "value": " 279/279 [03:45&lt;00:00,  1.24ba/s]"
          }
        },
        "c8839901ba094c8ab415d65748d3af49": {
          "model_module": "@jupyter-widgets/controls",
          "model_name": "HBoxModel",
          "state": {
            "_dom_classes": [],
            "_model_module": "@jupyter-widgets/controls",
            "_model_module_version": "1.5.0",
            "_model_name": "HBoxModel",
            "_view_count": null,
            "_view_module": "@jupyter-widgets/controls",
            "_view_module_version": "1.5.0",
            "_view_name": "HBoxView",
            "box_style": "",
            "children": [
              "IPY_MODEL_f843e9c85ceb48fa8828986330993260",
              "IPY_MODEL_9e9f79c923b94e90abccc36283252499"
            ],
            "layout": "IPY_MODEL_245c287d72cb404f827736af171b8803"
          }
        },
        "cf61da935f8e47aa914550d8fc3207b1": {
          "model_module": "@jupyter-widgets/controls",
          "model_name": "DescriptionStyleModel",
          "state": {
            "_model_module": "@jupyter-widgets/controls",
            "_model_module_version": "1.5.0",
            "_model_name": "DescriptionStyleModel",
            "_view_count": null,
            "_view_module": "@jupyter-widgets/base",
            "_view_module_version": "1.2.0",
            "_view_name": "StyleView",
            "description_width": ""
          }
        },
        "cff729db41224f5cb11149a157c13007": {
          "model_module": "@jupyter-widgets/base",
          "model_name": "LayoutModel",
          "state": {
            "_model_module": "@jupyter-widgets/base",
            "_model_module_version": "1.2.0",
            "_model_name": "LayoutModel",
            "_view_count": null,
            "_view_module": "@jupyter-widgets/base",
            "_view_module_version": "1.2.0",
            "_view_name": "LayoutView",
            "align_content": null,
            "align_items": null,
            "align_self": null,
            "border": null,
            "bottom": null,
            "display": null,
            "flex": null,
            "flex_flow": null,
            "grid_area": null,
            "grid_auto_columns": null,
            "grid_auto_flow": null,
            "grid_auto_rows": null,
            "grid_column": null,
            "grid_gap": null,
            "grid_row": null,
            "grid_template_areas": null,
            "grid_template_columns": null,
            "grid_template_rows": null,
            "height": null,
            "justify_content": null,
            "justify_items": null,
            "left": null,
            "margin": null,
            "max_height": null,
            "max_width": null,
            "min_height": null,
            "min_width": null,
            "object_fit": null,
            "object_position": null,
            "order": null,
            "overflow": null,
            "overflow_x": null,
            "overflow_y": null,
            "padding": null,
            "right": null,
            "top": null,
            "visibility": null,
            "width": null
          }
        },
        "d06b74a1da0048dbb711c7b73b4c0af3": {
          "model_module": "@jupyter-widgets/controls",
          "model_name": "HTMLModel",
          "state": {
            "_dom_classes": [],
            "_model_module": "@jupyter-widgets/controls",
            "_model_module_version": "1.5.0",
            "_model_name": "HTMLModel",
            "_view_count": null,
            "_view_module": "@jupyter-widgets/controls",
            "_view_module_version": "1.5.0",
            "_view_name": "HTMLView",
            "description": "",
            "description_tooltip": null,
            "layout": "IPY_MODEL_404bd7661d9e43a6901a6bc12b5c6f93",
            "placeholder": "​",
            "style": "IPY_MODEL_3187736ad3714b8e81224b53f0687664",
            "value": " 380M/380M [00:16&lt;00:00, 22.5MB/s]"
          }
        },
        "d3561462d3224124a63ed50cf42709f9": {
          "model_module": "@jupyter-widgets/controls",
          "model_name": "DescriptionStyleModel",
          "state": {
            "_model_module": "@jupyter-widgets/controls",
            "_model_module_version": "1.5.0",
            "_model_name": "DescriptionStyleModel",
            "_view_count": null,
            "_view_module": "@jupyter-widgets/base",
            "_view_module_version": "1.2.0",
            "_view_name": "StyleView",
            "description_width": ""
          }
        },
        "d4656d9e97234b709166dbd4dd1d0e1d": {
          "model_module": "@jupyter-widgets/controls",
          "model_name": "HBoxModel",
          "state": {
            "_dom_classes": [],
            "_model_module": "@jupyter-widgets/controls",
            "_model_module_version": "1.5.0",
            "_model_name": "HBoxModel",
            "_view_count": null,
            "_view_module": "@jupyter-widgets/controls",
            "_view_module_version": "1.5.0",
            "_view_name": "HBoxView",
            "box_style": "",
            "children": [
              "IPY_MODEL_c3197ece4cd34397bf2edd566db66941",
              "IPY_MODEL_9cfd84cce50442d7a34c911f59cd09bb"
            ],
            "layout": "IPY_MODEL_e03afb3588174ad2bbb36a760a0cc5f3"
          }
        },
        "d976392882e04bc99cc477d9520c7bcf": {
          "model_module": "@jupyter-widgets/controls",
          "model_name": "HTMLModel",
          "state": {
            "_dom_classes": [],
            "_model_module": "@jupyter-widgets/controls",
            "_model_module_version": "1.5.0",
            "_model_name": "HTMLModel",
            "_view_count": null,
            "_view_module": "@jupyter-widgets/controls",
            "_view_module_version": "1.5.0",
            "_view_name": "HTMLView",
            "description": "",
            "description_tooltip": null,
            "layout": "IPY_MODEL_9c38ebf5864a4e8896cf002876fa7cec",
            "placeholder": "​",
            "style": "IPY_MODEL_ff209e55d853421a84770d8f9164f62c",
            "value": " 213/213 [00:01&lt;00:00, 162B/s]"
          }
        },
        "dba87e891dc545949474dd1d123ddded": {
          "model_module": "@jupyter-widgets/base",
          "model_name": "LayoutModel",
          "state": {
            "_model_module": "@jupyter-widgets/base",
            "_model_module_version": "1.2.0",
            "_model_name": "LayoutModel",
            "_view_count": null,
            "_view_module": "@jupyter-widgets/base",
            "_view_module_version": "1.2.0",
            "_view_name": "LayoutView",
            "align_content": null,
            "align_items": null,
            "align_self": null,
            "border": null,
            "bottom": null,
            "display": null,
            "flex": null,
            "flex_flow": null,
            "grid_area": null,
            "grid_auto_columns": null,
            "grid_auto_flow": null,
            "grid_auto_rows": null,
            "grid_column": null,
            "grid_gap": null,
            "grid_row": null,
            "grid_template_areas": null,
            "grid_template_columns": null,
            "grid_template_rows": null,
            "height": null,
            "justify_content": null,
            "justify_items": null,
            "left": null,
            "margin": null,
            "max_height": null,
            "max_width": null,
            "min_height": null,
            "min_width": null,
            "object_fit": null,
            "object_position": null,
            "order": null,
            "overflow": null,
            "overflow_x": null,
            "overflow_y": null,
            "padding": null,
            "right": null,
            "top": null,
            "visibility": null,
            "width": null
          }
        },
        "dc27704fed6e4a01b9a23f9d9b3dc3df": {
          "model_module": "@jupyter-widgets/controls",
          "model_name": "FloatProgressModel",
          "state": {
            "_dom_classes": [],
            "_model_module": "@jupyter-widgets/controls",
            "_model_module_version": "1.5.0",
            "_model_name": "FloatProgressModel",
            "_view_count": null,
            "_view_module": "@jupyter-widgets/controls",
            "_view_module_version": "1.5.0",
            "_view_name": "ProgressView",
            "bar_style": "success",
            "description": "Downloading: 100%",
            "description_tooltip": null,
            "layout": "IPY_MODEL_48a593d89da84f649fab9e7f87f8f767",
            "max": 213,
            "min": 0,
            "orientation": "horizontal",
            "style": "IPY_MODEL_8b853441e8c34071ba45b0f7191eb9f6",
            "value": 213
          }
        },
        "e008c7a035a843ee83b6bfdeb48581f8": {
          "model_module": "@jupyter-widgets/controls",
          "model_name": "HTMLModel",
          "state": {
            "_dom_classes": [],
            "_model_module": "@jupyter-widgets/controls",
            "_model_module_version": "1.5.0",
            "_model_name": "HTMLModel",
            "_view_count": null,
            "_view_module": "@jupyter-widgets/controls",
            "_view_module_version": "1.5.0",
            "_view_name": "HTMLView",
            "description": "",
            "description_tooltip": null,
            "layout": "IPY_MODEL_c13df8f668ae49468487f1ea062d4edc",
            "placeholder": "​",
            "style": "IPY_MODEL_fa59b9db64614d90885026b74082a3b7",
            "value": " 3/3 [00:12&lt;00:00,  4.31s/ba]"
          }
        },
        "e03afb3588174ad2bbb36a760a0cc5f3": {
          "model_module": "@jupyter-widgets/base",
          "model_name": "LayoutModel",
          "state": {
            "_model_module": "@jupyter-widgets/base",
            "_model_module_version": "1.2.0",
            "_model_name": "LayoutModel",
            "_view_count": null,
            "_view_module": "@jupyter-widgets/base",
            "_view_module_version": "1.2.0",
            "_view_name": "LayoutView",
            "align_content": null,
            "align_items": null,
            "align_self": null,
            "border": null,
            "bottom": null,
            "display": null,
            "flex": null,
            "flex_flow": null,
            "grid_area": null,
            "grid_auto_columns": null,
            "grid_auto_flow": null,
            "grid_auto_rows": null,
            "grid_column": null,
            "grid_gap": null,
            "grid_row": null,
            "grid_template_areas": null,
            "grid_template_columns": null,
            "grid_template_rows": null,
            "height": null,
            "justify_content": null,
            "justify_items": null,
            "left": null,
            "margin": null,
            "max_height": null,
            "max_width": null,
            "min_height": null,
            "min_width": null,
            "object_fit": null,
            "object_position": null,
            "order": null,
            "overflow": null,
            "overflow_x": null,
            "overflow_y": null,
            "padding": null,
            "right": null,
            "top": null,
            "visibility": null,
            "width": null
          }
        },
        "e0d8f9cbacb64b8cbd82708309653734": {
          "model_module": "@jupyter-widgets/controls",
          "model_name": "DescriptionStyleModel",
          "state": {
            "_model_module": "@jupyter-widgets/controls",
            "_model_module_version": "1.5.0",
            "_model_name": "DescriptionStyleModel",
            "_view_count": null,
            "_view_module": "@jupyter-widgets/base",
            "_view_module_version": "1.2.0",
            "_view_name": "StyleView",
            "description_width": ""
          }
        },
        "e76ee2831f374af7942b991c86f213d7": {
          "model_module": "@jupyter-widgets/controls",
          "model_name": "HTMLModel",
          "state": {
            "_dom_classes": [],
            "_model_module": "@jupyter-widgets/controls",
            "_model_module_version": "1.5.0",
            "_model_name": "HTMLModel",
            "_view_count": null,
            "_view_module": "@jupyter-widgets/controls",
            "_view_module_version": "1.5.0",
            "_view_name": "HTMLView",
            "description": "",
            "description_tooltip": null,
            "layout": "IPY_MODEL_f9307f431af0483b8529085b869d2135",
            "placeholder": "​",
            "style": "IPY_MODEL_91df691fd8d64fc08e13918ab129b04d",
            "value": " 1/? [00:00&lt;00:00, 16.31 tables/s]"
          }
        },
        "e7e6a8c03649466d875f7150e6ad5b72": {
          "model_module": "@jupyter-widgets/controls",
          "model_name": "FloatProgressModel",
          "state": {
            "_dom_classes": [],
            "_model_module": "@jupyter-widgets/controls",
            "_model_module_version": "1.5.0",
            "_model_name": "FloatProgressModel",
            "_view_count": null,
            "_view_module": "@jupyter-widgets/controls",
            "_view_module_version": "1.5.0",
            "_view_name": "ProgressView",
            "bar_style": "success",
            "description": "Downloading: 100%",
            "description_tooltip": null,
            "layout": "IPY_MODEL_42ff79e2ae01425ba0134c58e2580cc0",
            "max": 2270,
            "min": 0,
            "orientation": "horizontal",
            "style": "IPY_MODEL_bfb450ba48414582806803bce59c268e",
            "value": 2270
          }
        },
        "e9d9abef9b964776a9a021520ba4d992": {
          "model_module": "@jupyter-widgets/base",
          "model_name": "LayoutModel",
          "state": {
            "_model_module": "@jupyter-widgets/base",
            "_model_module_version": "1.2.0",
            "_model_name": "LayoutModel",
            "_view_count": null,
            "_view_module": "@jupyter-widgets/base",
            "_view_module_version": "1.2.0",
            "_view_name": "LayoutView",
            "align_content": null,
            "align_items": null,
            "align_self": null,
            "border": null,
            "bottom": null,
            "display": null,
            "flex": null,
            "flex_flow": null,
            "grid_area": null,
            "grid_auto_columns": null,
            "grid_auto_flow": null,
            "grid_auto_rows": null,
            "grid_column": null,
            "grid_gap": null,
            "grid_row": null,
            "grid_template_areas": null,
            "grid_template_columns": null,
            "grid_template_rows": null,
            "height": null,
            "justify_content": null,
            "justify_items": null,
            "left": null,
            "margin": null,
            "max_height": null,
            "max_width": null,
            "min_height": null,
            "min_width": null,
            "object_fit": null,
            "object_position": null,
            "order": null,
            "overflow": null,
            "overflow_x": null,
            "overflow_y": null,
            "padding": null,
            "right": null,
            "top": null,
            "visibility": null,
            "width": null
          }
        },
        "ea64efae2d8c4f8eb9f0475ebec11512": {
          "model_module": "@jupyter-widgets/base",
          "model_name": "LayoutModel",
          "state": {
            "_model_module": "@jupyter-widgets/base",
            "_model_module_version": "1.2.0",
            "_model_name": "LayoutModel",
            "_view_count": null,
            "_view_module": "@jupyter-widgets/base",
            "_view_module_version": "1.2.0",
            "_view_name": "LayoutView",
            "align_content": null,
            "align_items": null,
            "align_self": null,
            "border": null,
            "bottom": null,
            "display": null,
            "flex": null,
            "flex_flow": null,
            "grid_area": null,
            "grid_auto_columns": null,
            "grid_auto_flow": null,
            "grid_auto_rows": null,
            "grid_column": null,
            "grid_gap": null,
            "grid_row": null,
            "grid_template_areas": null,
            "grid_template_columns": null,
            "grid_template_rows": null,
            "height": null,
            "justify_content": null,
            "justify_items": null,
            "left": null,
            "margin": null,
            "max_height": null,
            "max_width": null,
            "min_height": null,
            "min_width": null,
            "object_fit": null,
            "object_position": null,
            "order": null,
            "overflow": null,
            "overflow_x": null,
            "overflow_y": null,
            "padding": null,
            "right": null,
            "top": null,
            "visibility": null,
            "width": null
          }
        },
        "ec4c4a4c9dd84e7a9bf33b1b87c491d0": {
          "model_module": "@jupyter-widgets/controls",
          "model_name": "DescriptionStyleModel",
          "state": {
            "_model_module": "@jupyter-widgets/controls",
            "_model_module_version": "1.5.0",
            "_model_name": "DescriptionStyleModel",
            "_view_count": null,
            "_view_module": "@jupyter-widgets/base",
            "_view_module_version": "1.2.0",
            "_view_name": "StyleView",
            "description_width": ""
          }
        },
        "edf00aba13aa4c03ab2fe52428a24a71": {
          "model_module": "@jupyter-widgets/base",
          "model_name": "LayoutModel",
          "state": {
            "_model_module": "@jupyter-widgets/base",
            "_model_module_version": "1.2.0",
            "_model_name": "LayoutModel",
            "_view_count": null,
            "_view_module": "@jupyter-widgets/base",
            "_view_module_version": "1.2.0",
            "_view_name": "LayoutView",
            "align_content": null,
            "align_items": null,
            "align_self": null,
            "border": null,
            "bottom": null,
            "display": null,
            "flex": null,
            "flex_flow": null,
            "grid_area": null,
            "grid_auto_columns": null,
            "grid_auto_flow": null,
            "grid_auto_rows": null,
            "grid_column": null,
            "grid_gap": null,
            "grid_row": null,
            "grid_template_areas": null,
            "grid_template_columns": null,
            "grid_template_rows": null,
            "height": null,
            "justify_content": null,
            "justify_items": null,
            "left": null,
            "margin": null,
            "max_height": null,
            "max_width": null,
            "min_height": null,
            "min_width": null,
            "object_fit": null,
            "object_position": null,
            "order": null,
            "overflow": null,
            "overflow_x": null,
            "overflow_y": null,
            "padding": null,
            "right": null,
            "top": null,
            "visibility": null,
            "width": null
          }
        },
        "f0dd4abf684f4804a3e51a1c0d39097d": {
          "model_module": "@jupyter-widgets/base",
          "model_name": "LayoutModel",
          "state": {
            "_model_module": "@jupyter-widgets/base",
            "_model_module_version": "1.2.0",
            "_model_name": "LayoutModel",
            "_view_count": null,
            "_view_module": "@jupyter-widgets/base",
            "_view_module_version": "1.2.0",
            "_view_name": "LayoutView",
            "align_content": null,
            "align_items": null,
            "align_self": null,
            "border": null,
            "bottom": null,
            "display": null,
            "flex": null,
            "flex_flow": null,
            "grid_area": null,
            "grid_auto_columns": null,
            "grid_auto_flow": null,
            "grid_auto_rows": null,
            "grid_column": null,
            "grid_gap": null,
            "grid_row": null,
            "grid_template_areas": null,
            "grid_template_columns": null,
            "grid_template_rows": null,
            "height": null,
            "justify_content": null,
            "justify_items": null,
            "left": null,
            "margin": null,
            "max_height": null,
            "max_width": null,
            "min_height": null,
            "min_width": null,
            "object_fit": null,
            "object_position": null,
            "order": null,
            "overflow": null,
            "overflow_x": null,
            "overflow_y": null,
            "padding": null,
            "right": null,
            "top": null,
            "visibility": null,
            "width": null
          }
        },
        "f1960b37902f485b980cc6c6ca11cc5a": {
          "model_module": "@jupyter-widgets/base",
          "model_name": "LayoutModel",
          "state": {
            "_model_module": "@jupyter-widgets/base",
            "_model_module_version": "1.2.0",
            "_model_name": "LayoutModel",
            "_view_count": null,
            "_view_module": "@jupyter-widgets/base",
            "_view_module_version": "1.2.0",
            "_view_name": "LayoutView",
            "align_content": null,
            "align_items": null,
            "align_self": null,
            "border": null,
            "bottom": null,
            "display": null,
            "flex": null,
            "flex_flow": null,
            "grid_area": null,
            "grid_auto_columns": null,
            "grid_auto_flow": null,
            "grid_auto_rows": null,
            "grid_column": null,
            "grid_gap": null,
            "grid_row": null,
            "grid_template_areas": null,
            "grid_template_columns": null,
            "grid_template_rows": null,
            "height": null,
            "justify_content": null,
            "justify_items": null,
            "left": null,
            "margin": null,
            "max_height": null,
            "max_width": null,
            "min_height": null,
            "min_width": null,
            "object_fit": null,
            "object_position": null,
            "order": null,
            "overflow": null,
            "overflow_x": null,
            "overflow_y": null,
            "padding": null,
            "right": null,
            "top": null,
            "visibility": null,
            "width": null
          }
        },
        "f3260ea2e25d44f8b5ee234101b902f0": {
          "model_module": "@jupyter-widgets/controls",
          "model_name": "HTMLModel",
          "state": {
            "_dom_classes": [],
            "_model_module": "@jupyter-widgets/controls",
            "_model_module_version": "1.5.0",
            "_model_name": "HTMLModel",
            "_view_count": null,
            "_view_module": "@jupyter-widgets/controls",
            "_view_module_version": "1.5.0",
            "_view_name": "HTMLView",
            "description": "",
            "description_tooltip": null,
            "layout": "IPY_MODEL_000485a55b4f4648a76204f3725669df",
            "placeholder": "​",
            "style": "IPY_MODEL_21e4e79ff3e7423f8e2424ee5718ffe0",
            "value": " 3/3 [00:12&lt;00:00,  4.30s/ba]"
          }
        },
        "f39fffd0194c447197833a14a1cc91df": {
          "model_module": "@jupyter-widgets/controls",
          "model_name": "HBoxModel",
          "state": {
            "_dom_classes": [],
            "_model_module": "@jupyter-widgets/controls",
            "_model_module_version": "1.5.0",
            "_model_name": "HBoxModel",
            "_view_count": null,
            "_view_module": "@jupyter-widgets/controls",
            "_view_module_version": "1.5.0",
            "_view_name": "HBoxView",
            "box_style": "",
            "children": [
              "IPY_MODEL_7bed22a6fe3a49d6a09e5950487c1267",
              "IPY_MODEL_f3260ea2e25d44f8b5ee234101b902f0"
            ],
            "layout": "IPY_MODEL_9adf97c4347940d9b804eae515afc7dd"
          }
        },
        "f83849e39ca84c3ab7cfd41db31f586f": {
          "model_module": "@jupyter-widgets/base",
          "model_name": "LayoutModel",
          "state": {
            "_model_module": "@jupyter-widgets/base",
            "_model_module_version": "1.2.0",
            "_model_name": "LayoutModel",
            "_view_count": null,
            "_view_module": "@jupyter-widgets/base",
            "_view_module_version": "1.2.0",
            "_view_name": "LayoutView",
            "align_content": null,
            "align_items": null,
            "align_self": null,
            "border": null,
            "bottom": null,
            "display": null,
            "flex": null,
            "flex_flow": null,
            "grid_area": null,
            "grid_auto_columns": null,
            "grid_auto_flow": null,
            "grid_auto_rows": null,
            "grid_column": null,
            "grid_gap": null,
            "grid_row": null,
            "grid_template_areas": null,
            "grid_template_columns": null,
            "grid_template_rows": null,
            "height": null,
            "justify_content": null,
            "justify_items": null,
            "left": null,
            "margin": null,
            "max_height": null,
            "max_width": null,
            "min_height": null,
            "min_width": null,
            "object_fit": null,
            "object_position": null,
            "order": null,
            "overflow": null,
            "overflow_x": null,
            "overflow_y": null,
            "padding": null,
            "right": null,
            "top": null,
            "visibility": null,
            "width": null
          }
        },
        "f843e9c85ceb48fa8828986330993260": {
          "model_module": "@jupyter-widgets/controls",
          "model_name": "FloatProgressModel",
          "state": {
            "_dom_classes": [],
            "_model_module": "@jupyter-widgets/controls",
            "_model_module_version": "1.5.0",
            "_model_name": "FloatProgressModel",
            "_view_count": null,
            "_view_module": "@jupyter-widgets/controls",
            "_view_module_version": "1.5.0",
            "_view_name": "ProgressView",
            "bar_style": "success",
            "description": "100%",
            "description_tooltip": null,
            "layout": "IPY_MODEL_75e6d16ae7cb40c3bea7723921f94ae9",
            "max": 2228,
            "min": 0,
            "orientation": "horizontal",
            "style": "IPY_MODEL_6146d16c791242ed8415a8ef0478b420",
            "value": 2228
          }
        },
        "f9307f431af0483b8529085b869d2135": {
          "model_module": "@jupyter-widgets/base",
          "model_name": "LayoutModel",
          "state": {
            "_model_module": "@jupyter-widgets/base",
            "_model_module_version": "1.2.0",
            "_model_name": "LayoutModel",
            "_view_count": null,
            "_view_module": "@jupyter-widgets/base",
            "_view_module_version": "1.2.0",
            "_view_name": "LayoutView",
            "align_content": null,
            "align_items": null,
            "align_self": null,
            "border": null,
            "bottom": null,
            "display": null,
            "flex": null,
            "flex_flow": null,
            "grid_area": null,
            "grid_auto_columns": null,
            "grid_auto_flow": null,
            "grid_auto_rows": null,
            "grid_column": null,
            "grid_gap": null,
            "grid_row": null,
            "grid_template_areas": null,
            "grid_template_columns": null,
            "grid_template_rows": null,
            "height": null,
            "justify_content": null,
            "justify_items": null,
            "left": null,
            "margin": null,
            "max_height": null,
            "max_width": null,
            "min_height": null,
            "min_width": null,
            "object_fit": null,
            "object_position": null,
            "order": null,
            "overflow": null,
            "overflow_x": null,
            "overflow_y": null,
            "padding": null,
            "right": null,
            "top": null,
            "visibility": null,
            "width": null
          }
        },
        "fa59b9db64614d90885026b74082a3b7": {
          "model_module": "@jupyter-widgets/controls",
          "model_name": "DescriptionStyleModel",
          "state": {
            "_model_module": "@jupyter-widgets/controls",
            "_model_module_version": "1.5.0",
            "_model_name": "DescriptionStyleModel",
            "_view_count": null,
            "_view_module": "@jupyter-widgets/base",
            "_view_module_version": "1.2.0",
            "_view_name": "StyleView",
            "description_width": ""
          }
        },
        "fa7c0c8d327e4b798db1f87915986146": {
          "model_module": "@jupyter-widgets/controls",
          "model_name": "DescriptionStyleModel",
          "state": {
            "_model_module": "@jupyter-widgets/controls",
            "_model_module_version": "1.5.0",
            "_model_name": "DescriptionStyleModel",
            "_view_count": null,
            "_view_module": "@jupyter-widgets/base",
            "_view_module_version": "1.2.0",
            "_view_name": "StyleView",
            "description_width": ""
          }
        },
        "fb73f54ebd8245a1891f9855eadbaa86": {
          "model_module": "@jupyter-widgets/controls",
          "model_name": "HBoxModel",
          "state": {
            "_dom_classes": [],
            "_model_module": "@jupyter-widgets/controls",
            "_model_module_version": "1.5.0",
            "_model_name": "HBoxModel",
            "_view_count": null,
            "_view_module": "@jupyter-widgets/controls",
            "_view_module_version": "1.5.0",
            "_view_name": "HBoxView",
            "box_style": "",
            "children": [
              "IPY_MODEL_0d940cef72aa4db08f38cb86fcc2ae78",
              "IPY_MODEL_bb447d5d406e4275a1d4676a0e19a1ef"
            ],
            "layout": "IPY_MODEL_11729cf2675d41b9b9375fae8ce38261"
          }
        },
        "fbd7656edf714303a0dc9a8364e55953": {
          "model_module": "@jupyter-widgets/controls",
          "model_name": "HTMLModel",
          "state": {
            "_dom_classes": [],
            "_model_module": "@jupyter-widgets/controls",
            "_model_module_version": "1.5.0",
            "_model_name": "HTMLModel",
            "_view_count": null,
            "_view_module": "@jupyter-widgets/controls",
            "_view_module_version": "1.5.0",
            "_view_name": "HTMLView",
            "description": "",
            "description_tooltip": null,
            "layout": "IPY_MODEL_f0dd4abf684f4804a3e51a1c0d39097d",
            "placeholder": "​",
            "style": "IPY_MODEL_01a594c84d6a456291fbf2bf22de5fab",
            "value": " 3/3 [00:13&lt;00:00,  4.34s/ba]"
          }
        },
        "fc2deb84c1124cf9b28005f8eafdcc5f": {
          "model_module": "@jupyter-widgets/base",
          "model_name": "LayoutModel",
          "state": {
            "_model_module": "@jupyter-widgets/base",
            "_model_module_version": "1.2.0",
            "_model_name": "LayoutModel",
            "_view_count": null,
            "_view_module": "@jupyter-widgets/base",
            "_view_module_version": "1.2.0",
            "_view_name": "LayoutView",
            "align_content": null,
            "align_items": null,
            "align_self": null,
            "border": null,
            "bottom": null,
            "display": null,
            "flex": null,
            "flex_flow": null,
            "grid_area": null,
            "grid_auto_columns": null,
            "grid_auto_flow": null,
            "grid_auto_rows": null,
            "grid_column": null,
            "grid_gap": null,
            "grid_row": null,
            "grid_template_areas": null,
            "grid_template_columns": null,
            "grid_template_rows": null,
            "height": null,
            "justify_content": null,
            "justify_items": null,
            "left": null,
            "margin": null,
            "max_height": null,
            "max_width": null,
            "min_height": null,
            "min_width": null,
            "object_fit": null,
            "object_position": null,
            "order": null,
            "overflow": null,
            "overflow_x": null,
            "overflow_y": null,
            "padding": null,
            "right": null,
            "top": null,
            "visibility": null,
            "width": null
          }
        },
        "ff209e55d853421a84770d8f9164f62c": {
          "model_module": "@jupyter-widgets/controls",
          "model_name": "DescriptionStyleModel",
          "state": {
            "_model_module": "@jupyter-widgets/controls",
            "_model_module_version": "1.5.0",
            "_model_name": "DescriptionStyleModel",
            "_view_count": null,
            "_view_module": "@jupyter-widgets/base",
            "_view_module_version": "1.2.0",
            "_view_name": "StyleView",
            "description_width": ""
          }
        }
      }
    }
  },
  "nbformat": 4,
  "nbformat_minor": 0
}
